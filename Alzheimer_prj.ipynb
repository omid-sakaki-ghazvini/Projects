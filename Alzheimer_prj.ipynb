{
  "cells": [
    {
      "cell_type": "markdown",
      "metadata": {
        "id": "view-in-github",
        "colab_type": "text"
      },
      "source": [
        "<a href=\"https://colab.research.google.com/github/omid-sakaki-ghazvini/Projects/blob/main/Alzheimer_prj.ipynb\" target=\"_parent\"><img src=\"https://colab.research.google.com/assets/colab-badge.svg\" alt=\"Open In Colab\"/></a>"
      ]
    },
    {
      "cell_type": "markdown",
      "id": "085b3923",
      "metadata": {
        "id": "085b3923"
      },
      "source": [
        "# 1. Install Dependencies and Setup"
      ]
    },
    {
      "cell_type": "markdown",
      "id": "e46cc135",
      "metadata": {
        "id": "e46cc135"
      },
      "source": [
        "<div style=\"direction:rtl\">\n",
        "<font color='green' size=\"5px\">\n",
        " کتابخانه های مورد نیاز را نصب میکنیم\n",
        "    </font>\n",
        "</div>"
      ]
    },
    {
      "cell_type": "code",
      "execution_count": null,
      "id": "6d7f662c",
      "metadata": {
        "id": "6d7f662c"
      },
      "outputs": [],
      "source": [
        "pip install tensorflow opencv-python matplotlib"
      ]
    },
    {
      "cell_type": "markdown",
      "id": "fd3a50f9",
      "metadata": {
        "id": "fd3a50f9"
      },
      "source": [
        "<div style=\"direction:rtl\">\n",
        "<font color='green' size=\"5px\">\n",
        " از لینک زیر دیتاست بیماری آلزایمر را دانلود کرده و در پوشه هم مسیر همین ژوپیتر نوت بوک قرار دهید\n",
        "    </font>\n",
        "</div>"
      ]
    },
    {
      "cell_type": "markdown",
      "id": "def1ee54",
      "metadata": {
        "id": "def1ee54"
      },
      "source": [
        "## https://www.kaggle.com/datasets/uraninjo/augmented-alzheimer-mri-dataset"
      ]
    },
    {
      "cell_type": "markdown",
      "id": "3b01a837",
      "metadata": {
        "id": "3b01a837"
      },
      "source": [
        "# 2. Load Data"
      ]
    },
    {
      "cell_type": "code",
      "execution_count": null,
      "id": "56e1a0f8",
      "metadata": {
        "id": "56e1a0f8"
      },
      "outputs": [],
      "source": [
        "import numpy as np\n",
        "from matplotlib import pyplot as plt"
      ]
    },
    {
      "cell_type": "markdown",
      "id": "8fb2e15f",
      "metadata": {
        "id": "8fb2e15f"
      },
      "source": [
        "<div style=\"direction:rtl\">\n",
        "<font color='green' size=\"5px\">\n",
        "توسط خط فرمان زیر، دیتا را فراخوانی میکنیم\n",
        "    </font>\n",
        "</div>"
      ]
    },
    {
      "cell_type": "code",
      "execution_count": null,
      "id": "f0bdded7",
      "metadata": {
        "id": "f0bdded7"
      },
      "outputs": [],
      "source": [
        "#data = tf.keras.utils.image_dataset_from_directory('data\\OriginalDataset')"
      ]
    },
    {
      "cell_type": "markdown",
      "id": "3f2badb3",
      "metadata": {
        "id": "3f2badb3"
      },
      "source": [
        "<div style=\"direction:rtl\">\n",
        "<font color='green' size=\"5px\">\n",
        "tf.keras.utils.image_dataset_from_directory\n",
        "    :این خط فرمان دارای متد زیر میباشد که در صورت نیاز میتوانید هنگام فراخوانی دیتا از آنها استفاده کنید\n",
        "    </font>\n",
        "    <font color='red' size=\"4px\">\n",
        "    color_mode='rgb',\n",
        "    batch_size=32,\n",
        "    image_size=(256, 256)\n",
        "    </font>\n",
        "</div>"
      ]
    },
    {
      "cell_type": "markdown",
      "id": "7187a412",
      "metadata": {
        "id": "7187a412"
      },
      "source": [
        "<div style=\"direction:rtl\">\n",
        "<font color='green' size=\"5px\">\n",
        "بطور مثال دیتا را مانند زیر فراخوانی میکنیم\n",
        "    </font>\n",
        "</div>"
      ]
    },
    {
      "cell_type": "code",
      "execution_count": null,
      "id": "535f1b43",
      "metadata": {
        "id": "535f1b43"
      },
      "outputs": [],
      "source": [
        "data = tf.keras.utils.image_dataset_from_directory('data\\OriginalDataset', image_size=(45, 45))"
      ]
    },
    {
      "cell_type": "markdown",
      "id": "8df8156a",
      "metadata": {
        "id": "8df8156a"
      },
      "source": [
        "<div style=\"direction:rtl\">\n",
        "<font color='green' size=\"5px\">\n",
        "آماده سازی دیتا\n",
        "    </font>\n",
        "</div>"
      ]
    },
    {
      "cell_type": "code",
      "execution_count": null,
      "id": "8bb9caf2",
      "metadata": {
        "id": "8bb9caf2"
      },
      "outputs": [],
      "source": [
        "data_iterator = data.as_numpy_iterator()"
      ]
    },
    {
      "cell_type": "code",
      "execution_count": null,
      "id": "95844e17",
      "metadata": {
        "id": "95844e17"
      },
      "outputs": [],
      "source": [
        "batch = data_iterator.next()"
      ]
    },
    {
      "cell_type": "code",
      "execution_count": null,
      "id": "fcdd7bce",
      "metadata": {
        "id": "fcdd7bce"
      },
      "outputs": [],
      "source": [
        "#images array\n",
        "batch[0].shape"
      ]
    },
    {
      "cell_type": "code",
      "execution_count": null,
      "id": "8c09367e",
      "metadata": {
        "id": "8c09367e"
      },
      "outputs": [],
      "source": [
        "#labels array\n",
        "batch[1]"
      ]
    },
    {
      "cell_type": "code",
      "execution_count": null,
      "id": "1f4f9ba0",
      "metadata": {
        "id": "1f4f9ba0"
      },
      "outputs": [],
      "source": [
        "fig, ax = plt.subplots(ncols=4, figsize=(20,20))\n",
        "for idx, img in enumerate(batch[0][:4]):\n",
        "    ax[idx].imshow(img.astype(int))\n",
        "    ax[idx].title.set_text(batch[1][idx])"
      ]
    },
    {
      "cell_type": "markdown",
      "id": "62e052e8",
      "metadata": {
        "id": "62e052e8"
      },
      "source": [
        "# 3. Scale Data"
      ]
    },
    {
      "cell_type": "markdown",
      "id": "665ba2f4",
      "metadata": {
        "id": "665ba2f4"
      },
      "source": [
        "<div style=\"direction:rtl\">\n",
        "<font color='green' size=\"5px\">\n",
        " نرمالسازی دیتا\n",
        "    </font>\n",
        "</div>"
      ]
    },
    {
      "cell_type": "code",
      "execution_count": null,
      "id": "63fdf297",
      "metadata": {
        "id": "63fdf297"
      },
      "outputs": [],
      "source": [
        "data = data.map(lambda x,y: (x/255, tf.keras.utils.to_categorical(y, 4)))"
      ]
    },
    {
      "cell_type": "markdown",
      "id": "e47af533",
      "metadata": {
        "id": "e47af533"
      },
      "source": [
        "<div style=\"direction:rtl\">\n",
        "<font color='red' size=\"4px\">\n",
        "توسط خط کد بالا، همزمان مقادیر پیکسل تصاویر با تقسیم بر 255 به بازه بین 0 تا 1 میرود و همچنین با استفاده از تابع\n",
        "    tf.keras.utils.to_categorical\n",
        "    با روش\n",
        "    one hot\n",
        "    مقادیر لیبل تصاویر را نیز نرمالسازی میکنیم تا آماده استفاده در شبکه شود.\n",
        "    </font>\n",
        "</div>"
      ]
    },
    {
      "cell_type": "code",
      "execution_count": null,
      "id": "258ccc90",
      "metadata": {
        "id": "258ccc90"
      },
      "outputs": [],
      "source": [
        "scaled_iterator = data.as_numpy_iterator()"
      ]
    },
    {
      "cell_type": "code",
      "execution_count": null,
      "id": "ba79a09e",
      "metadata": {
        "id": "ba79a09e"
      },
      "outputs": [],
      "source": [
        "batch = scaled_iterator.next()"
      ]
    },
    {
      "cell_type": "code",
      "execution_count": null,
      "id": "c2a59bae",
      "metadata": {
        "id": "c2a59bae"
      },
      "outputs": [],
      "source": [
        "fig, ax = plt.subplots(ncols=4, figsize=(20,20))\n",
        "for idx, img in enumerate(batch[0][:4]):\n",
        "    ax[idx].imshow(img)\n",
        "    ax[idx].title.set_text(batch[1][idx])"
      ]
    },
    {
      "cell_type": "markdown",
      "id": "e41cd861",
      "metadata": {
        "id": "e41cd861"
      },
      "source": [
        "# 4. Split Data"
      ]
    },
    {
      "cell_type": "code",
      "execution_count": null,
      "id": "bfeef5ee",
      "metadata": {
        "id": "bfeef5ee"
      },
      "outputs": [],
      "source": [
        "len(data)"
      ]
    },
    {
      "cell_type": "code",
      "execution_count": null,
      "id": "c08fceb0",
      "metadata": {
        "id": "c08fceb0"
      },
      "outputs": [],
      "source": [
        "train_size = int(len(data)*.7)\n",
        "val_size = int(len(data)*.2)\n",
        "test_size = int(len(data)*.1)"
      ]
    },
    {
      "cell_type": "code",
      "execution_count": null,
      "id": "957d81b4",
      "metadata": {
        "id": "957d81b4"
      },
      "outputs": [],
      "source": [
        "train = data.take(train_size)\n",
        "val = data.skip(train_size).take(val_size)\n",
        "test = data.skip(train_size+val_size).take(test_size)"
      ]
    },
    {
      "cell_type": "code",
      "execution_count": null,
      "id": "62ef78a5",
      "metadata": {
        "id": "62ef78a5"
      },
      "outputs": [],
      "source": [
        "print(len(train))\n",
        "print(len(val))\n",
        "print(len(test))"
      ]
    },
    {
      "cell_type": "markdown",
      "id": "499bb918",
      "metadata": {
        "id": "499bb918"
      },
      "source": [
        "# 5. Build Deep Learning Model"
      ]
    },
    {
      "cell_type": "markdown",
      "id": "c2f6fae4",
      "metadata": {
        "id": "c2f6fae4"
      },
      "source": [
        "<div style=\"direction:rtl\">\n",
        "<font color='green' size=\"5px\">\n",
        "در این مرحله یک شبکه کانولوشنال طراحی میشود و نتایج آن بررسی میشود. در مرحله بعد با استفاده از مفاهیم یادگیری انتقالی از وزنهای یک مدل از پیش آموزش دیده استفاده خواهیم کرد\n",
        "    </font>\n",
        "</div>"
      ]
    },
    {
      "cell_type": "code",
      "execution_count": null,
      "id": "e6201f72",
      "metadata": {
        "id": "e6201f72"
      },
      "outputs": [],
      "source": [
        "model_cnn = Sequential()\n",
        "\n",
        "model_cnn.add(Conv2D(32, kernel_size=(3, 3), activation='relu', input_shape=(45, 45, 3)))\n",
        "model_cnn.add(Conv2D(64, (3, 3), activation='relu'))\n",
        "model_cnn.add(MaxPooling2D(pool_size=(2, 2)))\n",
        "model_cnn.add(Dropout(0.25))\n",
        "\n",
        "model_cnn.add(Flatten())\n",
        "\n",
        "model_cnn.add(Dense(128, activation='relu'))\n",
        "model_cnn.add(Dropout(0.5))\n",
        "model_cnn.add(Dense(4, activation='softmax'))\n",
        "\n",
        "model_cnn.compile(optimizer=tf.optimizers.Adadelta(), loss=tf.losses.categorical_crossentropy, metrics=['accuracy'])\n",
        "\n",
        "model_cnn.summary()"
      ]
    },
    {
      "cell_type": "markdown",
      "id": "2b085206",
      "metadata": {
        "id": "2b085206"
      },
      "source": [
        "# 6. Train Model"
      ]
    },
    {
      "cell_type": "code",
      "execution_count": null,
      "id": "4ea483a2",
      "metadata": {
        "id": "4ea483a2"
      },
      "outputs": [],
      "source": [
        "logdir='logs'"
      ]
    },
    {
      "cell_type": "code",
      "execution_count": null,
      "id": "076e80d3",
      "metadata": {
        "id": "076e80d3"
      },
      "outputs": [],
      "source": [
        "tensorboard_callback = tf.keras.callbacks.TensorBoard(log_dir=logdir)"
      ]
    },
    {
      "cell_type": "code",
      "execution_count": null,
      "id": "7921c193",
      "metadata": {
        "id": "7921c193"
      },
      "outputs": [],
      "source": [
        "hist=model_cnn.fit(train, epochs=100, validation_data=val, callbacks=[tensorboard_callback])"
      ]
    },
    {
      "cell_type": "markdown",
      "id": "de11d7e0",
      "metadata": {
        "id": "de11d7e0"
      },
      "source": [
        "# 7. Plot Performance"
      ]
    },
    {
      "cell_type": "code",
      "execution_count": null,
      "id": "c04a65e7",
      "metadata": {
        "id": "c04a65e7"
      },
      "outputs": [],
      "source": [
        "fig = plt.figure()\n",
        "plt.plot(hist.history['loss'], color='teal', label='loss')\n",
        "plt.plot(hist.history['val_loss'], color='orange', label='val_loss')\n",
        "fig.suptitle('Loss', fontsize=20)\n",
        "plt.legend(loc=\"upper left\")\n",
        "plt.show()"
      ]
    },
    {
      "cell_type": "code",
      "execution_count": null,
      "id": "97e91e4a",
      "metadata": {
        "id": "97e91e4a"
      },
      "outputs": [],
      "source": [
        "fig = plt.figure()\n",
        "plt.plot(hist.history['accuracy'], color='teal', label='accuracy')\n",
        "plt.plot(hist.history['val_accuracy'], color='orange', label='val_accuracy')\n",
        "fig.suptitle('Accuracy', fontsize=20)\n",
        "plt.legend(loc=\"upper left\")\n",
        "plt.show()"
      ]
    },
    {
      "cell_type": "markdown",
      "id": "1ecb2ae2",
      "metadata": {
        "id": "1ecb2ae2"
      },
      "source": [
        "# 8. Evaluate"
      ]
    },
    {
      "cell_type": "code",
      "execution_count": null,
      "id": "769a9d63",
      "metadata": {
        "id": "769a9d63"
      },
      "outputs": [],
      "source": [
        "from tensorflow.keras.metrics import Precision, Recall, CategoricalAccuracy\n",
        "\n",
        "pre = Precision()\n",
        "re = Recall()\n",
        "acc = CategoricalAccuracy()"
      ]
    },
    {
      "cell_type": "code",
      "execution_count": null,
      "id": "56c97e9e",
      "metadata": {
        "id": "56c97e9e"
      },
      "outputs": [],
      "source": [
        "for batch in test.as_numpy_iterator():\n",
        "    X, y = batch\n",
        "    yhat = model_cnn.predict(X)\n",
        "    pre.update_state(y, yhat)\n",
        "    re.update_state(y, yhat)\n",
        "    acc.update_state(y, yhat)"
      ]
    },
    {
      "cell_type": "code",
      "execution_count": null,
      "id": "1d03c750",
      "metadata": {
        "id": "1d03c750"
      },
      "outputs": [],
      "source": [
        "print(pre.result(), re.result(), acc.result())"
      ]
    },
    {
      "cell_type": "markdown",
      "id": "653259bc",
      "metadata": {
        "id": "653259bc"
      },
      "source": [
        "# 9. Test"
      ]
    },
    {
      "cell_type": "code",
      "execution_count": null,
      "id": "4f8a6d8a",
      "metadata": {
        "id": "4f8a6d8a"
      },
      "outputs": [],
      "source": [
        "import cv2\n",
        "\n",
        "img = cv2.imread('data/OriginalDataset/MildDemented/26 (23).jpg')\n",
        "plt.imshow(img)\n",
        "plt.show()"
      ]
    },
    {
      "cell_type": "code",
      "execution_count": null,
      "id": "d7da1657",
      "metadata": {
        "id": "d7da1657"
      },
      "outputs": [],
      "source": [
        "def pred_alza(img):\n",
        "  resize = tf.image.resize(img, (45,45))\n",
        "  yhat=new_model.predict(np.expand_dims(resize/255, 0))\n",
        "  id_label = []\n",
        "  for i in yhat[0]:\n",
        "    if i < yhat[0].max():\n",
        "      id_label.append(0)\n",
        "    else:\n",
        "      id_label.append(1)\n",
        "\n",
        "  id_label = id_label\n",
        "  name_label = ['MildDemented','ModerateDemented','NonDemented', 'VeryMildDemented']\n",
        "  temp = list(zip(id_label, name_label))\n",
        "  for i in range(len(temp)):\n",
        "    if temp[i][0]==1:\n",
        "      label = temp[i][1]\n",
        "\n",
        "  return(label)"
      ]
    },
    {
      "cell_type": "markdown",
      "id": "c6b38b1a",
      "metadata": {
        "id": "c6b38b1a"
      },
      "source": [
        "<div style=\"direction:rtl\">\n",
        "<font color='green' size=\"5px\">\n",
        "همانطور که مشخص است، با این ساختار، بالاترین دقتی که بدست می آید کمتر از 50 درصد میباشد که غیر قابل قبول است.\n",
        "    </font>\n",
        "</div>"
      ]
    },
    {
      "cell_type": "markdown",
      "id": "856e139f",
      "metadata": {
        "id": "856e139f"
      },
      "source": [
        "# 10. Transfer learning"
      ]
    },
    {
      "cell_type": "markdown",
      "id": "9c951897",
      "metadata": {
        "id": "9c951897"
      },
      "source": [
        "<div style=\"direction:rtl\">\n",
        "<font color='green' size=\"5px\">\n",
        "همانطور که از نتیجه تست مدل مشخص شد، استفاده از چند لایه شبکه کانولوشنال جواب مطلوب نمیدهد. به همین خاطر طبق مطالب آموزشی که در سایت بصورت رایگان موجود است، در این قسمت از مفهوم یادگیری انتقالی و مدل\n",
        "    DenseNet201\n",
        "    استفاده خواهیم کرد.\n",
        "    </font>\n",
        "</div>"
      ]
    },
    {
      "cell_type": "code",
      "execution_count": null,
      "id": "62cb8d28",
      "metadata": {
        "id": "62cb8d28"
      },
      "outputs": [],
      "source": [
        "import tensorflow as tf\n",
        "from keras.applications import DenseNet201\n",
        "from keras.models import Model\n",
        "from keras.layers import Dense, GlobalAveragePooling2D\n",
        "\n",
        "base_model = DenseNet201(weights='imagenet', include_top=False, input_shape=(45, 45, 3), pooling=None)"
      ]
    },
    {
      "cell_type": "code",
      "execution_count": null,
      "id": "508c560b",
      "metadata": {
        "id": "508c560b"
      },
      "outputs": [],
      "source": [
        "x = base_model.output\n",
        "\n",
        "x = GlobalAveragePooling2D()(x)\n",
        "\n",
        "x = Dense(1024, activation='relu')(x)  # Add your custom dense layers here\n",
        "\n",
        "predictions = Dense(4, activation='softmax')(x)\n",
        "\n",
        "model = Model(inputs=base_model.input, outputs=predictions)\n",
        "\n",
        "for layer in base_model.layers:\n",
        "    layer.trainable = False\n"
      ]
    },
    {
      "cell_type": "code",
      "execution_count": null,
      "id": "b336a906",
      "metadata": {
        "id": "b336a906"
      },
      "outputs": [],
      "source": [
        "# Compile the model\n",
        "model.compile('adam', loss=tf.losses.categorical_crossentropy, metrics=['accuracy'])"
      ]
    },
    {
      "cell_type": "code",
      "execution_count": null,
      "id": "8ba57ab2",
      "metadata": {
        "id": "8ba57ab2"
      },
      "outputs": [],
      "source": [
        "logdir='logs_resnet'"
      ]
    },
    {
      "cell_type": "code",
      "execution_count": null,
      "id": "aec7cdca",
      "metadata": {
        "id": "aec7cdca"
      },
      "outputs": [],
      "source": [
        "tensorboard_callback = tf.keras.callbacks.TensorBoard(log_dir=logdir)"
      ]
    },
    {
      "cell_type": "code",
      "execution_count": null,
      "id": "e1d8af9d",
      "metadata": {
        "id": "e1d8af9d"
      },
      "outputs": [],
      "source": [
        "hist_DenseNet=model.fit(train, epochs=100, validation_data=val, callbacks=[tensorboard_callback])"
      ]
    },
    {
      "cell_type": "markdown",
      "id": "96b892ff",
      "metadata": {
        "id": "96b892ff"
      },
      "source": [
        "# 11. Plot Performance"
      ]
    },
    {
      "cell_type": "code",
      "execution_count": null,
      "id": "f12186b2",
      "metadata": {
        "id": "f12186b2"
      },
      "outputs": [],
      "source": [
        "fig = plt.figure()\n",
        "plt.plot(hist_DenseNet.history['loss'], color='teal', label='loss')\n",
        "plt.plot(hist_DenseNet.history['val_loss'], color='orange', label='val_loss')\n",
        "fig.suptitle('Loss', fontsize=20)\n",
        "plt.legend(loc=\"upper left\")\n",
        "plt.show()"
      ]
    },
    {
      "cell_type": "code",
      "execution_count": null,
      "id": "f9d8ff4c",
      "metadata": {
        "id": "f9d8ff4c"
      },
      "outputs": [],
      "source": [
        "fig = plt.figure()\n",
        "plt.plot(hist_DenseNet.history['accuracy'], color='teal', label='accuracy')\n",
        "plt.plot(hist_DenseNet.history['val_accuracy'], color='orange', label='val_accuracy')\n",
        "fig.suptitle('Accuracy', fontsize=20)\n",
        "plt.legend(loc=\"upper left\")\n",
        "plt.show()"
      ]
    },
    {
      "cell_type": "markdown",
      "id": "120f9cda",
      "metadata": {
        "id": "120f9cda"
      },
      "source": [
        "# 12. Evaluate"
      ]
    },
    {
      "cell_type": "code",
      "execution_count": null,
      "id": "1d93d9f6",
      "metadata": {
        "id": "1d93d9f6"
      },
      "outputs": [],
      "source": [
        "from tensorflow.keras.metrics import Precision, Recall, CategoricalAccuracy\n",
        "\n",
        "pre = Precision()\n",
        "re = Recall()\n",
        "acc = CategoricalAccuracy()"
      ]
    },
    {
      "cell_type": "code",
      "execution_count": null,
      "id": "b8f3a32e",
      "metadata": {
        "id": "b8f3a32e"
      },
      "outputs": [],
      "source": [
        "for batch in test.as_numpy_iterator():\n",
        "    X, y = batch\n",
        "    yhat = model_resnet.predict(X)\n",
        "    pre.update_state(y, yhat)\n",
        "    re.update_state(y, yhat)\n",
        "    acc.update_state(y, yhat)"
      ]
    },
    {
      "cell_type": "code",
      "execution_count": null,
      "id": "c3f5b395",
      "metadata": {
        "id": "c3f5b395"
      },
      "outputs": [],
      "source": [
        "print(pre.result(), re.result(), acc.result())"
      ]
    },
    {
      "cell_type": "markdown",
      "id": "f5e9443f",
      "metadata": {
        "id": "f5e9443f"
      },
      "source": [
        "<div style=\"direction:rtl\">\n",
        "<font color='green' size=\"5px\">\n",
        "همانطور که مشخص است، با یادگیری انتقالی، بالاترین دقتی که بدست می آید حداقل 85 درصد میباشد که قابل قبول است.\n",
        "    </font>\n",
        "</div>"
      ]
    },
    {
      "cell_type": "markdown",
      "id": "e00d6d8e",
      "metadata": {
        "id": "e00d6d8e"
      },
      "source": [
        "# 13. Test"
      ]
    },
    {
      "cell_type": "code",
      "execution_count": null,
      "id": "22ae61a1",
      "metadata": {
        "id": "22ae61a1"
      },
      "outputs": [],
      "source": [
        "import cv2\n",
        "\n",
        "img = cv2.imread('data/OriginalDataset/MildDemented/26 (23).jpg')\n",
        "plt.imshow(img)\n",
        "plt.show()"
      ]
    },
    {
      "cell_type": "code",
      "execution_count": null,
      "id": "093a8a7e",
      "metadata": {
        "id": "093a8a7e"
      },
      "outputs": [],
      "source": [
        "def pred_alza(img):\n",
        "  resize = tf.image.resize(img, (45,45))\n",
        "  yhat=new_model.predict(np.expand_dims(resize/255, 0))\n",
        "  id_label = []\n",
        "  for i in yhat[0]:\n",
        "    if i < yhat[0].max():\n",
        "      id_label.append(0)\n",
        "    else:\n",
        "      id_label.append(1)\n",
        "\n",
        "  id_label = id_label\n",
        "  name_label = ['MildDemented','ModerateDemented','NonDemented', 'VeryMildDemented']\n",
        "  temp = list(zip(id_label, name_label))\n",
        "  for i in range(len(temp)):\n",
        "    if temp[i][0]==1:\n",
        "      label = temp[i][1]\n",
        "\n",
        "  return(label)"
      ]
    },
    {
      "cell_type": "markdown",
      "id": "560090e5",
      "metadata": {
        "id": "560090e5"
      },
      "source": [
        "# 14. Save the Model"
      ]
    },
    {
      "cell_type": "code",
      "execution_count": null,
      "id": "a6d98462",
      "metadata": {
        "id": "a6d98462"
      },
      "outputs": [],
      "source": [
        "from tensorflow.keras.models import load_model"
      ]
    },
    {
      "cell_type": "code",
      "execution_count": null,
      "id": "fa6adc15",
      "metadata": {
        "id": "fa6adc15"
      },
      "outputs": [],
      "source": [
        "model.save(os.path.join('/','image_alz_classifier.h5'))"
      ]
    },
    {
      "cell_type": "markdown",
      "id": "5859994f",
      "metadata": {
        "id": "5859994f"
      },
      "source": [
        "# 15. Load Model"
      ]
    },
    {
      "cell_type": "code",
      "execution_count": null,
      "id": "647312de",
      "metadata": {
        "id": "647312de"
      },
      "outputs": [],
      "source": [
        "from tensorflow.keras.models import load_model\n",
        "import tensorflow as tf\n",
        "import numpy as np"
      ]
    },
    {
      "cell_type": "code",
      "execution_count": null,
      "id": "a9c8b14b",
      "metadata": {
        "id": "a9c8b14b",
        "outputId": "7d696608-1f70-4e04-bf5e-c6fdef192194"
      },
      "outputs": [
        {
          "name": "stderr",
          "output_type": "stream",
          "text": [
            "WARNING:absl:Compiled the loaded model, but the compiled metrics have yet to be built. `model.compile_metrics` will be empty until you train or evaluate the model.\n"
          ]
        }
      ],
      "source": [
        "new_model = load_model('image_alz_classifier.h5')"
      ]
    },
    {
      "cell_type": "markdown",
      "id": "374d101f",
      "metadata": {
        "id": "374d101f"
      },
      "source": [
        "<div style=\"direction:rtl\">\n",
        "<font color='green' size=\"5px\">\n",
        "فایل مدل آموزش داده شده که با پسوند\n",
        "    h5\n",
        "    در داخل فایل موجود است. آن را لود کرده و مثالها را بررسی نمایید\n",
        "    </font>\n",
        "</div>"
      ]
    },
    {
      "cell_type": "code",
      "execution_count": null,
      "id": "b40158a5",
      "metadata": {
        "id": "b40158a5"
      },
      "outputs": [],
      "source": [
        "def pred_alza(img):\n",
        "  resize = tf.image.resize(img, (45,45))\n",
        "  yhat=new_model.predict(np.expand_dims(resize/255, 0))\n",
        "  id_label = []\n",
        "  for i in yhat[0]:\n",
        "    if i < yhat[0].max():\n",
        "      id_label.append(0)\n",
        "    else:\n",
        "      id_label.append(1)\n",
        "\n",
        "  id_label = id_label\n",
        "  name_label = ['MildDemented','ModerateDemented','NonDemented', 'VeryMildDemented']\n",
        "  temp = list(zip(id_label, name_label))\n",
        "  for i in range(len(temp)):\n",
        "    if temp[i][0]==1:\n",
        "      label = temp[i][1]\n",
        "\n",
        "  return(label)"
      ]
    },
    {
      "cell_type": "code",
      "source": [
        "import cv2\n",
        "from matplotlib import pyplot as plt\n",
        "\n",
        "img = cv2.imread('data_for_test_models/OriginalDataset/MildDemented/26 (19).jpg')\n",
        "label = pred_alza(img)\n",
        "plt.imshow(img)\n",
        "plt.title(label)\n",
        "plt.show()"
      ],
      "metadata": {
        "id": "egMk8fUlEw20"
      },
      "id": "egMk8fUlEw20",
      "execution_count": null,
      "outputs": []
    },
    {
      "cell_type": "code",
      "source": [
        "import cv2\n",
        "from matplotlib import pyplot as plt\n",
        "\n",
        "img = cv2.imread('data_for_test_models/OriginalDataset/ModerateDemented/27 (2).jpg')\n",
        "label = pred_alza(img)\n",
        "plt.imshow(img)\n",
        "plt.title(label)\n",
        "plt.show()"
      ],
      "metadata": {
        "id": "ELF5CEa9Ez00"
      },
      "id": "ELF5CEa9Ez00",
      "execution_count": null,
      "outputs": []
    },
    {
      "cell_type": "code",
      "source": [
        "import cv2\n",
        "from matplotlib import pyplot as plt\n",
        "\n",
        "img = cv2.imread('data_for_test_models/OriginalDataset/NonDemented/26 (62).jpg')\n",
        "label = pred_alza(img)\n",
        "plt.imshow(img)\n",
        "plt.title(label)\n",
        "plt.show()"
      ],
      "metadata": {
        "id": "aOYKRvelE2ei"
      },
      "id": "aOYKRvelE2ei",
      "execution_count": null,
      "outputs": []
    },
    {
      "cell_type": "code",
      "source": [
        "import cv2\n",
        "from matplotlib import pyplot as plt\n",
        "\n",
        "img = cv2.imread('data_for_test_models/OriginalDataset/VeryMildDemented/26 (44).jpg')\n",
        "label = pred_alza(img)\n",
        "plt.imshow(img)\n",
        "plt.title(label)\n",
        "plt.show()"
      ],
      "metadata": {
        "id": "rJFisslkE4rV"
      },
      "id": "rJFisslkE4rV",
      "execution_count": null,
      "outputs": []
    },
    {
      "cell_type": "markdown",
      "id": "e94cc33e",
      "metadata": {
        "id": "e94cc33e"
      },
      "source": [
        "<div style=\"direction:rtl\">\n",
        "<font color='green' size=\"5px\">\n",
        "همانطور که از مثالها مشخص است، مدل بسیار دقیق تشخیص را انجام میدهد\n",
        "    </font>\n",
        "</div>"
      ]
    }
  ],
  "metadata": {
    "kernelspec": {
      "display_name": "Python 3 (ipykernel)",
      "language": "python",
      "name": "python3"
    },
    "language_info": {
      "codemirror_mode": {
        "name": "ipython",
        "version": 3
      },
      "file_extension": ".py",
      "mimetype": "text/x-python",
      "name": "python",
      "nbconvert_exporter": "python",
      "pygments_lexer": "ipython3",
      "version": "3.11.5"
    },
    "colab": {
      "provenance": [],
      "include_colab_link": true
    }
  },
  "nbformat": 4,
  "nbformat_minor": 5
}