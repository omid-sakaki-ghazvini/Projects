{
 "cells": [
  {
   "cell_type": "code",
   "execution_count": 1,
   "id": "8fbcf72a",
   "metadata": {
    "_cell_guid": "b1076dfc-b9ad-4769-8c92-a6c4dae69d19",
    "_uuid": "8f2839f25d086af736a60e9eeb907d3b93b6e0e5",
    "execution": {
     "iopub.execute_input": "2024-12-16T12:51:17.133771Z",
     "iopub.status.busy": "2024-12-16T12:51:17.133036Z",
     "iopub.status.idle": "2024-12-16T12:51:18.258011Z",
     "shell.execute_reply": "2024-12-16T12:51:18.256656Z"
    },
    "papermill": {
     "duration": 1.139012,
     "end_time": "2024-12-16T12:51:18.260279",
     "exception": false,
     "start_time": "2024-12-16T12:51:17.121267",
     "status": "completed"
    },
    "tags": []
   },
   "outputs": [
    {
     "name": "stdout",
     "output_type": "stream",
     "text": [
      "/kaggle/input/handwritten-persian-numerals/train.csv\n",
      "/kaggle/input/handwritten-persian-numerals/test.csv\n"
     ]
    }
   ],
   "source": [
    "# This Python 3 environment comes with many helpful analytics libraries installed\n",
    "# It is defined by the kaggle/python Docker image: https://github.com/kaggle/docker-python\n",
    "# For example, here's several helpful packages to load\n",
    "\n",
    "import numpy as np # linear algebra\n",
    "import pandas as pd # data processing, CSV file I/O (e.g. pd.read_csv)\n",
    "\n",
    "# Input data files are available in the read-only \"../input/\" directory\n",
    "# For example, running this (by clicking run or pressing Shift+Enter) will list all files under the input directory\n",
    "\n",
    "import os\n",
    "for dirname, _, filenames in os.walk('/kaggle/input'):\n",
    "    for filename in filenames:\n",
    "        print(os.path.join(dirname, filename))\n",
    "\n",
    "# You can write up to 20GB to the current directory (/kaggle/working/) that gets preserved as output when you create a version using \"Save & Run All\" \n",
    "# You can also write temporary files to /kaggle/temp/, but they won't be saved outside of the current session"
   ]
  },
  {
   "cell_type": "markdown",
   "id": "bee8f66e",
   "metadata": {
    "papermill": {
     "duration": 0.00612,
     "end_time": "2024-12-16T12:51:18.273282",
     "exception": false,
     "start_time": "2024-12-16T12:51:18.267162",
     "status": "completed"
    },
    "tags": []
   },
   "source": [
    "# **1- Importing Required Libraries**"
   ]
  },
  {
   "cell_type": "code",
   "execution_count": 2,
   "id": "56f715d9",
   "metadata": {
    "execution": {
     "iopub.execute_input": "2024-12-16T12:51:18.289622Z",
     "iopub.status.busy": "2024-12-16T12:51:18.289078Z",
     "iopub.status.idle": "2024-12-16T12:51:25.985555Z",
     "shell.execute_reply": "2024-12-16T12:51:25.984203Z"
    },
    "papermill": {
     "duration": 7.70737,
     "end_time": "2024-12-16T12:51:25.988236",
     "exception": false,
     "start_time": "2024-12-16T12:51:18.280866",
     "status": "completed"
    },
    "tags": []
   },
   "outputs": [],
   "source": [
    "import os\n",
    "from PIL import Image\n",
    "import torch\n",
    "from torch import nn\n",
    "from torch.autograd import Variable\n",
    "from torch.utils.data import DataLoader, Dataset\n",
    "from torchvision import models, transforms\n",
    "import torch.optim as optim\n",
    "import torchvision\n",
    "from torchvision import transforms\n",
    "from torchvision.utils import make_grid\n",
    "import matplotlib.pyplot as plt\n",
    "from matplotlib.pyplot import figure\n",
    "from sklearn.manifold import TSNE\n",
    "from tqdm import tqdm\n",
    "import torch.optim as optim\n",
    "import torch.nn.functional as F\n",
    "from torch.optim.lr_scheduler import ExponentialLR"
   ]
  },
  {
   "cell_type": "markdown",
   "id": "d78bc5fe",
   "metadata": {
    "papermill": {
     "duration": 0.006151,
     "end_time": "2024-12-16T12:51:26.000965",
     "exception": false,
     "start_time": "2024-12-16T12:51:25.994814",
     "status": "completed"
    },
    "tags": []
   },
   "source": [
    "# **2- Loading Handwritten Persian numerals dataset**"
   ]
  },
  {
   "cell_type": "code",
   "execution_count": 3,
   "id": "fc0ec950",
   "metadata": {
    "execution": {
     "iopub.execute_input": "2024-12-16T12:51:26.015805Z",
     "iopub.status.busy": "2024-12-16T12:51:26.015199Z",
     "iopub.status.idle": "2024-12-16T12:51:26.023886Z",
     "shell.execute_reply": "2024-12-16T12:51:26.022815Z"
    },
    "papermill": {
     "duration": 0.018627,
     "end_time": "2024-12-16T12:51:26.025914",
     "exception": false,
     "start_time": "2024-12-16T12:51:26.007287",
     "status": "completed"
    },
    "tags": []
   },
   "outputs": [],
   "source": [
    "class MNISTDataset(Dataset):\n",
    "    def __init__(self, csv_file, transform=None):\n",
    "        self.data = pd.read_csv(csv_file)\n",
    "        self.transform = transform\n",
    "\n",
    "    def __len__(self):\n",
    "        return len(self.data)\n",
    "\n",
    "    def __getitem__(self, idx):\n",
    "        image = self.data.iloc[idx, 1:].values.astype('float32').reshape(1,28, 28)\n",
    "        label = self.data.iloc[idx, 0]\n",
    "\n",
    "        if self.transform:\n",
    "            image = self.transform(image)\n",
    "\n",
    "        return image, label"
   ]
  },
  {
   "cell_type": "code",
   "execution_count": 4,
   "id": "c20a5331",
   "metadata": {
    "execution": {
     "iopub.execute_input": "2024-12-16T12:51:26.040371Z",
     "iopub.status.busy": "2024-12-16T12:51:26.039951Z",
     "iopub.status.idle": "2024-12-16T12:51:26.271904Z",
     "shell.execute_reply": "2024-12-16T12:51:26.270354Z"
    },
    "papermill": {
     "duration": 0.242216,
     "end_time": "2024-12-16T12:51:26.274604",
     "exception": false,
     "start_time": "2024-12-16T12:51:26.032388",
     "status": "completed"
    },
    "tags": []
   },
   "outputs": [],
   "source": [
    "train_dataset = MNISTDataset('/kaggle/input/handwritten-persian-numerals/train.csv')\n",
    "test_dataset = MNISTDataset('/kaggle/input/handwritten-persian-numerals/test.csv')"
   ]
  },
  {
   "cell_type": "code",
   "execution_count": 5,
   "id": "353736cb",
   "metadata": {
    "execution": {
     "iopub.execute_input": "2024-12-16T12:51:26.289215Z",
     "iopub.status.busy": "2024-12-16T12:51:26.288840Z",
     "iopub.status.idle": "2024-12-16T12:51:26.294716Z",
     "shell.execute_reply": "2024-12-16T12:51:26.293435Z"
    },
    "papermill": {
     "duration": 0.015695,
     "end_time": "2024-12-16T12:51:26.296678",
     "exception": false,
     "start_time": "2024-12-16T12:51:26.280983",
     "status": "completed"
    },
    "tags": []
   },
   "outputs": [],
   "source": [
    "BATCH_SIZE_TRAIN = 100\n",
    "BATCH_SIZE_TEST = 1000\n",
    "\n",
    "train_loader = DataLoader(train_dataset, batch_size=BATCH_SIZE_TRAIN, shuffle=True)\n",
    "test_loader = DataLoader(test_dataset, batch_size=BATCH_SIZE_TEST, shuffle=True)"
   ]
  },
  {
   "cell_type": "markdown",
   "id": "ba3d55cc",
   "metadata": {
    "papermill": {
     "duration": 0.006393,
     "end_time": "2024-12-16T12:51:26.310750",
     "exception": false,
     "start_time": "2024-12-16T12:51:26.304357",
     "status": "completed"
    },
    "tags": []
   },
   "source": [
    "# **3- Images as Sequences**"
   ]
  },
  {
   "cell_type": "markdown",
   "id": "4c1b5264",
   "metadata": {
    "papermill": {
     "duration": 0.006102,
     "end_time": "2024-12-16T12:51:26.323161",
     "exception": false,
     "start_time": "2024-12-16T12:51:26.317059",
     "status": "completed"
    },
    "tags": []
   },
   "source": [
    "<div style=\"background-color: green; padding: 10px; border-radius: 10px; \">\n",
    "<font size=\"4px\" color=\"white\">\n",
    "<hr style=\"color: red;\">\n",
    "Convert an image into a set of vectors\n",
    "<hr style=\"color: red;\">\n",
    "</font>\n",
    "</div>"
   ]
  },
  {
   "cell_type": "code",
   "execution_count": 6,
   "id": "b8492827",
   "metadata": {
    "execution": {
     "iopub.execute_input": "2024-12-16T12:51:26.338165Z",
     "iopub.status.busy": "2024-12-16T12:51:26.337723Z",
     "iopub.status.idle": "2024-12-16T12:51:26.344466Z",
     "shell.execute_reply": "2024-12-16T12:51:26.343142Z"
    },
    "papermill": {
     "duration": 0.01751,
     "end_time": "2024-12-16T12:51:26.347034",
     "exception": false,
     "start_time": "2024-12-16T12:51:26.329524",
     "status": "completed"
    },
    "tags": []
   },
   "outputs": [],
   "source": [
    "def img_to_patch(x, patch_size, flatten_channels=True):\n",
    "\n",
    "    B, C, H, W = x.shape\n",
    "    x = x.reshape(B, C, H//patch_size, patch_size, W//patch_size, patch_size)\n",
    "    x = x.permute(0, 2, 4, 1, 3, 5) # [B, H', W', C, p_H, p_W]\n",
    "    x = x.flatten(1,2)              # [B, H'*W', C, p_H, p_W]\n",
    "    if flatten_channels:\n",
    "        x = x.flatten(2,4)          # [B, H'*W', C*p_H*p_W]\n",
    "    return x"
   ]
  },
  {
   "cell_type": "code",
   "execution_count": 7,
   "id": "a58ecb1d",
   "metadata": {
    "execution": {
     "iopub.execute_input": "2024-12-16T12:51:26.361475Z",
     "iopub.status.busy": "2024-12-16T12:51:26.361086Z",
     "iopub.status.idle": "2024-12-16T12:51:26.465769Z",
     "shell.execute_reply": "2024-12-16T12:51:26.464457Z"
    },
    "papermill": {
     "duration": 0.114891,
     "end_time": "2024-12-16T12:51:26.468497",
     "exception": false,
     "start_time": "2024-12-16T12:51:26.353606",
     "status": "completed"
    },
    "tags": []
   },
   "outputs": [],
   "source": [
    "it=iter(test_loader)\n",
    "image=next(it)[0]"
   ]
  },
  {
   "cell_type": "code",
   "execution_count": 8,
   "id": "5f7f20dc",
   "metadata": {
    "execution": {
     "iopub.execute_input": "2024-12-16T12:51:26.483878Z",
     "iopub.status.busy": "2024-12-16T12:51:26.483463Z",
     "iopub.status.idle": "2024-12-16T12:51:26.490165Z",
     "shell.execute_reply": "2024-12-16T12:51:26.488841Z"
    },
    "papermill": {
     "duration": 0.017294,
     "end_time": "2024-12-16T12:51:26.492445",
     "exception": false,
     "start_time": "2024-12-16T12:51:26.475151",
     "status": "completed"
    },
    "tags": []
   },
   "outputs": [
    {
     "name": "stdout",
     "output_type": "stream",
     "text": [
      "batch size: 100, number of channels: 1, height: 28,  width: 28\n"
     ]
    }
   ],
   "source": [
    "B, C, H, W = image.shape\n",
    "print(\"batch size: {}, number of channels: {}, height: {},  width: {}\".format( B, C, H, W ))"
   ]
  },
  {
   "cell_type": "code",
   "execution_count": 9,
   "id": "1b1cd927",
   "metadata": {
    "execution": {
     "iopub.execute_input": "2024-12-16T12:51:26.507405Z",
     "iopub.status.busy": "2024-12-16T12:51:26.507007Z",
     "iopub.status.idle": "2024-12-16T12:51:26.523541Z",
     "shell.execute_reply": "2024-12-16T12:51:26.522377Z"
    },
    "papermill": {
     "duration": 0.026789,
     "end_time": "2024-12-16T12:51:26.525809",
     "exception": false,
     "start_time": "2024-12-16T12:51:26.499020",
     "status": "completed"
    },
    "tags": []
   },
   "outputs": [
    {
     "data": {
      "text/plain": [
       "torch.Size([28, 28])"
      ]
     },
     "execution_count": 9,
     "metadata": {},
     "output_type": "execute_result"
    }
   ],
   "source": [
    "image[0][0].shape"
   ]
  },
  {
   "cell_type": "code",
   "execution_count": 10,
   "id": "0f635d42",
   "metadata": {
    "execution": {
     "iopub.execute_input": "2024-12-16T12:51:26.540944Z",
     "iopub.status.busy": "2024-12-16T12:51:26.540510Z",
     "iopub.status.idle": "2024-12-16T12:51:26.806099Z",
     "shell.execute_reply": "2024-12-16T12:51:26.804785Z"
    },
    "papermill": {
     "duration": 0.275856,
     "end_time": "2024-12-16T12:51:26.808529",
     "exception": false,
     "start_time": "2024-12-16T12:51:26.532673",
     "status": "completed"
    },
    "tags": []
   },
   "outputs": [
    {
     "data": {
      "image/png": "[encoded data removed]",
      "text/plain": [
       "<Figure size 640x480 with 1 Axes>"
      ]
     },
     "metadata": {},
     "output_type": "display_data"
    }
   ],
   "source": [
    "plt.imshow(image[0][0].numpy(),cmap=\"gray\")\n",
    "plt.show()"
   ]
  },
  {
   "cell_type": "code",
   "execution_count": 11,
   "id": "3e753abf",
   "metadata": {
    "execution": {
     "iopub.execute_input": "2024-12-16T12:51:26.824039Z",
     "iopub.status.busy": "2024-12-16T12:51:26.823634Z",
     "iopub.status.idle": "2024-12-16T12:51:26.831362Z",
     "shell.execute_reply": "2024-12-16T12:51:26.830108Z"
    },
    "papermill": {
     "duration": 0.0181,
     "end_time": "2024-12-16T12:51:26.833553",
     "exception": false,
     "start_time": "2024-12-16T12:51:26.815453",
     "status": "completed"
    },
    "tags": []
   },
   "outputs": [
    {
     "data": {
      "text/plain": [
       "49.0"
      ]
     },
     "execution_count": 11,
     "metadata": {},
     "output_type": "execute_result"
    }
   ],
   "source": [
    "patch_size=4\n",
    "\n",
    "n_patches=(H/patch_size)* (W/patch_size)\n",
    "n_patches"
   ]
  },
  {
   "cell_type": "code",
   "execution_count": 12,
   "id": "200f8ece",
   "metadata": {
    "execution": {
     "iopub.execute_input": "2024-12-16T12:51:26.849483Z",
     "iopub.status.busy": "2024-12-16T12:51:26.848244Z",
     "iopub.status.idle": "2024-12-16T12:51:26.866532Z",
     "shell.execute_reply": "2024-12-16T12:51:26.865335Z"
    },
    "papermill": {
     "duration": 0.028823,
     "end_time": "2024-12-16T12:51:26.869098",
     "exception": false,
     "start_time": "2024-12-16T12:51:26.840275",
     "status": "completed"
    },
    "tags": []
   },
   "outputs": [],
   "source": [
    "patches=img_to_patch(torch.unsqueeze(torch.from_numpy(test_dataset[2][0]),0), patch_size, flatten_channels=False)"
   ]
  },
  {
   "cell_type": "code",
   "execution_count": 13,
   "id": "32e3fd82",
   "metadata": {
    "execution": {
     "iopub.execute_input": "2024-12-16T12:51:26.885192Z",
     "iopub.status.busy": "2024-12-16T12:51:26.884373Z",
     "iopub.status.idle": "2024-12-16T12:51:26.891121Z",
     "shell.execute_reply": "2024-12-16T12:51:26.890072Z"
    },
    "papermill": {
     "duration": 0.017294,
     "end_time": "2024-12-16T12:51:26.893429",
     "exception": false,
     "start_time": "2024-12-16T12:51:26.876135",
     "status": "completed"
    },
    "tags": []
   },
   "outputs": [
    {
     "data": {
      "text/plain": [
       "torch.Size([1, 49, 1, 4, 4])"
      ]
     },
     "execution_count": 13,
     "metadata": {},
     "output_type": "execute_result"
    }
   ],
   "source": [
    "patches.shape"
   ]
  },
  {
   "cell_type": "markdown",
   "id": "54617afc",
   "metadata": {
    "papermill": {
     "duration": 0.006791,
     "end_time": "2024-12-16T12:51:26.907219",
     "exception": false,
     "start_time": "2024-12-16T12:51:26.900428",
     "status": "completed"
    },
    "tags": []
   },
   "source": [
    "# **4- Constructing Vision Transformer Model**"
   ]
  },
  {
   "cell_type": "code",
   "execution_count": 14,
   "id": "dda57645",
   "metadata": {
    "execution": {
     "iopub.execute_input": "2024-12-16T12:51:26.922933Z",
     "iopub.status.busy": "2024-12-16T12:51:26.922518Z",
     "iopub.status.idle": "2024-12-16T12:51:26.931119Z",
     "shell.execute_reply": "2024-12-16T12:51:26.929631Z"
    },
    "papermill": {
     "duration": 0.019244,
     "end_time": "2024-12-16T12:51:26.933370",
     "exception": false,
     "start_time": "2024-12-16T12:51:26.914126",
     "status": "completed"
    },
    "tags": []
   },
   "outputs": [],
   "source": [
    "class AttentionBlock(nn.Module):\n",
    "\n",
    "    def __init__(self, embed_dim, hidden_dim, num_heads, dropout=0.0):\n",
    "        \"\"\"\n",
    "        Inputs:\n",
    "            embed_dim - Dimensionality of input and attention feature vectors\n",
    "            hidden_dim - Dimensionality of hidden layer in feed-forward network\n",
    "                         (usually 2-4x larger than embed_dim)\n",
    "            num_heads - Number of heads to use in the Multi-Head Attention block\n",
    "            dropout - Amount of dropout to apply in the feed-forward network\n",
    "            #source:https://uvadlc-notebooks.readthedocs.io/en/latest/tutorial_notebooks/tutorial15/Vision_Transformer.html\n",
    "        \"\"\"\n",
    "        super().__init__()\n",
    "\n",
    "        self.layer_norm_1 = nn.LayerNorm(embed_dim)\n",
    "        self.attn = nn.MultiheadAttention(embed_dim, num_heads,\n",
    "                                          dropout=dropout)\n",
    "        self.layer_norm_2 = nn.LayerNorm(embed_dim)\n",
    "        self.linear = nn.Sequential(\n",
    "            nn.Linear(embed_dim, hidden_dim),\n",
    "            nn.GELU(),\n",
    "            nn.Dropout(dropout),\n",
    "            nn.Linear(hidden_dim, embed_dim),\n",
    "            nn.Dropout(dropout)\n",
    "        )\n",
    "\n",
    "\n",
    "    def forward(self, x):\n",
    "        inp_x = self.layer_norm_1(x)\n",
    "        x = x + self.attn(inp_x, inp_x, inp_x)[0]\n",
    "        x = x + self.linear(self.layer_norm_2(x))\n",
    "        return x"
   ]
  },
  {
   "cell_type": "code",
   "execution_count": 15,
   "id": "7c1a5ed5",
   "metadata": {
    "execution": {
     "iopub.execute_input": "2024-12-16T12:51:26.949178Z",
     "iopub.status.busy": "2024-12-16T12:51:26.948766Z",
     "iopub.status.idle": "2024-12-16T12:51:26.960349Z",
     "shell.execute_reply": "2024-12-16T12:51:26.959044Z"
    },
    "papermill": {
     "duration": 0.022274,
     "end_time": "2024-12-16T12:51:26.962645",
     "exception": false,
     "start_time": "2024-12-16T12:51:26.940371",
     "status": "completed"
    },
    "tags": []
   },
   "outputs": [],
   "source": [
    "class VisionTransformer(nn.Module):\n",
    "\n",
    "    def __init__(self, embed_dim, hidden_dim, num_channels, num_heads, num_layers, num_classes, patch_size, num_patches, dropout=0.0):\n",
    "        \"\"\"\n",
    "        Inputs:\n",
    "            embed_dim - Dimensionality of the input feature vectors to the Transformer\n",
    "            hidden_dim - Dimensionality of the hidden layer in the feed-forward networks\n",
    "                         within the Transformer\n",
    "            num_channels - Number of channels of the input (3 for RGB)\n",
    "            num_heads - Number of heads to use in the Multi-Head Attention block\n",
    "            num_layers - Number of layers to use in the Transformer\n",
    "            num_classes - Number of classes to predict\n",
    "            patch_size - Number of pixels that the patches have per dimension\n",
    "            num_patches - Maximum number of patches an image can have\n",
    "            dropout - Amount of dropout to apply in the feed-forward network and\n",
    "                      on the input encoding\n",
    "             #source:https://uvadlc-notebooks.readthedocs.io/en/latest/tutorial_notebooks/tutorial15/Vision_Transformer.html\n",
    "        \"\"\"\n",
    "        super().__init__()\n",
    "\n",
    "        self.patch_size = patch_size\n",
    "\n",
    "        # Layers/Networks\n",
    "        self.input_layer = nn.Linear(num_channels*(patch_size**2), embed_dim)\n",
    "        self.transformer = nn.Sequential(*[AttentionBlock(embed_dim, hidden_dim, num_heads, dropout=dropout) for _ in range(num_layers)])\n",
    "        self.mlp_head = nn.Sequential(\n",
    "            nn.LayerNorm(embed_dim),\n",
    "            nn.Linear(embed_dim, num_classes)\n",
    "        )\n",
    "        self.dropout = nn.Dropout(dropout)\n",
    "\n",
    "        # Parameters/Embeddings\n",
    "        self.cls_token = nn.Parameter(torch.randn(1,1,embed_dim))\n",
    "        self.pos_embedding = nn.Parameter(torch.randn(1,1+num_patches,embed_dim))\n",
    "        print(num_patches)\n",
    "\n",
    "\n",
    "    def forward(self, x):\n",
    "        # Preprocess input\n",
    "        x = img_to_patch(x, self.patch_size)\n",
    "        B, T, _ = x.shape\n",
    "        x = self.input_layer(x)\n",
    "\n",
    "        # Add CLS token and positional encoding\n",
    "        cls_token = self.cls_token.repeat(B, 1, 1)\n",
    "        x = torch.cat([cls_token, x], dim=1)\n",
    "\n",
    "        x = x + self.pos_embedding[:,:T+1]\n",
    "\n",
    "        # Apply Transforrmer\n",
    "        x = self.dropout(x)\n",
    "        x = x.transpose(0, 1)\n",
    "        x = self.transformer(x)\n",
    "\n",
    "        # Perform classification prediction\n",
    "        cls = x[0]\n",
    "        out = self.mlp_head(cls)\n",
    "        return out"
   ]
  },
  {
   "cell_type": "markdown",
   "id": "4aeefa50",
   "metadata": {
    "papermill": {
     "duration": 0.006549,
     "end_time": "2024-12-16T12:51:26.976327",
     "exception": false,
     "start_time": "2024-12-16T12:51:26.969778",
     "status": "completed"
    },
    "tags": []
   },
   "source": [
    "<div style=\"background-color: green; padding: 10px; border-radius: 10px; \">\n",
    "<font size=\"4px\" color=\"white\">\n",
    "<hr style=\"color: red;\">\n",
    "Train Model\n",
    "<hr style=\"color: red;\">\n",
    "</font>\n",
    "</div>"
   ]
  },
  {
   "cell_type": "code",
   "execution_count": 16,
   "id": "0237e572",
   "metadata": {
    "execution": {
     "iopub.execute_input": "2024-12-16T12:51:26.991718Z",
     "iopub.status.busy": "2024-12-16T12:51:26.991262Z",
     "iopub.status.idle": "2024-12-16T12:51:26.996937Z",
     "shell.execute_reply": "2024-12-16T12:51:26.995806Z"
    },
    "papermill": {
     "duration": 0.016239,
     "end_time": "2024-12-16T12:51:26.999189",
     "exception": false,
     "start_time": "2024-12-16T12:51:26.982950",
     "status": "completed"
    },
    "tags": []
   },
   "outputs": [],
   "source": [
    "embed_dim= 256\n",
    "hidden_dim=512\n",
    "num_heads= 8\n",
    "num_layers=6\n",
    "patch_size=4\n",
    "num_channels=1\n",
    "num_patches=64\n",
    "num_classes=10\n",
    "dropout=0.2"
   ]
  },
  {
   "cell_type": "code",
   "execution_count": 17,
   "id": "39349c75",
   "metadata": {
    "execution": {
     "iopub.execute_input": "2024-12-16T12:51:27.015458Z",
     "iopub.status.busy": "2024-12-16T12:51:27.014909Z",
     "iopub.status.idle": "2024-12-16T12:51:27.058973Z",
     "shell.execute_reply": "2024-12-16T12:51:27.057673Z"
    },
    "papermill": {
     "duration": 0.055134,
     "end_time": "2024-12-16T12:51:27.061402",
     "exception": false,
     "start_time": "2024-12-16T12:51:27.006268",
     "status": "completed"
    },
    "tags": []
   },
   "outputs": [
    {
     "name": "stdout",
     "output_type": "stream",
     "text": [
      "64\n"
     ]
    }
   ],
   "source": [
    "model=VisionTransformer( embed_dim= embed_dim, \n",
    "                        hidden_dim=hidden_dim, \n",
    "                        num_channels=num_channels, \n",
    "                        num_heads=num_heads, \n",
    "                        num_layers=num_layers, \n",
    "                        num_classes=num_classes, \n",
    "                        patch_size=patch_size, \n",
    "                        num_patches=num_patches, \n",
    "                        dropout=dropout)"
   ]
  },
  {
   "cell_type": "code",
   "execution_count": 18,
   "id": "02ac1ce3",
   "metadata": {
    "execution": {
     "iopub.execute_input": "2024-12-16T12:51:27.077994Z",
     "iopub.status.busy": "2024-12-16T12:51:27.077566Z",
     "iopub.status.idle": "2024-12-16T12:51:27.093815Z",
     "shell.execute_reply": "2024-12-16T12:51:27.092654Z"
    },
    "papermill": {
     "duration": 0.027315,
     "end_time": "2024-12-16T12:51:27.096237",
     "exception": false,
     "start_time": "2024-12-16T12:51:27.068922",
     "status": "completed"
    },
    "tags": []
   },
   "outputs": [
    {
     "data": {
      "text/plain": [
       "device(type='cpu')"
      ]
     },
     "execution_count": 18,
     "metadata": {},
     "output_type": "execute_result"
    }
   ],
   "source": [
    "device = torch.device('cuda:0' if torch.cuda.is_available() else 'cpu')\n",
    "model.to(device)\n",
    "device"
   ]
  },
  {
   "cell_type": "code",
   "execution_count": 19,
   "id": "7b6b3da0",
   "metadata": {
    "execution": {
     "iopub.execute_input": "2024-12-16T12:51:27.112224Z",
     "iopub.status.busy": "2024-12-16T12:51:27.111854Z",
     "iopub.status.idle": "2024-12-16T12:51:27.118648Z",
     "shell.execute_reply": "2024-12-16T12:51:27.117505Z"
    },
    "papermill": {
     "duration": 0.018091,
     "end_time": "2024-12-16T12:51:27.121594",
     "exception": false,
     "start_time": "2024-12-16T12:51:27.103503",
     "status": "completed"
    },
    "tags": []
   },
   "outputs": [],
   "source": [
    "lr=3e-4\n",
    "criterion = nn.CrossEntropyLoss()\n",
    "optimizer = optim.AdamW(model.parameters(), lr=lr)\n",
    "scheduler = ExponentialLR(optimizer, gamma=0.9)"
   ]
  },
  {
   "cell_type": "code",
   "execution_count": 20,
   "id": "795740d5",
   "metadata": {
    "execution": {
     "iopub.execute_input": "2024-12-16T12:51:27.139810Z",
     "iopub.status.busy": "2024-12-16T12:51:27.138256Z",
     "iopub.status.idle": "2024-12-16T13:34:45.934906Z",
     "shell.execute_reply": "2024-12-16T13:34:45.933219Z"
    },
    "papermill": {
     "duration": 2598.822062,
     "end_time": "2024-12-16T13:34:45.951639",
     "exception": false,
     "start_time": "2024-12-16T12:51:27.129577",
     "status": "completed"
    },
    "tags": []
   },
   "outputs": [
    {
     "name": "stderr",
     "output_type": "stream",
     "text": [
      "100%|██████████| 100/100 [43:18<00:00, 25.99s/it]"
     ]
    },
    {
     "name": "stdout",
     "output_type": "stream",
     "text": [
      "Finished Training\n"
     ]
    },
    {
     "name": "stderr",
     "output_type": "stream",
     "text": [
      "\n"
     ]
    }
   ],
   "source": [
    "useful_stuff = {'training_loss': [], 'validation_accuracy': []}\n",
    "correct_old=0\n",
    "\n",
    "for epoch in tqdm(range(100)):  # loop over the dataset multiple times\n",
    "\n",
    "    running_loss = 0.0\n",
    "    for i, data in enumerate(train_loader):\n",
    "        # get the inputs; data is a list of [inputs, labels]\n",
    "        inputs, labels = data[0].to(device), data[1].to(device)\n",
    "\n",
    "        # zero the parameter gradients\n",
    "        optimizer.zero_grad()\n",
    "\n",
    "        # forward + backward + optimize\n",
    "        model.train()\n",
    "        outputs = model(inputs)\n",
    "\n",
    "        loss = criterion(outputs, labels)\n",
    "        loss.backward()\n",
    "        optimizer.step()\n",
    "\n",
    "        # print statistics\n",
    "        running_loss += loss.item()\n",
    "\n",
    "        if i % 2000 == 1999:    # print every 2000 mini-batches\n",
    "            print(f'[{epoch + 1}, {i + 1:5d}] loss: {running_loss / 2000:.3f}')\n",
    "            running_loss = 0.0\n",
    "    scheduler.step()\n",
    "    useful_stuff['training_loss'].append(running_loss)\n",
    "    correct = 0\n",
    "    model.eval()\n",
    "\n",
    "    for inputs, labels in test_loader:\n",
    "      inputs, labels = inputs.to(device), labels.to(device)\n",
    "      z = model(inputs)\n",
    "      _, yhat = torch.max(z, 1)\n",
    "      correct += (yhat == labels).sum().item()\n",
    "      if correct>correct_old:\n",
    "          correct_old=correct\n",
    "\n",
    "    useful_stuff['validation_accuracy'].append(correct_old/len(test_dataset))\n",
    "print('Finished Training')"
   ]
  },
  {
   "cell_type": "markdown",
   "id": "2dfa09ba",
   "metadata": {
    "papermill": {
     "duration": 0.011808,
     "end_time": "2024-12-16T13:34:45.975538",
     "exception": false,
     "start_time": "2024-12-16T13:34:45.963730",
     "status": "completed"
    },
    "tags": []
   },
   "source": [
    "<div style=\"background-color: green; padding: 10px; border-radius: 10px; \">\n",
    "<font size=\"4px\" color=\"white\">\n",
    "<hr style=\"color: red;\">\n",
    "Save our model parameters\n",
    "<hr style=\"color: red;\">\n",
    "</font>\n",
    "</div>"
   ]
  },
  {
   "cell_type": "code",
   "execution_count": 21,
   "id": "430109f0",
   "metadata": {
    "execution": {
     "iopub.execute_input": "2024-12-16T13:34:46.001610Z",
     "iopub.status.busy": "2024-12-16T13:34:46.001184Z",
     "iopub.status.idle": "2024-12-16T13:34:46.029938Z",
     "shell.execute_reply": "2024-12-16T13:34:46.028234Z"
    },
    "papermill": {
     "duration": 0.044829,
     "end_time": "2024-12-16T13:34:46.032446",
     "exception": false,
     "start_time": "2024-12-16T13:34:45.987617",
     "status": "completed"
    },
    "tags": []
   },
   "outputs": [
    {
     "name": "stdout",
     "output_type": "stream",
     "text": [
      "Saved PyTorch Model State to Persian_HandWritten_with_pytorch_model.pth\n"
     ]
    }
   ],
   "source": [
    "torch.save(model.state_dict(), \"/kaggle/working/Persian_HandWritten_with_pytorch_model.pth\")\n",
    "print(\"Saved PyTorch Model State to Persian_HandWritten_with_pytorch_model.pth\")"
   ]
  },
  {
   "cell_type": "code",
   "execution_count": 22,
   "id": "e6a5031d",
   "metadata": {
    "execution": {
     "iopub.execute_input": "2024-12-16T13:34:46.059044Z",
     "iopub.status.busy": "2024-12-16T13:34:46.058639Z",
     "iopub.status.idle": "2024-12-16T13:34:46.084612Z",
     "shell.execute_reply": "2024-12-16T13:34:46.083443Z"
    },
    "papermill": {
     "duration": 0.042132,
     "end_time": "2024-12-16T13:34:46.086973",
     "exception": false,
     "start_time": "2024-12-16T13:34:46.044841",
     "status": "completed"
    },
    "tags": []
   },
   "outputs": [
    {
     "name": "stderr",
     "output_type": "stream",
     "text": [
      "/tmp/ipykernel_17/483530030.py:1: FutureWarning: You are using `torch.load` with `weights_only=False` (the current default value), which uses the default pickle module implicitly. It is possible to construct malicious pickle data which will execute arbitrary code during unpickling (See https://github.com/pytorch/pytorch/blob/main/SECURITY.md#untrusted-models for more details). In a future release, the default value for `weights_only` will be flipped to `True`. This limits the functions that could be executed during unpickling. Arbitrary objects will no longer be allowed to be loaded via this mode unless they are explicitly allowlisted by the user via `torch.serialization.add_safe_globals`. We recommend you start setting `weights_only=True` for any use case where you don't have full control of the loaded file. Please open an issue on GitHub for any issues related to this experimental feature.\n",
      "  model.load_state_dict(torch.load('/kaggle/working/Persian_HandWritten_with_pytorch_model.pth',map_location=device))\n"
     ]
    },
    {
     "data": {
      "text/plain": [
       "VisionTransformer(\n",
       "  (input_layer): Linear(in_features=16, out_features=256, bias=True)\n",
       "  (transformer): Sequential(\n",
       "    (0): AttentionBlock(\n",
       "      (layer_norm_1): LayerNorm((256,), eps=1e-05, elementwise_affine=True)\n",
       "      (attn): MultiheadAttention(\n",
       "        (out_proj): NonDynamicallyQuantizableLinear(in_features=256, out_features=256, bias=True)\n",
       "      )\n",
       "      (layer_norm_2): LayerNorm((256,), eps=1e-05, elementwise_affine=True)\n",
       "      (linear): Sequential(\n",
       "        (0): Linear(in_features=256, out_features=512, bias=True)\n",
       "        (1): GELU(approximate='none')\n",
       "        (2): Dropout(p=0.2, inplace=False)\n",
       "        (3): Linear(in_features=512, out_features=256, bias=True)\n",
       "        (4): Dropout(p=0.2, inplace=False)\n",
       "      )\n",
       "    )\n",
       "    (1): AttentionBlock(\n",
       "      (layer_norm_1): LayerNorm((256,), eps=1e-05, elementwise_affine=True)\n",
       "      (attn): MultiheadAttention(\n",
       "        (out_proj): NonDynamicallyQuantizableLinear(in_features=256, out_features=256, bias=True)\n",
       "      )\n",
       "      (layer_norm_2): LayerNorm((256,), eps=1e-05, elementwise_affine=True)\n",
       "      (linear): Sequential(\n",
       "        (0): Linear(in_features=256, out_features=512, bias=True)\n",
       "        (1): GELU(approximate='none')\n",
       "        (2): Dropout(p=0.2, inplace=False)\n",
       "        (3): Linear(in_features=512, out_features=256, bias=True)\n",
       "        (4): Dropout(p=0.2, inplace=False)\n",
       "      )\n",
       "    )\n",
       "    (2): AttentionBlock(\n",
       "      (layer_norm_1): LayerNorm((256,), eps=1e-05, elementwise_affine=True)\n",
       "      (attn): MultiheadAttention(\n",
       "        (out_proj): NonDynamicallyQuantizableLinear(in_features=256, out_features=256, bias=True)\n",
       "      )\n",
       "      (layer_norm_2): LayerNorm((256,), eps=1e-05, elementwise_affine=True)\n",
       "      (linear): Sequential(\n",
       "        (0): Linear(in_features=256, out_features=512, bias=True)\n",
       "        (1): GELU(approximate='none')\n",
       "        (2): Dropout(p=0.2, inplace=False)\n",
       "        (3): Linear(in_features=512, out_features=256, bias=True)\n",
       "        (4): Dropout(p=0.2, inplace=False)\n",
       "      )\n",
       "    )\n",
       "    (3): AttentionBlock(\n",
       "      (layer_norm_1): LayerNorm((256,), eps=1e-05, elementwise_affine=True)\n",
       "      (attn): MultiheadAttention(\n",
       "        (out_proj): NonDynamicallyQuantizableLinear(in_features=256, out_features=256, bias=True)\n",
       "      )\n",
       "      (layer_norm_2): LayerNorm((256,), eps=1e-05, elementwise_affine=True)\n",
       "      (linear): Sequential(\n",
       "        (0): Linear(in_features=256, out_features=512, bias=True)\n",
       "        (1): GELU(approximate='none')\n",
       "        (2): Dropout(p=0.2, inplace=False)\n",
       "        (3): Linear(in_features=512, out_features=256, bias=True)\n",
       "        (4): Dropout(p=0.2, inplace=False)\n",
       "      )\n",
       "    )\n",
       "    (4): AttentionBlock(\n",
       "      (layer_norm_1): LayerNorm((256,), eps=1e-05, elementwise_affine=True)\n",
       "      (attn): MultiheadAttention(\n",
       "        (out_proj): NonDynamicallyQuantizableLinear(in_features=256, out_features=256, bias=True)\n",
       "      )\n",
       "      (layer_norm_2): LayerNorm((256,), eps=1e-05, elementwise_affine=True)\n",
       "      (linear): Sequential(\n",
       "        (0): Linear(in_features=256, out_features=512, bias=True)\n",
       "        (1): GELU(approximate='none')\n",
       "        (2): Dropout(p=0.2, inplace=False)\n",
       "        (3): Linear(in_features=512, out_features=256, bias=True)\n",
       "        (4): Dropout(p=0.2, inplace=False)\n",
       "      )\n",
       "    )\n",
       "    (5): AttentionBlock(\n",
       "      (layer_norm_1): LayerNorm((256,), eps=1e-05, elementwise_affine=True)\n",
       "      (attn): MultiheadAttention(\n",
       "        (out_proj): NonDynamicallyQuantizableLinear(in_features=256, out_features=256, bias=True)\n",
       "      )\n",
       "      (layer_norm_2): LayerNorm((256,), eps=1e-05, elementwise_affine=True)\n",
       "      (linear): Sequential(\n",
       "        (0): Linear(in_features=256, out_features=512, bias=True)\n",
       "        (1): GELU(approximate='none')\n",
       "        (2): Dropout(p=0.2, inplace=False)\n",
       "        (3): Linear(in_features=512, out_features=256, bias=True)\n",
       "        (4): Dropout(p=0.2, inplace=False)\n",
       "      )\n",
       "    )\n",
       "  )\n",
       "  (mlp_head): Sequential(\n",
       "    (0): LayerNorm((256,), eps=1e-05, elementwise_affine=True)\n",
       "    (1): Linear(in_features=256, out_features=10, bias=True)\n",
       "  )\n",
       "  (dropout): Dropout(p=0.2, inplace=False)\n",
       ")"
      ]
     },
     "execution_count": 22,
     "metadata": {},
     "output_type": "execute_result"
    }
   ],
   "source": [
    "model.load_state_dict(torch.load('/kaggle/working/Persian_HandWritten_with_pytorch_model.pth',map_location=device))\n",
    "model.eval()"
   ]
  },
  {
   "cell_type": "markdown",
   "id": "c54b5e9c",
   "metadata": {
    "papermill": {
     "duration": 0.012384,
     "end_time": "2024-12-16T13:34:46.112218",
     "exception": false,
     "start_time": "2024-12-16T13:34:46.099834",
     "status": "completed"
    },
    "tags": []
   },
   "source": [
    "<div style=\"background-color: green; padding: 10px; border-radius: 10px; \">\n",
    "<font size=\"4px\" color=\"white\">\n",
    "<hr style=\"color: red;\">\n",
    "Output for the model\n",
    "<hr style=\"color: red;\">\n",
    "</font>\n",
    "</div>"
   ]
  },
  {
   "cell_type": "code",
   "execution_count": 23,
   "id": "a2844dd7",
   "metadata": {
    "execution": {
     "iopub.execute_input": "2024-12-16T13:34:46.140142Z",
     "iopub.status.busy": "2024-12-16T13:34:46.139714Z",
     "iopub.status.idle": "2024-12-16T13:34:46.158658Z",
     "shell.execute_reply": "2024-12-16T13:34:46.157421Z"
    },
    "papermill": {
     "duration": 0.035803,
     "end_time": "2024-12-16T13:34:46.161296",
     "exception": false,
     "start_time": "2024-12-16T13:34:46.125493",
     "status": "completed"
    },
    "tags": []
   },
   "outputs": [],
   "source": [
    "it=iter(test_loader)\n",
    "images, labels= next(it)"
   ]
  },
  {
   "cell_type": "code",
   "execution_count": 24,
   "id": "3c0f804b",
   "metadata": {
    "execution": {
     "iopub.execute_input": "2024-12-16T13:34:46.189054Z",
     "iopub.status.busy": "2024-12-16T13:34:46.188640Z",
     "iopub.status.idle": "2024-12-16T13:34:47.265179Z",
     "shell.execute_reply": "2024-12-16T13:34:47.263227Z"
    },
    "papermill": {
     "duration": 1.096367,
     "end_time": "2024-12-16T13:34:47.271033",
     "exception": false,
     "start_time": "2024-12-16T13:34:46.174666",
     "status": "completed"
    },
    "tags": []
   },
   "outputs": [
    {
     "data": {
      "image/png": "[encoded data removed]",
      "text/plain": [
       "<Figure size 640x480 with 1 Axes>"
      ]
     },
     "metadata": {},
     "output_type": "display_data"
    },
    {
     "name": "stdout",
     "output_type": "stream",
     "text": [
      "Predicted label: tensor(6)\n",
      "Actual label: tensor(6)\n",
      "Probabilities:\n",
      "Class 0: 0.00014854663459118456\n",
      "Class 1: 0.000752699445001781\n",
      "Class 2: 0.0026101248804479837\n",
      "Class 3: 0.00022546992113348097\n",
      "Class 4: 0.009277704171836376\n",
      "Class 5: 7.372790423687547e-05\n",
      "Class 6: 0.8671817183494568\n",
      "Class 7: 0.0027714029420167208\n",
      "Class 8: 0.00039898266550153494\n",
      "Class 9: 0.11655955761671066\n",
      "\n"
     ]
    },
    {
     "data": {
      "image/png": "[encoded data removed]",
      "text/plain": [
       "<Figure size 640x480 with 1 Axes>"
      ]
     },
     "metadata": {},
     "output_type": "display_data"
    },
    {
     "name": "stdout",
     "output_type": "stream",
     "text": [
      "Predicted label: tensor(9)\n",
      "Actual label: tensor(9)\n",
      "Probabilities:\n",
      "Class 0: 0.0043771229684352875\n",
      "Class 1: 2.3048269213177264e-05\n",
      "Class 2: 0.00018960119632538408\n",
      "Class 3: 0.0015670319553464651\n",
      "Class 4: 0.00551589485257864\n",
      "Class 5: 0.002199710113927722\n",
      "Class 6: 0.01865307427942753\n",
      "Class 7: 7.137825014069676e-05\n",
      "Class 8: 0.0002202346659032628\n",
      "Class 9: 0.9671828746795654\n",
      "\n"
     ]
    },
    {
     "data": {
      "image/png": "[encoded data removed]",
      "text/plain": [
       "<Figure size 640x480 with 1 Axes>"
      ]
     },
     "metadata": {},
     "output_type": "display_data"
    },
    {
     "name": "stdout",
     "output_type": "stream",
     "text": [
      "Predicted label: tensor(3)\n",
      "Actual label: tensor(2)\n",
      "Probabilities:\n",
      "Class 0: 0.004588960204273462\n",
      "Class 1: 0.0028060676995664835\n",
      "Class 2: 0.07635914534330368\n",
      "Class 3: 0.6012097597122192\n",
      "Class 4: 0.04239343851804733\n",
      "Class 5: 0.00014073635975364596\n",
      "Class 6: 0.24431098997592926\n",
      "Class 7: 0.027075132355093956\n",
      "Class 8: 0.00041348603554069996\n",
      "Class 9: 0.0007022327627055347\n",
      "\n"
     ]
    },
    {
     "data": {
      "image/png": "[encoded data removed]",
      "text/plain": [
       "<Figure size 640x480 with 1 Axes>"
      ]
     },
     "metadata": {},
     "output_type": "display_data"
    },
    {
     "name": "stdout",
     "output_type": "stream",
     "text": [
      "Predicted label: tensor(9)\n",
      "Actual label: tensor(9)\n",
      "Probabilities:\n",
      "Class 0: 0.005122299771755934\n",
      "Class 1: 0.0003562307683750987\n",
      "Class 2: 0.018213219940662384\n",
      "Class 3: 0.022344430908560753\n",
      "Class 4: 0.29278919100761414\n",
      "Class 5: 0.030298318713903427\n",
      "Class 6: 0.15150268375873566\n",
      "Class 7: 0.05829143524169922\n",
      "Class 8: 6.587005191249773e-05\n",
      "Class 9: 0.4210163354873657\n",
      "\n"
     ]
    },
    {
     "data": {
      "image/png": "[encoded data removed]",
      "text/plain": [
       "<Figure size 640x480 with 1 Axes>"
      ]
     },
     "metadata": {},
     "output_type": "display_data"
    },
    {
     "name": "stdout",
     "output_type": "stream",
     "text": [
      "Predicted label: tensor(5)\n",
      "Actual label: tensor(5)\n",
      "Probabilities:\n",
      "Class 0: 0.17925585806369781\n",
      "Class 1: 4.016089951619506e-05\n",
      "Class 2: 1.9056868040934205e-05\n",
      "Class 3: 0.00019991428416687995\n",
      "Class 4: 0.0015432076761499047\n",
      "Class 5: 0.8164277076721191\n",
      "Class 6: 0.00036023539723828435\n",
      "Class 7: 0.0008533551590517163\n",
      "Class 8: 0.0008065478759817779\n",
      "Class 9: 0.0004939936334267259\n",
      "\n"
     ]
    },
    {
     "data": {
      "image/png": "[encoded data removed]",
      "text/plain": [
       "<Figure size 640x480 with 1 Axes>"
      ]
     },
     "metadata": {},
     "output_type": "display_data"
    },
    {
     "name": "stdout",
     "output_type": "stream",
     "text": [
      "Predicted label: tensor(5)\n",
      "Actual label: tensor(5)\n",
      "Probabilities:\n",
      "Class 0: 0.026806695386767387\n",
      "Class 1: 4.513720341492444e-05\n",
      "Class 2: 1.2817567039746791e-05\n",
      "Class 3: 2.4075055989669636e-05\n",
      "Class 4: 0.0006038430146872997\n",
      "Class 5: 0.9686652421951294\n",
      "Class 6: 0.00021455183741636574\n",
      "Class 7: 0.002813190221786499\n",
      "Class 8: 0.0006473169778473675\n",
      "Class 9: 0.00016710333875380456\n",
      "\n"
     ]
    },
    {
     "data": {
      "image/png": "[encoded data removed]",
      "text/plain": [
       "<Figure size 640x480 with 1 Axes>"
      ]
     },
     "metadata": {},
     "output_type": "display_data"
    },
    {
     "name": "stdout",
     "output_type": "stream",
     "text": [
      "Predicted label: tensor(5)\n",
      "Actual label: tensor(5)\n",
      "Probabilities:\n",
      "Class 0: 0.006830593571066856\n",
      "Class 1: 0.0001010241758194752\n",
      "Class 2: 0.0001918294292408973\n",
      "Class 3: 0.0001849276159191504\n",
      "Class 4: 0.018866440281271935\n",
      "Class 5: 0.969372570514679\n",
      "Class 6: 0.00028863930492661893\n",
      "Class 7: 0.002793269231915474\n",
      "Class 8: 0.0013438761234283447\n",
      "Class 9: 2.6952433472615667e-05\n",
      "\n"
     ]
    },
    {
     "data": {
      "image/png": "[encoded data removed]",
      "text/plain": [
       "<Figure size 640x480 with 1 Axes>"
      ]
     },
     "metadata": {},
     "output_type": "display_data"
    },
    {
     "name": "stdout",
     "output_type": "stream",
     "text": [
      "Predicted label: tensor(7)\n",
      "Actual label: tensor(7)\n",
      "Probabilities:\n",
      "Class 0: 0.006626928225159645\n",
      "Class 1: 0.00011272197298239917\n",
      "Class 2: 0.00026948278537020087\n",
      "Class 3: 0.00019694058573804796\n",
      "Class 4: 0.0020116197410970926\n",
      "Class 5: 0.014659898355603218\n",
      "Class 6: 0.0279916450381279\n",
      "Class 7: 0.9475899338722229\n",
      "Class 8: 3.576956078177318e-05\n",
      "Class 9: 0.000505143660120666\n",
      "\n"
     ]
    },
    {
     "data": {
      "image/png": "[encoded data removed]",
      "text/plain": [
       "<Figure size 640x480 with 1 Axes>"
      ]
     },
     "metadata": {},
     "output_type": "display_data"
    },
    {
     "name": "stdout",
     "output_type": "stream",
     "text": [
      "Predicted label: tensor(1)\n",
      "Actual label: tensor(1)\n",
      "Probabilities:\n",
      "Class 0: 0.00034254268393851817\n",
      "Class 1: 0.9534942507743835\n",
      "Class 2: 0.04183506593108177\n",
      "Class 3: 0.0014777452452108264\n",
      "Class 4: 0.0008713593706488609\n",
      "Class 5: 2.3448192223440856e-05\n",
      "Class 6: 0.0010729326168075204\n",
      "Class 7: 0.0004910569405183196\n",
      "Class 8: 0.00037390433135442436\n",
      "Class 9: 1.7754246073309332e-05\n",
      "\n"
     ]
    },
    {
     "data": {
      "image/png": "[encoded data removed]",
      "text/plain": [
       "<Figure size 640x480 with 1 Axes>"
      ]
     },
     "metadata": {},
     "output_type": "display_data"
    },
    {
     "name": "stdout",
     "output_type": "stream",
     "text": [
      "Predicted label: tensor(6)\n",
      "Actual label: tensor(6)\n",
      "Probabilities:\n",
      "Class 0: 0.0017362607177346945\n",
      "Class 1: 4.926080509903841e-05\n",
      "Class 2: 0.008387245237827301\n",
      "Class 3: 0.008139312267303467\n",
      "Class 4: 0.014121408574283123\n",
      "Class 5: 0.00043854519026353955\n",
      "Class 6: 0.9652804732322693\n",
      "Class 7: 0.0005247084773145616\n",
      "Class 8: 9.006982872961089e-05\n",
      "Class 9: 0.0012326918076723814\n",
      "\n"
     ]
    }
   ],
   "source": [
    "# Only 3 images are selected\n",
    "images = images[:10]\n",
    "labels = labels[:10]\n",
    "\n",
    "p_yx = model(images)\n",
    "\n",
    "# Get predicted probabilities\n",
    "probabilities = F.softmax(p_yx, dim=1)\n",
    "\n",
    "# Find predicted labels\n",
    "predicted_labels = probabilities.argmax(dim=1)\n",
    "\n",
    "# Compare predicted labels with actual labels and display the images\n",
    "for i in range(len(images)):\n",
    "    # Convert the image tensor to a numpy array\n",
    "    image = images[i].squeeze().numpy()\n",
    "\n",
    "    # Display the image in grayscale\n",
    "    plt.imshow(image, cmap='gray')\n",
    "    plt.axis('off')\n",
    "    plt.show()\n",
    "\n",
    "    print(\"Predicted label:\", predicted_labels[i])\n",
    "    print(\"Actual label:\", labels[i])\n",
    "    print(\"Probabilities:\")\n",
    "\n",
    "    # Print probabilities for each class\n",
    "    for j in range(len(probabilities[i])):\n",
    "        class_name = f\"Class {j}\"\n",
    "        probability = probabilities[i][j].item()\n",
    "        print(f\"{class_name}: {probability}\")\n",
    "\n",
    "    print()"
   ]
  },
  {
   "cell_type": "markdown",
   "id": "f960aab8",
   "metadata": {
    "papermill": {
     "duration": 0.036362,
     "end_time": "2024-12-16T13:34:47.351943",
     "exception": false,
     "start_time": "2024-12-16T13:34:47.315581",
     "status": "completed"
    },
    "tags": []
   },
   "source": [
    "<div style=\"background-color: red; padding: 20px; border-radius: 25px; \">\n",
    "<font color='white' size=\"5px\">\n",
    "If my notebook was useful for you, please give me a upvote. Thank you for your support ❤️\n",
    "    <hr style=\"color: green;\"></font>\n",
    "    <font size=\"5px\">\n",
    "         <a href=\"https://github.com/omid-sakaki-ghazvini\">Github</a>\n",
    "        <br/>\n",
    "        <a href=\"http://linkedin.com/in/omid-sakaki-ghazvini-378687217\">linkedin</a> \n",
    "    </font>\n",
    "</div>"
   ]
  }
 ],
 "metadata": {
  "kaggle": {
   "accelerator": "none",
   "dataSources": [
    {
     "datasetId": 2441615,
     "sourceId": 4132779,
     "sourceType": "datasetVersion"
    }
   ],
   "dockerImageVersionId": 30804,
   "isGpuEnabled": false,
   "isInternetEnabled": true,
   "language": "python",
   "sourceType": "notebook"
  },
  "kernelspec": {
   "display_name": "Python 3",
   "language": "python",
   "name": "python3"
  },
  "language_info": {
   "codemirror_mode": {
    "name": "ipython",
    "version": 3
   },
   "file_extension": ".py",
   "mimetype": "text/x-python",
   "name": "python",
   "nbconvert_exporter": "python",
   "pygments_lexer": "ipython3",
   "version": "3.10.14"
  },
  "papermill": {
   "default_parameters": {},
   "duration": 2614.940428,
   "end_time": "2024-12-16T13:34:49.098426",
   "environment_variables": {},
   "exception": null,
   "input_path": "__notebook__.ipynb",
   "output_path": "__notebook__.ipynb",
   "parameters": {},
   "start_time": "2024-12-16T12:51:14.157998",
   "version": "2.6.0"
  }
 },
 "nbformat": 4,
 "nbformat_minor": 5
}
