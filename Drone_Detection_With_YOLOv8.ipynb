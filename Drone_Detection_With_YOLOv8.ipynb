{
  "nbformat": 4,
  "nbformat_minor": 0,
  "metadata": {
    "colab": {
      "provenance": [],
      "gpuType": "T4"
    },
    "kernelspec": {
      "name": "python3",
      "display_name": "Python 3"
    },
    "language_info": {
      "name": "python"
    },
    "accelerator": "GPU"
  },
  "cells": [
    {
      "cell_type": "code",
      "source": [
        "%%capture\n",
        "!pip install ultralytics kaggle pyyaml matplotlib seaborn --quiet"
      ],
      "metadata": {
        "id": "yUuqWGTlo--b"
      },
      "execution_count": null,
      "outputs": []
    },
    {
      "cell_type": "code",
      "source": [
        "import os\n",
        "import yaml\n",
        "import glob\n",
        "import random\n",
        "import numpy as np\n",
        "import matplotlib.pyplot as plt\n",
        "import seaborn as sns\n",
        "from PIL import Image\n",
        "import torch\n",
        "from ultralytics import YOLO\n",
        "from google.colab import files"
      ],
      "metadata": {
        "id": "uoycnam8pBw6"
      },
      "execution_count": null,
      "outputs": []
    },
    {
      "cell_type": "code",
      "source": [
        "# Set up environment\n",
        "sns.set_theme(style=\"darkgrid\", font_scale=1.5)\n",
        "plt.rcParams['figure.figsize'] = [12, 8]"
      ],
      "metadata": {
        "id": "m8qkXJySpDpB"
      },
      "execution_count": null,
      "outputs": []
    },
    {
      "cell_type": "code",
      "source": [
        "# Set random seeds for reproducibility\n",
        "seed = 42\n",
        "random.seed(seed)\n",
        "np.random.seed(seed)\n",
        "torch.manual_seed(seed)\n",
        "torch.cuda.manual_seed(seed)"
      ],
      "metadata": {
        "id": "w8__-5tlpFwq"
      },
      "execution_count": null,
      "outputs": []
    },
    {
      "cell_type": "code",
      "source": [
        "# Download and prepare dataset\n",
        "from google.colab import files\n",
        "uploaded = files.upload()\n",
        "\n",
        "print(\"Setting up dataset...\")\n",
        "!mkdir -p ~/.kaggle\n",
        "!cp kaggle.json ~/.kaggle/\n",
        "!chmod 600 ~/.kaggle/kaggle.json\n",
        "\n",
        "!kaggle datasets download -d muki2003/yolo-drone-detection-dataset\n",
        "!unzip -q yolo-drone-detection-dataset.zip -d drone_dataset\n",
        "!rm yolo-drone-detection-dataset.zip"
      ],
      "metadata": {
        "id": "vvRRV8afpI4J"
      },
      "execution_count": null,
      "outputs": []
    },
    {
      "cell_type": "code",
      "source": [
        "# Create YAML config\n",
        "config = {\n",
        "    \"path\": \"/content/drone_dataset/drone_dataset\",\n",
        "    \"train\": \"/content/drone_dataset/drone_dataset/train/images\",\n",
        "    \"val\": \"/content/drone_dataset/drone_dataset/valid/images\",\n",
        "    \"names\": [\"drone\"],\n",
        "    \"nc\": 1\n",
        "}\n",
        "\n",
        "with open(\"/content/data.yaml\", \"w\") as f:\n",
        "    yaml.dump(config, f)"
      ],
      "metadata": {
        "id": "XhxNXM-3pNA6"
      },
      "execution_count": null,
      "outputs": []
    },
    {
      "cell_type": "code",
      "source": [
        "# Train model\n",
        "print(\"\\nTraining model...\")\n",
        "os.environ[\"WANDB_DISABLED\"] = \"true\"  # Disable wandb\n",
        "model = YOLO(\"yolov8n.pt\")\n",
        "\n",
        "results = model.train(\n",
        "    data=\"/content/data.yaml\",\n",
        "    epochs=50,\n",
        "    imgsz=640,\n",
        "    batch=8,\n",
        "    device=0,\n",
        "    patience=5,\n",
        "    seed=42\n",
        ")"
      ],
      "metadata": {
        "id": "rU26USs8pPMJ"
      },
      "execution_count": null,
      "outputs": []
    },
    {
      "cell_type": "code",
      "source": [
        "# Evaluate model\n",
        "metrics = model.val()\n",
        "print(f\"\\nEvaluation results:\")\n",
        "print(f\"mAP@0.5: {metrics.box.map:.3f}\")"
      ],
      "metadata": {
        "id": "-yxm_i7opRpp"
      },
      "execution_count": null,
      "outputs": []
    },
    {
      "cell_type": "code",
      "source": [
        "# Test on sample images\n",
        "print(\"\\nTesting on sample images...\")\n",
        "test_images = glob.glob(\"/content/drone_dataset/drone_dataset/valid/images/*.jpg\")[:3]\n",
        "for img_path in test_images:\n",
        "    results = model.predict(img_path, conf=0.5)\n",
        "    for r in results:\n",
        "        plt.figure(dpi=100)\n",
        "        plt.imshow(r.plot()[:,:,::-1])  # Convert BGR to RGB\n",
        "        plt.title(f\"{len(r.boxes)} objects detected\" if len(r.boxes) > 0 else \"No objects detected\")\n",
        "        plt.axis(\"off\")\n",
        "        plt.show()"
      ],
      "metadata": {
        "id": "vnvwF2gepUP5"
      },
      "execution_count": null,
      "outputs": []
    },
    {
      "cell_type": "code",
      "source": [
        "# Video Processing Section\n",
        "print(\"\\nVideo Processing Section\")\n",
        "print(\"Please upload your video file:\")\n",
        "uploaded = files.upload()\n",
        "video_name = list(uploaded.keys())[0]\n",
        "input_path = f\"/content/{video_name}\""
      ],
      "metadata": {
        "id": "7rnNnE0ZpW9S"
      },
      "execution_count": null,
      "outputs": []
    },
    {
      "cell_type": "code",
      "source": [
        "# Verify model exists\n",
        "model_path = \"/content/runs/detect/train/weights/best.pt\"\n",
        "if not os.path.exists(model_path):\n",
        "    raise FileNotFoundError(f\"Trained model not found at {model_path}\")"
      ],
      "metadata": {
        "id": "b87r34dspZUB"
      },
      "execution_count": null,
      "outputs": []
    },
    {
      "cell_type": "code",
      "source": [
        "# Load trained model\n",
        "model = YOLO(model_path)"
      ],
      "metadata": {
        "id": "p6KsKpySpcMZ"
      },
      "execution_count": null,
      "outputs": []
    },
    {
      "cell_type": "code",
      "source": [
        "# Process video\n",
        "output_dir = \"/content/video_results\"\n",
        "os.makedirs(output_dir, exist_ok=True)\n",
        "\n",
        "# Define output filename with MP4 extension\n",
        "output_video_name = os.path.splitext(video_name)[0] + \"_output.mp4\"\n",
        "output_video_path = f\"{output_dir}/{output_video_name}\"\n",
        "\n",
        "print(f\"\\nProcessing video: {video_name}...\")\n",
        "results = model.predict(\n",
        "    source=input_path,\n",
        "    conf=0.5,\n",
        "    save=True,\n",
        "    imgsz=640,\n",
        "    device=0,\n",
        "    project=output_dir,\n",
        "    name=\"processed_video\",\n",
        "    save_txt=True,\n",
        "    save_conf=True\n",
        ")"
      ],
      "metadata": {
        "id": "2xhWKKb3peHa"
      },
      "execution_count": null,
      "outputs": []
    },
    {
      "cell_type": "code",
      "source": [
        "# Find the actual output path (Ultralytics changes the output naming)\n",
        "processed_dir = f\"{output_dir}/processed_video\"\n",
        "output_files = [f for f in os.listdir(processed_dir) if f.endswith('.mp4') or f.endswith('.avi')]\n",
        "\n",
        "if not output_files:\n",
        "    print(\"\\nError: No output video file found. Available files:\")\n",
        "    !ls -la {processed_dir}\n",
        "    raise FileNotFoundError(\"Processed video not found in output directory\")"
      ],
      "metadata": {
        "id": "l9rrRCvFyXda"
      },
      "execution_count": null,
      "outputs": []
    },
    {
      "cell_type": "code",
      "source": [
        "# Get the first video file found (should be our processed video)\n",
        "detected_output = f\"{processed_dir}/{output_files[0]}\"\n",
        "final_output = f\"{output_dir}/{output_video_name}\""
      ],
      "metadata": {
        "id": "Ln54vz_Xyecp"
      },
      "execution_count": null,
      "outputs": []
    },
    {
      "cell_type": "code",
      "source": [
        "# Convert to MP4 if needed and copy to final location\n",
        "if detected_output.endswith('.avi'):\n",
        "    # Convert AVI to MP4\n",
        "    cap = cv2.VideoCapture(detected_output)\n",
        "    fourcc = cv2.VideoWriter_fourcc(*'mp4v')\n",
        "    fps = cap.get(cv2.CAP_PROP_FPS)\n",
        "    width = int(cap.get(cv2.CAP_PROP_FRAME_WIDTH))\n",
        "    height = int(cap.get(cv2.CAP_PROP_FRAME_HEIGHT))\n",
        "\n",
        "    out = cv2.VideoWriter(final_output, fourcc, fps, (width, height))\n",
        "\n",
        "    while cap.isOpened():\n",
        "        ret, frame = cap.read()\n",
        "        if not ret:\n",
        "            break\n",
        "        out.write(frame)\n",
        "\n",
        "    cap.release()\n",
        "    out.release()\n",
        "else:\n",
        "    # Just copy if already MP4\n",
        "    !cp {detected_output} {final_output}"
      ],
      "metadata": {
        "id": "dZz05l4QygW7"
      },
      "execution_count": null,
      "outputs": []
    },
    {
      "cell_type": "code",
      "execution_count": null,
      "metadata": {
        "id": "t_FCVLZIozEl"
      },
      "outputs": [],
      "source": [
        "# Download the final file\n",
        "if os.path.exists(final_output):\n",
        "    print(f\"\\n✅ Processing complete! File size: {os.path.getsize(final_output)/1024/1024:.2f} MB\")\n",
        "    files.download(final_output)\n",
        "else:\n",
        "    print(\"\\nError: Final output file not created. Available files:\")\n",
        "    !ls -la {output_dir}"
      ]
    }
  ]
}