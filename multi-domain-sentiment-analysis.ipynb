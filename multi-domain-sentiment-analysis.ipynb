{
 "cells": [
  {
   "cell_type": "code",
   "execution_count": 1,
   "id": "b8eecd4e",
   "metadata": {
    "_cell_guid": "b1076dfc-b9ad-4769-8c92-a6c4dae69d19",
    "_uuid": "8f2839f25d086af736a60e9eeb907d3b93b6e0e5",
    "execution": {
     "iopub.execute_input": "2024-11-25T10:46:17.432590Z",
     "iopub.status.busy": "2024-11-25T10:46:17.432099Z",
     "iopub.status.idle": "2024-11-25T10:46:18.407359Z",
     "shell.execute_reply": "2024-11-25T10:46:18.406177Z"
    },
    "papermill": {
     "duration": 0.989502,
     "end_time": "2024-11-25T10:46:18.409754",
     "exception": false,
     "start_time": "2024-11-25T10:46:17.420252",
     "status": "completed"
    },
    "tags": []
   },
   "outputs": [
    {
     "name": "stdout",
     "output_type": "stream",
     "text": [
      "/kaggle/input/multi-domain-sentiment-analysis-persian/Multi-domain.xlsx\n"
     ]
    }
   ],
   "source": [
    "# This Python 3 environment comes with many helpful analytics libraries installed\n",
    "# It is defined by the kaggle/python Docker image: https://github.com/kaggle/docker-python\n",
    "# For example, here's several helpful packages to load\n",
    "\n",
    "import numpy as np # linear algebra\n",
    "import pandas as pd # data processing, CSV file I/O (e.g. pd.read_csv)\n",
    "\n",
    "# Input data files are available in the read-only \"../input/\" directory\n",
    "# For example, running this (by clicking run or pressing Shift+Enter) will list all files under the input directory\n",
    "\n",
    "import os\n",
    "for dirname, _, filenames in os.walk('/kaggle/input'):\n",
    "    for filename in filenames:\n",
    "        print(os.path.join(dirname, filename))\n",
    "\n",
    "# You can write up to 20GB to the current directory (/kaggle/working/) that gets preserved as output when you create a version using \"Save & Run All\" \n",
    "# You can also write temporary files to /kaggle/temp/, but they won't be saved outside of the current session"
   ]
  },
  {
   "cell_type": "code",
   "execution_count": 2,
   "id": "5ba0552e",
   "metadata": {
    "execution": {
     "iopub.execute_input": "2024-11-25T10:46:18.430230Z",
     "iopub.status.busy": "2024-11-25T10:46:18.429550Z",
     "iopub.status.idle": "2024-11-25T10:46:34.441756Z",
     "shell.execute_reply": "2024-11-25T10:46:34.440585Z"
    },
    "papermill": {
     "duration": 16.025596,
     "end_time": "2024-11-25T10:46:34.444279",
     "exception": false,
     "start_time": "2024-11-25T10:46:18.418683",
     "status": "completed"
    },
    "tags": []
   },
   "outputs": [],
   "source": [
    "import re\n",
    "import pandas as pd\n",
    "import matplotlib.pyplot as plt\n",
    "import seaborn as sns\n",
    "from collections import Counter\n",
    "\n",
    "from sklearn.preprocessing import LabelEncoder\n",
    "from sklearn.model_selection import train_test_split\n",
    "from sklearn import metrics\n",
    "\n",
    "from tensorflow.keras.models import Sequential, Model\n",
    "from tensorflow.keras.preprocessing.text import Tokenizer\n",
    "from keras.preprocessing.sequence import pad_sequences\n",
    "from keras.utils import to_categorical\n",
    "import tensorflow as tf\n",
    "\n",
    "import warnings\n",
    "\n",
    "warnings.filterwarnings('ignore')"
   ]
  },
  {
   "cell_type": "markdown",
   "id": "f6f0a363",
   "metadata": {
    "papermill": {
     "duration": 0.007993,
     "end_time": "2024-11-25T10:46:34.460766",
     "exception": false,
     "start_time": "2024-11-25T10:46:34.452773",
     "status": "completed"
    },
    "tags": []
   },
   "source": [
    "# **1-Load Data**"
   ]
  },
  {
   "cell_type": "code",
   "execution_count": 3,
   "id": "afefe2a9",
   "metadata": {
    "execution": {
     "iopub.execute_input": "2024-11-25T10:46:34.480506Z",
     "iopub.status.busy": "2024-11-25T10:46:34.479612Z",
     "iopub.status.idle": "2024-11-25T10:46:37.825996Z",
     "shell.execute_reply": "2024-11-25T10:46:37.824812Z"
    },
    "papermill": {
     "duration": 3.358941,
     "end_time": "2024-11-25T10:46:37.828300",
     "exception": false,
     "start_time": "2024-11-25T10:46:34.469359",
     "status": "completed"
    },
    "tags": []
   },
   "outputs": [],
   "source": [
    "xls = pd.ExcelFile('/kaggle/input/multi-domain-sentiment-analysis-persian/Multi-domain.xlsx')\n",
    "\n",
    "df_Shoes = pd.read_excel(xls, 'Shoes')\n",
    "df_Perfume = pd.read_excel(xls, 'Perfume')\n",
    "df_Phone = pd.read_excel(xls, 'Phone')\n",
    "df_Kream = pd.read_excel(xls, 'Kream')\n",
    "df_Printer = pd.read_excel(xls, 'Printer')\n",
    "df_dress = pd.read_excel(xls, 'dress')\n",
    "df_Book = pd.read_excel(xls, 'Book')\n",
    "df_Bad = pd.read_excel(xls, 'Bad')\n",
    "df_Machine = pd.read_excel(xls, 'Machine')\n",
    "df_Gold = pd.read_excel(xls, 'Gold')"
   ]
  },
  {
   "cell_type": "code",
   "execution_count": 4,
   "id": "0451bed2",
   "metadata": {
    "execution": {
     "iopub.execute_input": "2024-11-25T10:46:37.847327Z",
     "iopub.status.busy": "2024-11-25T10:46:37.846664Z",
     "iopub.status.idle": "2024-11-25T10:46:37.869350Z",
     "shell.execute_reply": "2024-11-25T10:46:37.868238Z"
    },
    "papermill": {
     "duration": 0.0344,
     "end_time": "2024-11-25T10:46:37.871320",
     "exception": false,
     "start_time": "2024-11-25T10:46:37.836920",
     "status": "completed"
    },
    "tags": []
   },
   "outputs": [
    {
     "data": {
      "text/html": [
       "<div>\n",
       "<style scoped>\n",
       "    .dataframe tbody tr th:only-of-type {\n",
       "        vertical-align: middle;\n",
       "    }\n",
       "\n",
       "    .dataframe tbody tr th {\n",
       "        vertical-align: top;\n",
       "    }\n",
       "\n",
       "    .dataframe thead th {\n",
       "        text-align: right;\n",
       "    }\n",
       "</style>\n",
       "<table border=\"1\" class=\"dataframe\">\n",
       "  <thead>\n",
       "    <tr style=\"text-align: right;\">\n",
       "      <th></th>\n",
       "      <th>Unnamed: 0</th>\n",
       "      <th>review</th>\n",
       "      <th>Class</th>\n",
       "    </tr>\n",
       "  </thead>\n",
       "  <tbody>\n",
       "    <tr>\n",
       "      <th>0</th>\n",
       "      <td>NaN</td>\n",
       "      <td>آویز طراحی جالب و زیبایی دارد</td>\n",
       "      <td>1.0</td>\n",
       "    </tr>\n",
       "    <tr>\n",
       "      <th>1</th>\n",
       "      <td>NaN</td>\n",
       "      <td>آویز زیباست توصیه میکنم</td>\n",
       "      <td>1.0</td>\n",
       "    </tr>\n",
       "    <tr>\n",
       "      <th>2</th>\n",
       "      <td>NaN</td>\n",
       "      <td>اویز نسبت به قیمت خوبه</td>\n",
       "      <td>1.0</td>\n",
       "    </tr>\n",
       "    <tr>\n",
       "      <th>3</th>\n",
       "      <td>NaN</td>\n",
       "      <td>آویز خیلی ظاهر زیبایی داره و خیلی تو گردن قشنگ...</td>\n",
       "      <td>1.0</td>\n",
       "    </tr>\n",
       "    <tr>\n",
       "      <th>4</th>\n",
       "      <td>NaN</td>\n",
       "      <td>اویز طراحی زیبایی داشت و اتفاقا بر خلاف وزنش ب...</td>\n",
       "      <td>1.0</td>\n",
       "    </tr>\n",
       "    <tr>\n",
       "      <th>5</th>\n",
       "      <td>NaN</td>\n",
       "      <td>فقط یک کم به نظر می رسد اجرت ساخت اویز بالایی ...</td>\n",
       "      <td>0.0</td>\n",
       "    </tr>\n",
       "    <tr>\n",
       "      <th>6</th>\n",
       "      <td>NaN</td>\n",
       "      <td>اویز خیلی کوچیک و ظریف هست زیباست</td>\n",
       "      <td>1.0</td>\n",
       "    </tr>\n",
       "    <tr>\n",
       "      <th>7</th>\n",
       "      <td>NaN</td>\n",
       "      <td>اویز مناسب هدیه دادن برای دوستان خیلی قشنگ و ج...</td>\n",
       "      <td>1.0</td>\n",
       "    </tr>\n",
       "    <tr>\n",
       "      <th>8</th>\n",
       "      <td>NaN</td>\n",
       "      <td>اویز تو شگفت انگیز خریدم خوب بود</td>\n",
       "      <td>1.0</td>\n",
       "    </tr>\n",
       "    <tr>\n",
       "      <th>9</th>\n",
       "      <td>NaN</td>\n",
       "      <td>اویز اندازه کوچک و بسیار نازک نخرید بهتره</td>\n",
       "      <td>0.0</td>\n",
       "    </tr>\n",
       "  </tbody>\n",
       "</table>\n",
       "</div>"
      ],
      "text/plain": [
       "   Unnamed: 0                                             review  Class\n",
       "0         NaN                      آویز طراحی جالب و زیبایی دارد    1.0\n",
       "1         NaN                            آویز زیباست توصیه میکنم    1.0\n",
       "2         NaN                             اویز نسبت به قیمت خوبه    1.0\n",
       "3         NaN  آویز خیلی ظاهر زیبایی داره و خیلی تو گردن قشنگ...    1.0\n",
       "4         NaN  اویز طراحی زیبایی داشت و اتفاقا بر خلاف وزنش ب...    1.0\n",
       "5         NaN  فقط یک کم به نظر می رسد اجرت ساخت اویز بالایی ...    0.0\n",
       "6         NaN                  اویز خیلی کوچیک و ظریف هست زیباست    1.0\n",
       "7         NaN  اویز مناسب هدیه دادن برای دوستان خیلی قشنگ و ج...    1.0\n",
       "8         NaN                   اویز تو شگفت انگیز خریدم خوب بود    1.0\n",
       "9         NaN          اویز اندازه کوچک و بسیار نازک نخرید بهتره    0.0"
      ]
     },
     "execution_count": 4,
     "metadata": {},
     "output_type": "execute_result"
    }
   ],
   "source": [
    "df_Gold.head(10)"
   ]
  },
  {
   "cell_type": "code",
   "execution_count": 5,
   "id": "02a04862",
   "metadata": {
    "execution": {
     "iopub.execute_input": "2024-11-25T10:46:37.890241Z",
     "iopub.status.busy": "2024-11-25T10:46:37.889828Z",
     "iopub.status.idle": "2024-11-25T10:46:37.912539Z",
     "shell.execute_reply": "2024-11-25T10:46:37.911455Z"
    },
    "papermill": {
     "duration": 0.034937,
     "end_time": "2024-11-25T10:46:37.914943",
     "exception": false,
     "start_time": "2024-11-25T10:46:37.880006",
     "status": "completed"
    },
    "tags": []
   },
   "outputs": [],
   "source": [
    "df_Shoes = df_Shoes.drop('Unnamed: 0',axis=1)\n",
    "df_Perfume = df_Perfume.drop('Unnamed: 0',axis=1)\n",
    "df_Phone = df_Phone.drop('Unnamed: 0',axis=1)\n",
    "df_Kream = df_Kream.drop('Unnamed: 0',axis=1)\n",
    "df_Printer = df_Printer.drop('Unnamed: 0',axis=1)\n",
    "df_dress = df_dress.drop('Unnamed: 0',axis=1)\n",
    "df_Book = df_Book.drop('Unnamed: 0',axis=1)\n",
    "df_Bad = df_Bad.drop('Unnamed: 0',axis=1)\n",
    "df_Machine = df_Machine.drop('Unnamed: 0',axis=1)\n",
    "df_Gold = df_Gold.drop('Unnamed: 0',axis=1)"
   ]
  },
  {
   "cell_type": "code",
   "execution_count": 6,
   "id": "759d1239",
   "metadata": {
    "execution": {
     "iopub.execute_input": "2024-11-25T10:46:37.933998Z",
     "iopub.status.busy": "2024-11-25T10:46:37.933583Z",
     "iopub.status.idle": "2024-11-25T10:46:38.129385Z",
     "shell.execute_reply": "2024-11-25T10:46:38.128202Z"
    },
    "papermill": {
     "duration": 0.207818,
     "end_time": "2024-11-25T10:46:38.131720",
     "exception": false,
     "start_time": "2024-11-25T10:46:37.923902",
     "status": "completed"
    },
    "tags": []
   },
   "outputs": [],
   "source": [
    "my_array = []\n",
    "for index,row in df_Shoes.iterrows():\n",
    "    my_array.append('Shoes')\n",
    "df_Shoes['Domain'] = my_array"
   ]
  },
  {
   "cell_type": "code",
   "execution_count": 7,
   "id": "8b68ac13",
   "metadata": {
    "execution": {
     "iopub.execute_input": "2024-11-25T10:46:38.150760Z",
     "iopub.status.busy": "2024-11-25T10:46:38.150372Z",
     "iopub.status.idle": "2024-11-25T10:46:38.347611Z",
     "shell.execute_reply": "2024-11-25T10:46:38.346455Z"
    },
    "papermill": {
     "duration": 0.209723,
     "end_time": "2024-11-25T10:46:38.350130",
     "exception": false,
     "start_time": "2024-11-25T10:46:38.140407",
     "status": "completed"
    },
    "tags": []
   },
   "outputs": [],
   "source": [
    "my_array = []\n",
    "for index,row in df_Perfume.iterrows():\n",
    "    my_array.append('Perfume')\n",
    "df_Perfume['Domain'] = my_array"
   ]
  },
  {
   "cell_type": "code",
   "execution_count": 8,
   "id": "a9b583e4",
   "metadata": {
    "execution": {
     "iopub.execute_input": "2024-11-25T10:46:38.370644Z",
     "iopub.status.busy": "2024-11-25T10:46:38.370269Z",
     "iopub.status.idle": "2024-11-25T10:46:38.600396Z",
     "shell.execute_reply": "2024-11-25T10:46:38.599269Z"
    },
    "papermill": {
     "duration": 0.243328,
     "end_time": "2024-11-25T10:46:38.602819",
     "exception": false,
     "start_time": "2024-11-25T10:46:38.359491",
     "status": "completed"
    },
    "tags": []
   },
   "outputs": [],
   "source": [
    "my_array = []\n",
    "for index,row in df_Phone.iterrows():\n",
    "    my_array.append('Phone')\n",
    "df_Phone['Domain'] = my_array"
   ]
  },
  {
   "cell_type": "code",
   "execution_count": 9,
   "id": "c9e7e8e0",
   "metadata": {
    "execution": {
     "iopub.execute_input": "2024-11-25T10:46:38.622422Z",
     "iopub.status.busy": "2024-11-25T10:46:38.622003Z",
     "iopub.status.idle": "2024-11-25T10:46:38.831075Z",
     "shell.execute_reply": "2024-11-25T10:46:38.829809Z"
    },
    "papermill": {
     "duration": 0.22186,
     "end_time": "2024-11-25T10:46:38.833922",
     "exception": false,
     "start_time": "2024-11-25T10:46:38.612062",
     "status": "completed"
    },
    "tags": []
   },
   "outputs": [],
   "source": [
    "my_array = []\n",
    "for index,row in df_Kream.iterrows():\n",
    "    my_array.append('Kream')\n",
    "df_Kream['Domain'] = my_array"
   ]
  },
  {
   "cell_type": "code",
   "execution_count": 10,
   "id": "587fde6e",
   "metadata": {
    "execution": {
     "iopub.execute_input": "2024-11-25T10:46:38.854284Z",
     "iopub.status.busy": "2024-11-25T10:46:38.853864Z",
     "iopub.status.idle": "2024-11-25T10:46:39.055607Z",
     "shell.execute_reply": "2024-11-25T10:46:39.054384Z"
    },
    "papermill": {
     "duration": 0.21469,
     "end_time": "2024-11-25T10:46:39.058192",
     "exception": false,
     "start_time": "2024-11-25T10:46:38.843502",
     "status": "completed"
    },
    "tags": []
   },
   "outputs": [],
   "source": [
    "my_array = []\n",
    "for index,row in df_Printer.iterrows():\n",
    "    my_array.append('Printer')\n",
    "df_Printer['Domain'] = my_array"
   ]
  },
  {
   "cell_type": "code",
   "execution_count": 11,
   "id": "85f7841a",
   "metadata": {
    "execution": {
     "iopub.execute_input": "2024-11-25T10:46:39.078159Z",
     "iopub.status.busy": "2024-11-25T10:46:39.077331Z",
     "iopub.status.idle": "2024-11-25T10:46:39.274801Z",
     "shell.execute_reply": "2024-11-25T10:46:39.273799Z"
    },
    "papermill": {
     "duration": 0.210455,
     "end_time": "2024-11-25T10:46:39.277246",
     "exception": false,
     "start_time": "2024-11-25T10:46:39.066791",
     "status": "completed"
    },
    "tags": []
   },
   "outputs": [],
   "source": [
    "my_array = []\n",
    "for index,row in df_dress.iterrows():\n",
    "    my_array.append('dress')\n",
    "df_dress['Domain'] = my_array"
   ]
  },
  {
   "cell_type": "code",
   "execution_count": 12,
   "id": "ab838dff",
   "metadata": {
    "execution": {
     "iopub.execute_input": "2024-11-25T10:46:39.295681Z",
     "iopub.status.busy": "2024-11-25T10:46:39.295333Z",
     "iopub.status.idle": "2024-11-25T10:46:39.492623Z",
     "shell.execute_reply": "2024-11-25T10:46:39.491580Z"
    },
    "papermill": {
     "duration": 0.209367,
     "end_time": "2024-11-25T10:46:39.495108",
     "exception": false,
     "start_time": "2024-11-25T10:46:39.285741",
     "status": "completed"
    },
    "tags": []
   },
   "outputs": [],
   "source": [
    "my_array = []\n",
    "for index,row in df_Book.iterrows():\n",
    "    my_array.append('Book')\n",
    "df_Book['Domain'] = my_array"
   ]
  },
  {
   "cell_type": "code",
   "execution_count": 13,
   "id": "7e333ee2",
   "metadata": {
    "execution": {
     "iopub.execute_input": "2024-11-25T10:46:39.514869Z",
     "iopub.status.busy": "2024-11-25T10:46:39.514096Z",
     "iopub.status.idle": "2024-11-25T10:46:39.723358Z",
     "shell.execute_reply": "2024-11-25T10:46:39.722149Z"
    },
    "papermill": {
     "duration": 0.221919,
     "end_time": "2024-11-25T10:46:39.725799",
     "exception": false,
     "start_time": "2024-11-25T10:46:39.503880",
     "status": "completed"
    },
    "tags": []
   },
   "outputs": [],
   "source": [
    "my_array = []\n",
    "for index,row in df_Bad.iterrows():\n",
    "    my_array.append('Bad')\n",
    "df_Bad['Domain'] = my_array"
   ]
  },
  {
   "cell_type": "code",
   "execution_count": 14,
   "id": "69421f60",
   "metadata": {
    "execution": {
     "iopub.execute_input": "2024-11-25T10:46:39.745236Z",
     "iopub.status.busy": "2024-11-25T10:46:39.744803Z",
     "iopub.status.idle": "2024-11-25T10:46:39.937455Z",
     "shell.execute_reply": "2024-11-25T10:46:39.936338Z"
    },
    "papermill": {
     "duration": 0.205423,
     "end_time": "2024-11-25T10:46:39.939825",
     "exception": false,
     "start_time": "2024-11-25T10:46:39.734402",
     "status": "completed"
    },
    "tags": []
   },
   "outputs": [],
   "source": [
    "my_array = []\n",
    "for index,row in df_Machine.iterrows():\n",
    "    my_array.append('Machine')\n",
    "df_Machine['Domain'] = my_array"
   ]
  },
  {
   "cell_type": "code",
   "execution_count": 15,
   "id": "129814fd",
   "metadata": {
    "execution": {
     "iopub.execute_input": "2024-11-25T10:46:39.959732Z",
     "iopub.status.busy": "2024-11-25T10:46:39.958480Z",
     "iopub.status.idle": "2024-11-25T10:46:40.153326Z",
     "shell.execute_reply": "2024-11-25T10:46:40.152378Z"
    },
    "papermill": {
     "duration": 0.207153,
     "end_time": "2024-11-25T10:46:40.155571",
     "exception": false,
     "start_time": "2024-11-25T10:46:39.948418",
     "status": "completed"
    },
    "tags": []
   },
   "outputs": [],
   "source": [
    "my_array = []\n",
    "for index,row in df_Gold.iterrows():\n",
    "    my_array.append('Gold')\n",
    "df_Gold['Domain'] = my_array"
   ]
  },
  {
   "cell_type": "code",
   "execution_count": 16,
   "id": "317bc29e",
   "metadata": {
    "execution": {
     "iopub.execute_input": "2024-11-25T10:46:40.174625Z",
     "iopub.status.busy": "2024-11-25T10:46:40.173804Z",
     "iopub.status.idle": "2024-11-25T10:46:40.184903Z",
     "shell.execute_reply": "2024-11-25T10:46:40.183845Z"
    },
    "papermill": {
     "duration": 0.02311,
     "end_time": "2024-11-25T10:46:40.187185",
     "exception": false,
     "start_time": "2024-11-25T10:46:40.164075",
     "status": "completed"
    },
    "tags": []
   },
   "outputs": [],
   "source": [
    "df = pd.concat([df_Shoes ,df_Perfume ,df_Phone ,df_Kream ,df_Printer ,df_dress ,df_Book ,df_Bad ,df_Machine ,df_Gold], ignore_index=True)"
   ]
  },
  {
   "cell_type": "markdown",
   "id": "fbf5bbec",
   "metadata": {
    "papermill": {
     "duration": 0.008204,
     "end_time": "2024-11-25T10:46:40.204050",
     "exception": false,
     "start_time": "2024-11-25T10:46:40.195846",
     "status": "completed"
    },
    "tags": []
   },
   "source": [
    "<div style=\"background-color: green; padding: 20px; border-radius: 25px; \">\n",
    "<font color='white' size=\"5px\">\n",
    "Data Overview\n",
    "    </font>\n",
    "</div>"
   ]
  },
  {
   "cell_type": "code",
   "execution_count": 17,
   "id": "3c6dd406",
   "metadata": {
    "execution": {
     "iopub.execute_input": "2024-11-25T10:46:40.223045Z",
     "iopub.status.busy": "2024-11-25T10:46:40.222644Z",
     "iopub.status.idle": "2024-11-25T10:46:40.233905Z",
     "shell.execute_reply": "2024-11-25T10:46:40.232671Z"
    },
    "papermill": {
     "duration": 0.023485,
     "end_time": "2024-11-25T10:46:40.236229",
     "exception": false,
     "start_time": "2024-11-25T10:46:40.212744",
     "status": "completed"
    },
    "tags": []
   },
   "outputs": [
    {
     "data": {
      "text/html": [
       "<div>\n",
       "<style scoped>\n",
       "    .dataframe tbody tr th:only-of-type {\n",
       "        vertical-align: middle;\n",
       "    }\n",
       "\n",
       "    .dataframe tbody tr th {\n",
       "        vertical-align: top;\n",
       "    }\n",
       "\n",
       "    .dataframe thead th {\n",
       "        text-align: right;\n",
       "    }\n",
       "</style>\n",
       "<table border=\"1\" class=\"dataframe\">\n",
       "  <thead>\n",
       "    <tr style=\"text-align: right;\">\n",
       "      <th></th>\n",
       "      <th>review</th>\n",
       "      <th>Class</th>\n",
       "      <th>Domain</th>\n",
       "    </tr>\n",
       "  </thead>\n",
       "  <tbody>\n",
       "    <tr>\n",
       "      <th>0</th>\n",
       "      <td>من این کفش رو برای خودم خریدم چون سایز پام کوچ...</td>\n",
       "      <td>1.0</td>\n",
       "      <td>Shoes</td>\n",
       "    </tr>\n",
       "    <tr>\n",
       "      <th>1</th>\n",
       "      <td>کفش خوش دوخت و تمیز وسایز مناسب</td>\n",
       "      <td>1.0</td>\n",
       "      <td>Shoes</td>\n",
       "    </tr>\n",
       "    <tr>\n",
       "      <th>2</th>\n",
       "      <td>پسرم راضی نبود کتانی را مرجوع کردم</td>\n",
       "      <td>0.0</td>\n",
       "      <td>Shoes</td>\n",
       "    </tr>\n",
       "    <tr>\n",
       "      <th>3</th>\n",
       "      <td>کاملا تخت و فاقد لژ</td>\n",
       "      <td>1.0</td>\n",
       "      <td>Shoes</td>\n",
       "    </tr>\n",
       "    <tr>\n",
       "      <th>4</th>\n",
       "      <td>\\nکفش مدل fashion x\\n\\nبسیار بسیار خشک مخصوصا ...</td>\n",
       "      <td>0.0</td>\n",
       "      <td>Shoes</td>\n",
       "    </tr>\n",
       "    <tr>\n",
       "      <th>5</th>\n",
       "      <td>سبک و شیک\\nتو پا خیلی شیک\\nیه سایز بزرگتر سفار...</td>\n",
       "      <td>1.0</td>\n",
       "      <td>Shoes</td>\n",
       "    </tr>\n",
       "    <tr>\n",
       "      <th>6</th>\n",
       "      <td>جنسش واقعا خوبه،تو پا خیلی قشنگ دیده میشه،فقط ...</td>\n",
       "      <td>1.0</td>\n",
       "      <td>Shoes</td>\n",
       "    </tr>\n",
       "    <tr>\n",
       "      <th>7</th>\n",
       "      <td>کفش شیک و زیباییه. قسمت سفید کفیش خیلی خیلی سف...</td>\n",
       "      <td>1.0</td>\n",
       "      <td>Shoes</td>\n",
       "    </tr>\n",
       "    <tr>\n",
       "      <th>8</th>\n",
       "      <td>زبونه.کتانی هم خیلی بدحالته به چپ و راست تمایل...</td>\n",
       "      <td>0.0</td>\n",
       "      <td>Shoes</td>\n",
       "    </tr>\n",
       "    <tr>\n",
       "      <th>9</th>\n",
       "      <td>\\nقابل قبول و کاربردی\\nنسبت به قیمتش از نظر کی...</td>\n",
       "      <td>1.0</td>\n",
       "      <td>Shoes</td>\n",
       "    </tr>\n",
       "  </tbody>\n",
       "</table>\n",
       "</div>"
      ],
      "text/plain": [
       "                                              review Class Domain\n",
       "0  من این کفش رو برای خودم خریدم چون سایز پام کوچ...   1.0  Shoes\n",
       "1                    کفش خوش دوخت و تمیز وسایز مناسب   1.0  Shoes\n",
       "2                 پسرم راضی نبود کتانی را مرجوع کردم   0.0  Shoes\n",
       "3                                کاملا تخت و فاقد لژ   1.0  Shoes\n",
       "4  \\nکفش مدل fashion x\\n\\nبسیار بسیار خشک مخصوصا ...   0.0  Shoes\n",
       "5  سبک و شیک\\nتو پا خیلی شیک\\nیه سایز بزرگتر سفار...   1.0  Shoes\n",
       "6  جنسش واقعا خوبه،تو پا خیلی قشنگ دیده میشه،فقط ...   1.0  Shoes\n",
       "7  کفش شیک و زیباییه. قسمت سفید کفیش خیلی خیلی سف...   1.0  Shoes\n",
       "8  زبونه.کتانی هم خیلی بدحالته به چپ و راست تمایل...   0.0  Shoes\n",
       "9  \\nقابل قبول و کاربردی\\nنسبت به قیمتش از نظر کی...   1.0  Shoes"
      ]
     },
     "execution_count": 17,
     "metadata": {},
     "output_type": "execute_result"
    }
   ],
   "source": [
    "df.head(10)"
   ]
  },
  {
   "cell_type": "code",
   "execution_count": 18,
   "id": "143f978c",
   "metadata": {
    "execution": {
     "iopub.execute_input": "2024-11-25T10:46:40.256474Z",
     "iopub.status.busy": "2024-11-25T10:46:40.256067Z",
     "iopub.status.idle": "2024-11-25T10:46:40.274111Z",
     "shell.execute_reply": "2024-11-25T10:46:40.273040Z"
    },
    "papermill": {
     "duration": 0.030869,
     "end_time": "2024-11-25T10:46:40.276355",
     "exception": false,
     "start_time": "2024-11-25T10:46:40.245486",
     "status": "completed"
    },
    "tags": []
   },
   "outputs": [
    {
     "data": {
      "text/plain": [
       "review      8\n",
       "Class     170\n",
       "Domain      0\n",
       "dtype: int64"
      ]
     },
     "execution_count": 18,
     "metadata": {},
     "output_type": "execute_result"
    }
   ],
   "source": [
    "missing_values_count = df.isnull().sum()\n",
    "missing_values_count"
   ]
  },
  {
   "cell_type": "code",
   "execution_count": 19,
   "id": "c0b39b5b",
   "metadata": {
    "execution": {
     "iopub.execute_input": "2024-11-25T10:46:40.297682Z",
     "iopub.status.busy": "2024-11-25T10:46:40.297328Z",
     "iopub.status.idle": "2024-11-25T10:46:40.319207Z",
     "shell.execute_reply": "2024-11-25T10:46:40.318098Z"
    },
    "papermill": {
     "duration": 0.035774,
     "end_time": "2024-11-25T10:46:40.321937",
     "exception": false,
     "start_time": "2024-11-25T10:46:40.286163",
     "status": "completed"
    },
    "tags": []
   },
   "outputs": [],
   "source": [
    "df = df.dropna()"
   ]
  },
  {
   "cell_type": "code",
   "execution_count": 20,
   "id": "b53dac0c",
   "metadata": {
    "execution": {
     "iopub.execute_input": "2024-11-25T10:46:40.341618Z",
     "iopub.status.busy": "2024-11-25T10:46:40.341141Z",
     "iopub.status.idle": "2024-11-25T10:46:40.374504Z",
     "shell.execute_reply": "2024-11-25T10:46:40.373338Z"
    },
    "papermill": {
     "duration": 0.046163,
     "end_time": "2024-11-25T10:46:40.377215",
     "exception": false,
     "start_time": "2024-11-25T10:46:40.331052",
     "status": "completed"
    },
    "tags": []
   },
   "outputs": [
    {
     "name": "stdout",
     "output_type": "stream",
     "text": [
      "<class 'pandas.core.frame.DataFrame'>\n",
      "Index: 50803 entries, 0 to 50972\n",
      "Data columns (total 3 columns):\n",
      " #   Column  Non-Null Count  Dtype \n",
      "---  ------  --------------  ----- \n",
      " 0   review  50803 non-null  object\n",
      " 1   Class   50803 non-null  object\n",
      " 2   Domain  50803 non-null  object\n",
      "dtypes: object(3)\n",
      "memory usage: 1.6+ MB\n"
     ]
    }
   ],
   "source": [
    "df.info()"
   ]
  },
  {
   "cell_type": "markdown",
   "id": "736b4409",
   "metadata": {
    "papermill": {
     "duration": 0.008755,
     "end_time": "2024-11-25T10:46:40.395058",
     "exception": false,
     "start_time": "2024-11-25T10:46:40.386303",
     "status": "completed"
    },
    "tags": []
   },
   "source": [
    "# **2-Data Cleaning**"
   ]
  },
  {
   "cell_type": "code",
   "execution_count": 21,
   "id": "8c10d097",
   "metadata": {
    "execution": {
     "iopub.execute_input": "2024-11-25T10:46:40.415883Z",
     "iopub.status.busy": "2024-11-25T10:46:40.415484Z",
     "iopub.status.idle": "2024-11-25T10:46:40.434593Z",
     "shell.execute_reply": "2024-11-25T10:46:40.433528Z"
    },
    "papermill": {
     "duration": 0.031692,
     "end_time": "2024-11-25T10:46:40.436863",
     "exception": false,
     "start_time": "2024-11-25T10:46:40.405171",
     "status": "completed"
    },
    "tags": []
   },
   "outputs": [
    {
     "data": {
      "text/html": [
       "<div>\n",
       "<style scoped>\n",
       "    .dataframe tbody tr th:only-of-type {\n",
       "        vertical-align: middle;\n",
       "    }\n",
       "\n",
       "    .dataframe tbody tr th {\n",
       "        vertical-align: top;\n",
       "    }\n",
       "\n",
       "    .dataframe thead th {\n",
       "        text-align: right;\n",
       "    }\n",
       "</style>\n",
       "<table border=\"1\" class=\"dataframe\">\n",
       "  <thead>\n",
       "    <tr style=\"text-align: right;\">\n",
       "      <th></th>\n",
       "      <th>review</th>\n",
       "      <th>Class</th>\n",
       "      <th>Domain</th>\n",
       "    </tr>\n",
       "  </thead>\n",
       "  <tbody>\n",
       "    <tr>\n",
       "      <th>13138</th>\n",
       "      <td>گوشی موبایل سامسونگ مدل Galaxy A30s SM-A307FN/...</td>\n",
       "      <td>6ت</td>\n",
       "      <td>Phone</td>\n",
       "    </tr>\n",
       "    <tr>\n",
       "      <th>15119</th>\n",
       "      <td>بهترین گوشی رده متوسط بازاره خیلی سریع شارژ می...</td>\n",
       "      <td>11</td>\n",
       "      <td>Phone</td>\n",
       "    </tr>\n",
       "    <tr>\n",
       "      <th>15208</th>\n",
       "      <td>گوشی موبایل سامسونگ مدل Galaxy A71 SM-A715F/DS...</td>\n",
       "      <td>گوشی موبایل سامسونگ مدل Galaxy A71 SM-A715F/DS...</td>\n",
       "      <td>Phone</td>\n",
       "    </tr>\n",
       "    <tr>\n",
       "      <th>24433</th>\n",
       "      <td>خوبه ولی بعد مدتی در منطقه ما بدلیل گرد وخاک خ...</td>\n",
       "      <td>2.0</td>\n",
       "      <td>Printer</td>\n",
       "    </tr>\n",
       "  </tbody>\n",
       "</table>\n",
       "</div>"
      ],
      "text/plain": [
       "                                                  review  \\\n",
       "13138  گوشی موبایل سامسونگ مدل Galaxy A30s SM-A307FN/...   \n",
       "15119  بهترین گوشی رده متوسط بازاره خیلی سریع شارژ می...   \n",
       "15208  گوشی موبایل سامسونگ مدل Galaxy A71 SM-A715F/DS...   \n",
       "24433  خوبه ولی بعد مدتی در منطقه ما بدلیل گرد وخاک خ...   \n",
       "\n",
       "                                                   Class   Domain  \n",
       "13138                                                 6ت    Phone  \n",
       "15119                                                 11    Phone  \n",
       "15208  گوشی موبایل سامسونگ مدل Galaxy A71 SM-A715F/DS...    Phone  \n",
       "24433                                                2.0  Printer  "
      ]
     },
     "execution_count": 21,
     "metadata": {},
     "output_type": "execute_result"
    }
   ],
   "source": [
    "df.loc[(df['Class']!=0.0) & (df['Class']!=1.0)]"
   ]
  },
  {
   "cell_type": "code",
   "execution_count": 22,
   "id": "88f8b643",
   "metadata": {
    "execution": {
     "iopub.execute_input": "2024-11-25T10:46:40.456654Z",
     "iopub.status.busy": "2024-11-25T10:46:40.456245Z",
     "iopub.status.idle": "2024-11-25T10:46:40.501565Z",
     "shell.execute_reply": "2024-11-25T10:46:40.500407Z"
    },
    "papermill": {
     "duration": 0.057896,
     "end_time": "2024-11-25T10:46:40.503977",
     "exception": false,
     "start_time": "2024-11-25T10:46:40.446081",
     "status": "completed"
    },
    "tags": []
   },
   "outputs": [],
   "source": [
    "for i in df.loc[(df['Class']!=0) & (df['Class']!=1)].index:\n",
    "    df = df.drop([i])"
   ]
  },
  {
   "cell_type": "markdown",
   "id": "32646a71",
   "metadata": {
    "papermill": {
     "duration": 0.008747,
     "end_time": "2024-11-25T10:46:40.521904",
     "exception": false,
     "start_time": "2024-11-25T10:46:40.513157",
     "status": "completed"
    },
    "tags": []
   },
   "source": [
    "# **3-Exploratery Data Analysis**"
   ]
  },
  {
   "cell_type": "code",
   "execution_count": 23,
   "id": "e98b9372",
   "metadata": {
    "execution": {
     "iopub.execute_input": "2024-11-25T10:46:40.541841Z",
     "iopub.status.busy": "2024-11-25T10:46:40.541392Z",
     "iopub.status.idle": "2024-11-25T10:46:40.547497Z",
     "shell.execute_reply": "2024-11-25T10:46:40.546554Z"
    },
    "papermill": {
     "duration": 0.018605,
     "end_time": "2024-11-25T10:46:40.549605",
     "exception": false,
     "start_time": "2024-11-25T10:46:40.531000",
     "status": "completed"
    },
    "tags": []
   },
   "outputs": [
    {
     "name": "stdout",
     "output_type": "stream",
     "text": [
      "Number of Dataset sentence (50799,)\n",
      "Number of Dataset labels (50799,)\n"
     ]
    }
   ],
   "source": [
    "X = df['review']\n",
    "Y = df['Class']\n",
    "\n",
    "print('Number of Dataset sentence' , X.shape)\n",
    "print('Number of Dataset labels' , Y.shape)"
   ]
  },
  {
   "cell_type": "code",
   "execution_count": 24,
   "id": "3600f0f0",
   "metadata": {
    "execution": {
     "iopub.execute_input": "2024-11-25T10:46:40.570385Z",
     "iopub.status.busy": "2024-11-25T10:46:40.569936Z",
     "iopub.status.idle": "2024-11-25T10:46:41.271679Z",
     "shell.execute_reply": "2024-11-25T10:46:41.270386Z"
    },
    "papermill": {
     "duration": 0.715585,
     "end_time": "2024-11-25T10:46:41.274358",
     "exception": false,
     "start_time": "2024-11-25T10:46:40.558773",
     "status": "completed"
    },
    "tags": []
   },
   "outputs": [
    {
     "data": {
      "image/png": "[encoded data removed]",
      "text/plain": [
       "<Figure size 2000x500 with 2 Axes>"
      ]
     },
     "metadata": {},
     "output_type": "display_data"
    }
   ],
   "source": [
    "fig, axes = plt.subplots(1,2, figsize=(20,5))\n",
    "\n",
    "sns.countplot(data=df, x='Class', ax=axes[0]);\n",
    "sns.countplot(data=df, x='Domain', ax=axes[1]);"
   ]
  },
  {
   "cell_type": "code",
   "execution_count": 25,
   "id": "f25f5f52",
   "metadata": {
    "execution": {
     "iopub.execute_input": "2024-11-25T10:46:41.296602Z",
     "iopub.status.busy": "2024-11-25T10:46:41.296113Z",
     "iopub.status.idle": "2024-11-25T10:46:41.793823Z",
     "shell.execute_reply": "2024-11-25T10:46:41.792665Z"
    },
    "papermill": {
     "duration": 0.514113,
     "end_time": "2024-11-25T10:46:41.798600",
     "exception": false,
     "start_time": "2024-11-25T10:46:41.284487",
     "status": "completed"
    },
    "tags": []
   },
   "outputs": [
    {
     "data": {
      "image/png": "[encoded data removed]",
      "text/plain": [
       "<Figure size 500x500 with 1 Axes>"
      ]
     },
     "metadata": {},
     "output_type": "display_data"
    },
    {
     "data": {
      "image/png": "[encoded data removed]",
      "text/plain": [
       "<Figure size 500x500 with 1 Axes>"
      ]
     },
     "metadata": {},
     "output_type": "display_data"
    }
   ],
   "source": [
    "columns = {\n",
    "    'Class': df['Class'],\n",
    "    'Domain': df['Domain']\n",
    "}\n",
    "\n",
    "def plot_data(name, data):\n",
    "    plt.figure(figsize=(5, 5))\n",
    "    palette_color = sns.color_palette('pastel')\n",
    "    explode = [0.1 for _ in range(data.nunique())]\n",
    "\n",
    "    target_counts = df.groupby(name)[name].count()\n",
    "\n",
    "    target_counts.plot.pie(\n",
    "    colors=palette_color,\n",
    "    explode=explode,\n",
    "    autopct=\"%1.1f%%\",\n",
    "    shadow=True,\n",
    "    startangle=140,\n",
    "    textprops={'fontsize': 14},\n",
    "    wedgeprops={'edgecolor': 'black', 'linewidth': 1.5} \n",
    "    )\n",
    "\n",
    "    plt.title(name, fontsize=18, weight='bold')\n",
    "    plt.axis('equal')\n",
    "    plt.show()\n",
    "\n",
    "\n",
    "for name, data in columns.items():\n",
    "    plot_data(name, data)"
   ]
  },
  {
   "cell_type": "code",
   "execution_count": 26,
   "id": "66d7637f",
   "metadata": {
    "execution": {
     "iopub.execute_input": "2024-11-25T10:46:41.834415Z",
     "iopub.status.busy": "2024-11-25T10:46:41.833593Z",
     "iopub.status.idle": "2024-11-25T10:46:41.844465Z",
     "shell.execute_reply": "2024-11-25T10:46:41.843247Z"
    },
    "papermill": {
     "duration": 0.026614,
     "end_time": "2024-11-25T10:46:41.846719",
     "exception": false,
     "start_time": "2024-11-25T10:46:41.820105",
     "status": "completed"
    },
    "tags": []
   },
   "outputs": [
    {
     "data": {
      "text/plain": [
       "4    \\nکفش مدل fashion x\\n\\nبسیار بسیار خشک مخصوصا ...\n",
       "Name: review, dtype: object"
      ]
     },
     "execution_count": 26,
     "metadata": {},
     "output_type": "execute_result"
    }
   ],
   "source": [
    "df.loc[[4]]['review']"
   ]
  },
  {
   "cell_type": "markdown",
   "id": "5d58e1ac",
   "metadata": {
    "papermill": {
     "duration": 0.012185,
     "end_time": "2024-11-25T10:46:41.871377",
     "exception": false,
     "start_time": "2024-11-25T10:46:41.859192",
     "status": "completed"
    },
    "tags": []
   },
   "source": [
    "# **4-Removing alphabet characters**"
   ]
  },
  {
   "cell_type": "code",
   "execution_count": 27,
   "id": "da4fd092",
   "metadata": {
    "execution": {
     "iopub.execute_input": "2024-11-25T10:46:41.897620Z",
     "iopub.status.busy": "2024-11-25T10:46:41.897240Z",
     "iopub.status.idle": "2024-11-25T10:52:22.227943Z",
     "shell.execute_reply": "2024-11-25T10:52:22.226931Z"
    },
    "papermill": {
     "duration": 340.347012,
     "end_time": "2024-11-25T10:52:22.230603",
     "exception": false,
     "start_time": "2024-11-25T10:46:41.883591",
     "status": "completed"
    },
    "tags": []
   },
   "outputs": [],
   "source": [
    "unwanted_alphabet = ['a','b','c','d','e','f','g','h','i','j','k','l','m','n','o','p','q','r','s','t','u','v','w','x','y','z',\n",
    "                    'A','B','C','D','E','F','G','H','I','J','K','L','M','N','O','P','Q','R','S','T','U','V','W','X','Y','Z']\n",
    "\n",
    "for i in df['review']:\n",
    "    text = i\n",
    "    for alpha in unwanted_alphabet:\n",
    "        text = text.replace(alpha,'') \n",
    "    df.loc[df.loc[df['review']==i].index, 'review'] = text"
   ]
  },
  {
   "cell_type": "markdown",
   "id": "e535954f",
   "metadata": {
    "papermill": {
     "duration": 0.011957,
     "end_time": "2024-11-25T10:52:22.255115",
     "exception": false,
     "start_time": "2024-11-25T10:52:22.243158",
     "status": "completed"
    },
    "tags": []
   },
   "source": [
    "# **5-Removing digit characters**"
   ]
  },
  {
   "cell_type": "code",
   "execution_count": 28,
   "id": "8cb9ee45",
   "metadata": {
    "execution": {
     "iopub.execute_input": "2024-11-25T10:52:22.281124Z",
     "iopub.status.busy": "2024-11-25T10:52:22.280722Z",
     "iopub.status.idle": "2024-11-25T10:58:02.502174Z",
     "shell.execute_reply": "2024-11-25T10:58:02.501159Z"
    },
    "papermill": {
     "duration": 340.237249,
     "end_time": "2024-11-25T10:58:02.504767",
     "exception": false,
     "start_time": "2024-11-25T10:52:22.267518",
     "status": "completed"
    },
    "tags": []
   },
   "outputs": [],
   "source": [
    "unwanted_digit = ['0','1','2','3','4','5','6','7','8','9']\n",
    "\n",
    "for i in df['review']:\n",
    "    text = i\n",
    "    for digit in unwanted_digit:\n",
    "        text = text.replace(digit,'')\n",
    "    df.loc[df.loc[df['review']==i].index, 'review'] = text"
   ]
  },
  {
   "cell_type": "markdown",
   "id": "ae34128b",
   "metadata": {
    "papermill": {
     "duration": 0.01246,
     "end_time": "2024-11-25T10:58:02.529855",
     "exception": false,
     "start_time": "2024-11-25T10:58:02.517395",
     "status": "completed"
    },
    "tags": []
   },
   "source": [
    "# **6-Removing punc characters**"
   ]
  },
  {
   "cell_type": "code",
   "execution_count": 29,
   "id": "03a44341",
   "metadata": {
    "execution": {
     "iopub.execute_input": "2024-11-25T10:58:02.556276Z",
     "iopub.status.busy": "2024-11-25T10:58:02.555439Z",
     "iopub.status.idle": "2024-11-25T11:03:57.709406Z",
     "shell.execute_reply": "2024-11-25T11:03:57.708328Z"
    },
    "papermill": {
     "duration": 355.170117,
     "end_time": "2024-11-25T11:03:57.712200",
     "exception": false,
     "start_time": "2024-11-25T10:58:02.542083",
     "status": "completed"
    },
    "tags": []
   },
   "outputs": [],
   "source": [
    "unwanted_punc = ['!','@','#','$','%','^','&','*','(',')','_','-','=','+','{','}','[',']','\\\\','\\n','\\t','.','<','>','/','?','|',';',',','\"',':']\n",
    "\n",
    "for i in df['review']:\n",
    "    text = i\n",
    "    for punc in unwanted_punc:\n",
    "        text = text.replace(punc,'')\n",
    "    df.loc[df.loc[df['review']==i].index, 'review'] = text"
   ]
  },
  {
   "cell_type": "code",
   "execution_count": 30,
   "id": "b775ad2f",
   "metadata": {
    "execution": {
     "iopub.execute_input": "2024-11-25T11:03:57.739505Z",
     "iopub.status.busy": "2024-11-25T11:03:57.739057Z",
     "iopub.status.idle": "2024-11-25T11:03:57.750109Z",
     "shell.execute_reply": "2024-11-25T11:03:57.749046Z"
    },
    "papermill": {
     "duration": 0.026629,
     "end_time": "2024-11-25T11:03:57.752176",
     "exception": false,
     "start_time": "2024-11-25T11:03:57.725547",
     "status": "completed"
    },
    "tags": []
   },
   "outputs": [
    {
     "data": {
      "text/html": [
       "<div>\n",
       "<style scoped>\n",
       "    .dataframe tbody tr th:only-of-type {\n",
       "        vertical-align: middle;\n",
       "    }\n",
       "\n",
       "    .dataframe tbody tr th {\n",
       "        vertical-align: top;\n",
       "    }\n",
       "\n",
       "    .dataframe thead th {\n",
       "        text-align: right;\n",
       "    }\n",
       "</style>\n",
       "<table border=\"1\" class=\"dataframe\">\n",
       "  <thead>\n",
       "    <tr style=\"text-align: right;\">\n",
       "      <th></th>\n",
       "      <th>review</th>\n",
       "      <th>Class</th>\n",
       "      <th>Domain</th>\n",
       "    </tr>\n",
       "  </thead>\n",
       "  <tbody>\n",
       "    <tr>\n",
       "      <th>0</th>\n",
       "      <td>من این کفش رو برای خودم خریدم چون سایز پام کوچ...</td>\n",
       "      <td>1.0</td>\n",
       "      <td>Shoes</td>\n",
       "    </tr>\n",
       "    <tr>\n",
       "      <th>1</th>\n",
       "      <td>کفش خوش دوخت و تمیز وسایز مناسب</td>\n",
       "      <td>1.0</td>\n",
       "      <td>Shoes</td>\n",
       "    </tr>\n",
       "    <tr>\n",
       "      <th>2</th>\n",
       "      <td>پسرم راضی نبود کتانی را مرجوع کردم</td>\n",
       "      <td>0.0</td>\n",
       "      <td>Shoes</td>\n",
       "    </tr>\n",
       "    <tr>\n",
       "      <th>3</th>\n",
       "      <td>کاملا تخت و فاقد لژ</td>\n",
       "      <td>1.0</td>\n",
       "      <td>Shoes</td>\n",
       "    </tr>\n",
       "    <tr>\n",
       "      <th>4</th>\n",
       "      <td>کفش مدل  بسیار بسیار خشک مخصوصا کفی کفشبطوریکه...</td>\n",
       "      <td>0.0</td>\n",
       "      <td>Shoes</td>\n",
       "    </tr>\n",
       "    <tr>\n",
       "      <th>5</th>\n",
       "      <td>سبک و شیکتو پا خیلی شیکیه سایز بزرگتر سفارش بدید</td>\n",
       "      <td>1.0</td>\n",
       "      <td>Shoes</td>\n",
       "    </tr>\n",
       "    <tr>\n",
       "      <th>6</th>\n",
       "      <td>جنسش واقعا خوبه،تو پا خیلی قشنگ دیده میشه،فقط ...</td>\n",
       "      <td>1.0</td>\n",
       "      <td>Shoes</td>\n",
       "    </tr>\n",
       "    <tr>\n",
       "      <th>7</th>\n",
       "      <td>کفش شیک و زیباییه قسمت سفید کفیش خیلی خیلی سفت...</td>\n",
       "      <td>1.0</td>\n",
       "      <td>Shoes</td>\n",
       "    </tr>\n",
       "    <tr>\n",
       "      <th>8</th>\n",
       "      <td>زبونهکتانی هم خیلی بدحالته به چپ و راست تمایل ...</td>\n",
       "      <td>0.0</td>\n",
       "      <td>Shoes</td>\n",
       "    </tr>\n",
       "    <tr>\n",
       "      <th>9</th>\n",
       "      <td>قابل قبول و کاربردینسبت به قیمتش از نظر کیفیت ...</td>\n",
       "      <td>1.0</td>\n",
       "      <td>Shoes</td>\n",
       "    </tr>\n",
       "  </tbody>\n",
       "</table>\n",
       "</div>"
      ],
      "text/plain": [
       "                                              review Class Domain\n",
       "0  من این کفش رو برای خودم خریدم چون سایز پام کوچ...   1.0  Shoes\n",
       "1                    کفش خوش دوخت و تمیز وسایز مناسب   1.0  Shoes\n",
       "2                 پسرم راضی نبود کتانی را مرجوع کردم   0.0  Shoes\n",
       "3                                کاملا تخت و فاقد لژ   1.0  Shoes\n",
       "4  کفش مدل  بسیار بسیار خشک مخصوصا کفی کفشبطوریکه...   0.0  Shoes\n",
       "5   سبک و شیکتو پا خیلی شیکیه سایز بزرگتر سفارش بدید   1.0  Shoes\n",
       "6  جنسش واقعا خوبه،تو پا خیلی قشنگ دیده میشه،فقط ...   1.0  Shoes\n",
       "7  کفش شیک و زیباییه قسمت سفید کفیش خیلی خیلی سفت...   1.0  Shoes\n",
       "8  زبونهکتانی هم خیلی بدحالته به چپ و راست تمایل ...   0.0  Shoes\n",
       "9  قابل قبول و کاربردینسبت به قیمتش از نظر کیفیت ...   1.0  Shoes"
      ]
     },
     "execution_count": 30,
     "metadata": {},
     "output_type": "execute_result"
    }
   ],
   "source": [
    "df.head(10)"
   ]
  },
  {
   "cell_type": "markdown",
   "id": "9ac6c8f2",
   "metadata": {
    "papermill": {
     "duration": 0.012337,
     "end_time": "2024-11-25T11:03:57.777094",
     "exception": false,
     "start_time": "2024-11-25T11:03:57.764757",
     "status": "completed"
    },
    "tags": []
   },
   "source": [
    "# **7-Data Preparation**"
   ]
  },
  {
   "cell_type": "code",
   "execution_count": 31,
   "id": "2a8e659f",
   "metadata": {
    "execution": {
     "iopub.execute_input": "2024-11-25T11:03:57.803824Z",
     "iopub.status.busy": "2024-11-25T11:03:57.802925Z",
     "iopub.status.idle": "2024-11-25T11:03:57.823074Z",
     "shell.execute_reply": "2024-11-25T11:03:57.821939Z"
    },
    "papermill": {
     "duration": 0.035875,
     "end_time": "2024-11-25T11:03:57.825345",
     "exception": false,
     "start_time": "2024-11-25T11:03:57.789470",
     "status": "completed"
    },
    "tags": []
   },
   "outputs": [
    {
     "name": "stdout",
     "output_type": "stream",
     "text": [
      "<class 'pandas.core.frame.DataFrame'>\n",
      "Index: 50799 entries, 0 to 50972\n",
      "Data columns (total 3 columns):\n",
      " #   Column  Non-Null Count  Dtype \n",
      "---  ------  --------------  ----- \n",
      " 0   review  50799 non-null  object\n",
      " 1   Class   50799 non-null  object\n",
      " 2   Domain  50799 non-null  object\n",
      "dtypes: object(3)\n",
      "memory usage: 3.6+ MB\n"
     ]
    }
   ],
   "source": [
    "df.info()"
   ]
  },
  {
   "cell_type": "code",
   "execution_count": 32,
   "id": "7f39ab69",
   "metadata": {
    "execution": {
     "iopub.execute_input": "2024-11-25T11:03:57.853677Z",
     "iopub.status.busy": "2024-11-25T11:03:57.853251Z",
     "iopub.status.idle": "2024-11-25T11:03:57.861465Z",
     "shell.execute_reply": "2024-11-25T11:03:57.860312Z"
    },
    "papermill": {
     "duration": 0.024827,
     "end_time": "2024-11-25T11:03:57.863628",
     "exception": false,
     "start_time": "2024-11-25T11:03:57.838801",
     "status": "completed"
    },
    "tags": []
   },
   "outputs": [],
   "source": [
    "df['Class'] = df['Class'].astype(int)"
   ]
  },
  {
   "cell_type": "code",
   "execution_count": 33,
   "id": "fcc76280",
   "metadata": {
    "execution": {
     "iopub.execute_input": "2024-11-25T11:03:57.890427Z",
     "iopub.status.busy": "2024-11-25T11:03:57.890012Z",
     "iopub.status.idle": "2024-11-25T11:03:57.900970Z",
     "shell.execute_reply": "2024-11-25T11:03:57.899888Z"
    },
    "papermill": {
     "duration": 0.026944,
     "end_time": "2024-11-25T11:03:57.903171",
     "exception": false,
     "start_time": "2024-11-25T11:03:57.876227",
     "status": "completed"
    },
    "tags": []
   },
   "outputs": [
    {
     "data": {
      "text/html": [
       "<div>\n",
       "<style scoped>\n",
       "    .dataframe tbody tr th:only-of-type {\n",
       "        vertical-align: middle;\n",
       "    }\n",
       "\n",
       "    .dataframe tbody tr th {\n",
       "        vertical-align: top;\n",
       "    }\n",
       "\n",
       "    .dataframe thead th {\n",
       "        text-align: right;\n",
       "    }\n",
       "</style>\n",
       "<table border=\"1\" class=\"dataframe\">\n",
       "  <thead>\n",
       "    <tr style=\"text-align: right;\">\n",
       "      <th></th>\n",
       "      <th>review</th>\n",
       "      <th>Class</th>\n",
       "      <th>Domain</th>\n",
       "    </tr>\n",
       "  </thead>\n",
       "  <tbody>\n",
       "    <tr>\n",
       "      <th>0</th>\n",
       "      <td>من این کفش رو برای خودم خریدم چون سایز پام کوچ...</td>\n",
       "      <td>1</td>\n",
       "      <td>Shoes</td>\n",
       "    </tr>\n",
       "    <tr>\n",
       "      <th>1</th>\n",
       "      <td>کفش خوش دوخت و تمیز وسایز مناسب</td>\n",
       "      <td>1</td>\n",
       "      <td>Shoes</td>\n",
       "    </tr>\n",
       "    <tr>\n",
       "      <th>2</th>\n",
       "      <td>پسرم راضی نبود کتانی را مرجوع کردم</td>\n",
       "      <td>0</td>\n",
       "      <td>Shoes</td>\n",
       "    </tr>\n",
       "    <tr>\n",
       "      <th>3</th>\n",
       "      <td>کاملا تخت و فاقد لژ</td>\n",
       "      <td>1</td>\n",
       "      <td>Shoes</td>\n",
       "    </tr>\n",
       "    <tr>\n",
       "      <th>4</th>\n",
       "      <td>کفش مدل  بسیار بسیار خشک مخصوصا کفی کفشبطوریکه...</td>\n",
       "      <td>0</td>\n",
       "      <td>Shoes</td>\n",
       "    </tr>\n",
       "  </tbody>\n",
       "</table>\n",
       "</div>"
      ],
      "text/plain": [
       "                                              review  Class Domain\n",
       "0  من این کفش رو برای خودم خریدم چون سایز پام کوچ...      1  Shoes\n",
       "1                    کفش خوش دوخت و تمیز وسایز مناسب      1  Shoes\n",
       "2                 پسرم راضی نبود کتانی را مرجوع کردم      0  Shoes\n",
       "3                                کاملا تخت و فاقد لژ      1  Shoes\n",
       "4  کفش مدل  بسیار بسیار خشک مخصوصا کفی کفشبطوریکه...      0  Shoes"
      ]
     },
     "execution_count": 33,
     "metadata": {},
     "output_type": "execute_result"
    }
   ],
   "source": [
    "df.head()"
   ]
  },
  {
   "cell_type": "code",
   "execution_count": 34,
   "id": "bfece14b",
   "metadata": {
    "execution": {
     "iopub.execute_input": "2024-11-25T11:03:57.930627Z",
     "iopub.status.busy": "2024-11-25T11:03:57.929667Z",
     "iopub.status.idle": "2024-11-25T11:03:57.948907Z",
     "shell.execute_reply": "2024-11-25T11:03:57.947833Z"
    },
    "papermill": {
     "duration": 0.035192,
     "end_time": "2024-11-25T11:03:57.951074",
     "exception": false,
     "start_time": "2024-11-25T11:03:57.915882",
     "status": "completed"
    },
    "tags": []
   },
   "outputs": [
    {
     "data": {
      "text/html": [
       "<div>\n",
       "<style scoped>\n",
       "    .dataframe tbody tr th:only-of-type {\n",
       "        vertical-align: middle;\n",
       "    }\n",
       "\n",
       "    .dataframe tbody tr th {\n",
       "        vertical-align: top;\n",
       "    }\n",
       "\n",
       "    .dataframe thead th {\n",
       "        text-align: right;\n",
       "    }\n",
       "</style>\n",
       "<table border=\"1\" class=\"dataframe\">\n",
       "  <thead>\n",
       "    <tr style=\"text-align: right;\">\n",
       "      <th></th>\n",
       "      <th>review</th>\n",
       "      <th>Class</th>\n",
       "      <th>Domain</th>\n",
       "    </tr>\n",
       "  </thead>\n",
       "  <tbody>\n",
       "    <tr>\n",
       "      <th>0</th>\n",
       "      <td>من این کفش رو برای خودم خریدم چون سایز پام کوچ...</td>\n",
       "      <td>1</td>\n",
       "      <td>8</td>\n",
       "    </tr>\n",
       "    <tr>\n",
       "      <th>1</th>\n",
       "      <td>کفش خوش دوخت و تمیز وسایز مناسب</td>\n",
       "      <td>1</td>\n",
       "      <td>8</td>\n",
       "    </tr>\n",
       "    <tr>\n",
       "      <th>2</th>\n",
       "      <td>پسرم راضی نبود کتانی را مرجوع کردم</td>\n",
       "      <td>0</td>\n",
       "      <td>8</td>\n",
       "    </tr>\n",
       "    <tr>\n",
       "      <th>3</th>\n",
       "      <td>کاملا تخت و فاقد لژ</td>\n",
       "      <td>1</td>\n",
       "      <td>8</td>\n",
       "    </tr>\n",
       "    <tr>\n",
       "      <th>4</th>\n",
       "      <td>کفش مدل  بسیار بسیار خشک مخصوصا کفی کفشبطوریکه...</td>\n",
       "      <td>0</td>\n",
       "      <td>8</td>\n",
       "    </tr>\n",
       "  </tbody>\n",
       "</table>\n",
       "</div>"
      ],
      "text/plain": [
       "                                              review  Class  Domain\n",
       "0  من این کفش رو برای خودم خریدم چون سایز پام کوچ...      1       8\n",
       "1                    کفش خوش دوخت و تمیز وسایز مناسب      1       8\n",
       "2                 پسرم راضی نبود کتانی را مرجوع کردم      0       8\n",
       "3                                کاملا تخت و فاقد لژ      1       8\n",
       "4  کفش مدل  بسیار بسیار خشک مخصوصا کفی کفشبطوریکه...      0       8"
      ]
     },
     "execution_count": 34,
     "metadata": {},
     "output_type": "execute_result"
    }
   ],
   "source": [
    "encoder = LabelEncoder()\n",
    "df['Domain'] = encoder.fit_transform(df['Domain'])\n",
    "df.head()"
   ]
  },
  {
   "cell_type": "code",
   "execution_count": 35,
   "id": "91d8be73",
   "metadata": {
    "execution": {
     "iopub.execute_input": "2024-11-25T11:03:57.978350Z",
     "iopub.status.busy": "2024-11-25T11:03:57.977921Z",
     "iopub.status.idle": "2024-11-25T11:03:57.983687Z",
     "shell.execute_reply": "2024-11-25T11:03:57.982541Z"
    },
    "papermill": {
     "duration": 0.021606,
     "end_time": "2024-11-25T11:03:57.985684",
     "exception": false,
     "start_time": "2024-11-25T11:03:57.964078",
     "status": "completed"
    },
    "tags": []
   },
   "outputs": [],
   "source": [
    "y_Class = np.array(df['Class'])\n",
    "y_Domain = np.array(df['Domain'])"
   ]
  },
  {
   "cell_type": "code",
   "execution_count": 36,
   "id": "0595d81a",
   "metadata": {
    "execution": {
     "iopub.execute_input": "2024-11-25T11:03:58.014244Z",
     "iopub.status.busy": "2024-11-25T11:03:58.013292Z",
     "iopub.status.idle": "2024-11-25T11:04:00.060725Z",
     "shell.execute_reply": "2024-11-25T11:04:00.059511Z"
    },
    "papermill": {
     "duration": 2.064139,
     "end_time": "2024-11-25T11:04:00.063222",
     "exception": false,
     "start_time": "2024-11-25T11:03:57.999083",
     "status": "completed"
    },
    "tags": []
   },
   "outputs": [
    {
     "name": "stdout",
     "output_type": "stream",
     "text": [
      "(50799, 290)\n"
     ]
    }
   ],
   "source": [
    "max_fatures = 1000\n",
    "tokenizer = Tokenizer(num_words=max_fatures, split=' ')\n",
    "tokenizer.fit_on_texts(df['review'].values)\n",
    "\n",
    "X = tokenizer.texts_to_sequences(df['review'].values)\n",
    "X = pad_sequences(X,maxlen=290)\n",
    "print(X.shape)"
   ]
  },
  {
   "cell_type": "markdown",
   "id": "6dd66f9a",
   "metadata": {
    "papermill": {
     "duration": 0.012732,
     "end_time": "2024-11-25T11:04:00.089505",
     "exception": false,
     "start_time": "2024-11-25T11:04:00.076773",
     "status": "completed"
    },
    "tags": []
   },
   "source": [
    "# **8-Simple Deep Learning Model**"
   ]
  },
  {
   "cell_type": "code",
   "execution_count": 37,
   "id": "8ae96512",
   "metadata": {
    "execution": {
     "iopub.execute_input": "2024-11-25T11:04:00.118328Z",
     "iopub.status.busy": "2024-11-25T11:04:00.117928Z",
     "iopub.status.idle": "2024-11-25T11:04:00.428490Z",
     "shell.execute_reply": "2024-11-25T11:04:00.427528Z"
    },
    "papermill": {
     "duration": 0.327833,
     "end_time": "2024-11-25T11:04:00.431260",
     "exception": false,
     "start_time": "2024-11-25T11:04:00.103427",
     "status": "completed"
    },
    "tags": []
   },
   "outputs": [
    {
     "data": {
      "text/html": [
       "<pre style=\"white-space:pre;overflow-x:auto;line-height:normal;font-family:Menlo,'DejaVu Sans Mono',consolas,'Courier New',monospace\"><span style=\"font-weight: bold\">Model: \"functional_1\"</span>\n",
       "</pre>\n"
      ],
      "text/plain": [
       "\u001b[1mModel: \"functional_1\"\u001b[0m\n"
      ]
     },
     "metadata": {},
     "output_type": "display_data"
    },
    {
     "data": {
      "text/html": [
       "<pre style=\"white-space:pre;overflow-x:auto;line-height:normal;font-family:Menlo,'DejaVu Sans Mono',consolas,'Courier New',monospace\">┏━━━━━━━━━━━━━━━━━━━━━┳━━━━━━━━━━━━━━━━━━━┳━━━━━━━━━━━━┳━━━━━━━━━━━━━━━━━━━┓\n",
       "┃<span style=\"font-weight: bold\"> Layer (type)        </span>┃<span style=\"font-weight: bold\"> Output Shape      </span>┃<span style=\"font-weight: bold\">    Param # </span>┃<span style=\"font-weight: bold\"> Connected to      </span>┃\n",
       "┡━━━━━━━━━━━━━━━━━━━━━╇━━━━━━━━━━━━━━━━━━━╇━━━━━━━━━━━━╇━━━━━━━━━━━━━━━━━━━┩\n",
       "│ input_layer         │ (<span style=\"color: #00d7ff; text-decoration-color: #00d7ff\">None</span>, <span style=\"color: #00af00; text-decoration-color: #00af00\">290</span>)       │          <span style=\"color: #00af00; text-decoration-color: #00af00\">0</span> │ -                 │\n",
       "│ (<span style=\"color: #0087ff; text-decoration-color: #0087ff\">InputLayer</span>)        │                   │            │                   │\n",
       "├─────────────────────┼───────────────────┼────────────┼───────────────────┤\n",
       "│ embedding           │ (<span style=\"color: #00d7ff; text-decoration-color: #00d7ff\">None</span>, <span style=\"color: #00af00; text-decoration-color: #00af00\">290</span>, <span style=\"color: #00af00; text-decoration-color: #00af00\">100</span>)  │  <span style=\"color: #00af00; text-decoration-color: #00af00\">2,788,300</span> │ input_layer[<span style=\"color: #00af00; text-decoration-color: #00af00\">0</span>][<span style=\"color: #00af00; text-decoration-color: #00af00\">0</span>] │\n",
       "│ (<span style=\"color: #0087ff; text-decoration-color: #0087ff\">Embedding</span>)         │                   │            │                   │\n",
       "├─────────────────────┼───────────────────┼────────────┼───────────────────┤\n",
       "│ conv1d (<span style=\"color: #0087ff; text-decoration-color: #0087ff\">Conv1D</span>)     │ (<span style=\"color: #00d7ff; text-decoration-color: #00d7ff\">None</span>, <span style=\"color: #00af00; text-decoration-color: #00af00\">287</span>, <span style=\"color: #00af00; text-decoration-color: #00af00\">256</span>)  │    <span style=\"color: #00af00; text-decoration-color: #00af00\">102,656</span> │ embedding[<span style=\"color: #00af00; text-decoration-color: #00af00\">0</span>][<span style=\"color: #00af00; text-decoration-color: #00af00\">0</span>]   │\n",
       "├─────────────────────┼───────────────────┼────────────┼───────────────────┤\n",
       "│ dropout (<span style=\"color: #0087ff; text-decoration-color: #0087ff\">Dropout</span>)   │ (<span style=\"color: #00d7ff; text-decoration-color: #00d7ff\">None</span>, <span style=\"color: #00af00; text-decoration-color: #00af00\">287</span>, <span style=\"color: #00af00; text-decoration-color: #00af00\">256</span>)  │          <span style=\"color: #00af00; text-decoration-color: #00af00\">0</span> │ conv1d[<span style=\"color: #00af00; text-decoration-color: #00af00\">0</span>][<span style=\"color: #00af00; text-decoration-color: #00af00\">0</span>]      │\n",
       "├─────────────────────┼───────────────────┼────────────┼───────────────────┤\n",
       "│ max_pooling1d       │ (<span style=\"color: #00d7ff; text-decoration-color: #00d7ff\">None</span>, <span style=\"color: #00af00; text-decoration-color: #00af00\">143</span>, <span style=\"color: #00af00; text-decoration-color: #00af00\">256</span>)  │          <span style=\"color: #00af00; text-decoration-color: #00af00\">0</span> │ dropout[<span style=\"color: #00af00; text-decoration-color: #00af00\">0</span>][<span style=\"color: #00af00; text-decoration-color: #00af00\">0</span>]     │\n",
       "│ (<span style=\"color: #0087ff; text-decoration-color: #0087ff\">MaxPooling1D</span>)      │                   │            │                   │\n",
       "├─────────────────────┼───────────────────┼────────────┼───────────────────┤\n",
       "│ embedding_1         │ (<span style=\"color: #00d7ff; text-decoration-color: #00d7ff\">None</span>, <span style=\"color: #00af00; text-decoration-color: #00af00\">290</span>, <span style=\"color: #00af00; text-decoration-color: #00af00\">100</span>)  │  <span style=\"color: #00af00; text-decoration-color: #00af00\">2,788,300</span> │ input_layer[<span style=\"color: #00af00; text-decoration-color: #00af00\">0</span>][<span style=\"color: #00af00; text-decoration-color: #00af00\">0</span>] │\n",
       "│ (<span style=\"color: #0087ff; text-decoration-color: #0087ff\">Embedding</span>)         │                   │            │                   │\n",
       "├─────────────────────┼───────────────────┼────────────┼───────────────────┤\n",
       "│ conv1d_1 (<span style=\"color: #0087ff; text-decoration-color: #0087ff\">Conv1D</span>)   │ (<span style=\"color: #00d7ff; text-decoration-color: #00d7ff\">None</span>, <span style=\"color: #00af00; text-decoration-color: #00af00\">140</span>, <span style=\"color: #00af00; text-decoration-color: #00af00\">128</span>)  │    <span style=\"color: #00af00; text-decoration-color: #00af00\">131,200</span> │ max_pooling1d[<span style=\"color: #00af00; text-decoration-color: #00af00\">0</span>]… │\n",
       "├─────────────────────┼───────────────────┼────────────┼───────────────────┤\n",
       "│ conv1d_2 (<span style=\"color: #0087ff; text-decoration-color: #0087ff\">Conv1D</span>)   │ (<span style=\"color: #00d7ff; text-decoration-color: #00d7ff\">None</span>, <span style=\"color: #00af00; text-decoration-color: #00af00\">287</span>, <span style=\"color: #00af00; text-decoration-color: #00af00\">256</span>)  │    <span style=\"color: #00af00; text-decoration-color: #00af00\">102,656</span> │ embedding_1[<span style=\"color: #00af00; text-decoration-color: #00af00\">0</span>][<span style=\"color: #00af00; text-decoration-color: #00af00\">0</span>] │\n",
       "├─────────────────────┼───────────────────┼────────────┼───────────────────┤\n",
       "│ dropout_1 (<span style=\"color: #0087ff; text-decoration-color: #0087ff\">Dropout</span>) │ (<span style=\"color: #00d7ff; text-decoration-color: #00d7ff\">None</span>, <span style=\"color: #00af00; text-decoration-color: #00af00\">140</span>, <span style=\"color: #00af00; text-decoration-color: #00af00\">128</span>)  │          <span style=\"color: #00af00; text-decoration-color: #00af00\">0</span> │ conv1d_1[<span style=\"color: #00af00; text-decoration-color: #00af00\">0</span>][<span style=\"color: #00af00; text-decoration-color: #00af00\">0</span>]    │\n",
       "├─────────────────────┼───────────────────┼────────────┼───────────────────┤\n",
       "│ dropout_2 (<span style=\"color: #0087ff; text-decoration-color: #0087ff\">Dropout</span>) │ (<span style=\"color: #00d7ff; text-decoration-color: #00d7ff\">None</span>, <span style=\"color: #00af00; text-decoration-color: #00af00\">287</span>, <span style=\"color: #00af00; text-decoration-color: #00af00\">256</span>)  │          <span style=\"color: #00af00; text-decoration-color: #00af00\">0</span> │ conv1d_2[<span style=\"color: #00af00; text-decoration-color: #00af00\">0</span>][<span style=\"color: #00af00; text-decoration-color: #00af00\">0</span>]    │\n",
       "├─────────────────────┼───────────────────┼────────────┼───────────────────┤\n",
       "│ max_pooling1d_1     │ (<span style=\"color: #00d7ff; text-decoration-color: #00d7ff\">None</span>, <span style=\"color: #00af00; text-decoration-color: #00af00\">70</span>, <span style=\"color: #00af00; text-decoration-color: #00af00\">128</span>)   │          <span style=\"color: #00af00; text-decoration-color: #00af00\">0</span> │ dropout_1[<span style=\"color: #00af00; text-decoration-color: #00af00\">0</span>][<span style=\"color: #00af00; text-decoration-color: #00af00\">0</span>]   │\n",
       "│ (<span style=\"color: #0087ff; text-decoration-color: #0087ff\">MaxPooling1D</span>)      │                   │            │                   │\n",
       "├─────────────────────┼───────────────────┼────────────┼───────────────────┤\n",
       "│ max_pooling1d_2     │ (<span style=\"color: #00d7ff; text-decoration-color: #00d7ff\">None</span>, <span style=\"color: #00af00; text-decoration-color: #00af00\">143</span>, <span style=\"color: #00af00; text-decoration-color: #00af00\">256</span>)  │          <span style=\"color: #00af00; text-decoration-color: #00af00\">0</span> │ dropout_2[<span style=\"color: #00af00; text-decoration-color: #00af00\">0</span>][<span style=\"color: #00af00; text-decoration-color: #00af00\">0</span>]   │\n",
       "│ (<span style=\"color: #0087ff; text-decoration-color: #0087ff\">MaxPooling1D</span>)      │                   │            │                   │\n",
       "├─────────────────────┼───────────────────┼────────────┼───────────────────┤\n",
       "│ flatten (<span style=\"color: #0087ff; text-decoration-color: #0087ff\">Flatten</span>)   │ (<span style=\"color: #00d7ff; text-decoration-color: #00d7ff\">None</span>, <span style=\"color: #00af00; text-decoration-color: #00af00\">8960</span>)      │          <span style=\"color: #00af00; text-decoration-color: #00af00\">0</span> │ max_pooling1d_1[<span style=\"color: #00af00; text-decoration-color: #00af00\">…</span> │\n",
       "├─────────────────────┼───────────────────┼────────────┼───────────────────┤\n",
       "│ flatten_1 (<span style=\"color: #0087ff; text-decoration-color: #0087ff\">Flatten</span>) │ (<span style=\"color: #00d7ff; text-decoration-color: #00d7ff\">None</span>, <span style=\"color: #00af00; text-decoration-color: #00af00\">36608</span>)     │          <span style=\"color: #00af00; text-decoration-color: #00af00\">0</span> │ max_pooling1d_2[<span style=\"color: #00af00; text-decoration-color: #00af00\">…</span> │\n",
       "├─────────────────────┼───────────────────┼────────────┼───────────────────┤\n",
       "│ Class (<span style=\"color: #0087ff; text-decoration-color: #0087ff\">Dense</span>)       │ (<span style=\"color: #00d7ff; text-decoration-color: #00d7ff\">None</span>, <span style=\"color: #00af00; text-decoration-color: #00af00\">128</span>)       │  <span style=\"color: #00af00; text-decoration-color: #00af00\">1,147,008</span> │ flatten[<span style=\"color: #00af00; text-decoration-color: #00af00\">0</span>][<span style=\"color: #00af00; text-decoration-color: #00af00\">0</span>]     │\n",
       "├─────────────────────┼───────────────────┼────────────┼───────────────────┤\n",
       "│ Domain (<span style=\"color: #0087ff; text-decoration-color: #0087ff\">Dense</span>)      │ (<span style=\"color: #00d7ff; text-decoration-color: #00d7ff\">None</span>, <span style=\"color: #00af00; text-decoration-color: #00af00\">128</span>)       │  <span style=\"color: #00af00; text-decoration-color: #00af00\">4,685,952</span> │ flatten_1[<span style=\"color: #00af00; text-decoration-color: #00af00\">0</span>][<span style=\"color: #00af00; text-decoration-color: #00af00\">0</span>]   │\n",
       "├─────────────────────┼───────────────────┼────────────┼───────────────────┤\n",
       "│ dropout_4 (<span style=\"color: #0087ff; text-decoration-color: #0087ff\">Dropout</span>) │ (<span style=\"color: #00d7ff; text-decoration-color: #00d7ff\">None</span>, <span style=\"color: #00af00; text-decoration-color: #00af00\">128</span>)       │          <span style=\"color: #00af00; text-decoration-color: #00af00\">0</span> │ Class[<span style=\"color: #00af00; text-decoration-color: #00af00\">0</span>][<span style=\"color: #00af00; text-decoration-color: #00af00\">0</span>]       │\n",
       "├─────────────────────┼───────────────────┼────────────┼───────────────────┤\n",
       "│ dropout_5 (<span style=\"color: #0087ff; text-decoration-color: #0087ff\">Dropout</span>) │ (<span style=\"color: #00d7ff; text-decoration-color: #00d7ff\">None</span>, <span style=\"color: #00af00; text-decoration-color: #00af00\">128</span>)       │          <span style=\"color: #00af00; text-decoration-color: #00af00\">0</span> │ Domain[<span style=\"color: #00af00; text-decoration-color: #00af00\">0</span>][<span style=\"color: #00af00; text-decoration-color: #00af00\">0</span>]      │\n",
       "├─────────────────────┼───────────────────┼────────────┼───────────────────┤\n",
       "│ Class_out (<span style=\"color: #0087ff; text-decoration-color: #0087ff\">Dense</span>)   │ (<span style=\"color: #00d7ff; text-decoration-color: #00d7ff\">None</span>, <span style=\"color: #00af00; text-decoration-color: #00af00\">1</span>)         │        <span style=\"color: #00af00; text-decoration-color: #00af00\">129</span> │ dropout_4[<span style=\"color: #00af00; text-decoration-color: #00af00\">0</span>][<span style=\"color: #00af00; text-decoration-color: #00af00\">0</span>]   │\n",
       "├─────────────────────┼───────────────────┼────────────┼───────────────────┤\n",
       "│ Domain_out (<span style=\"color: #0087ff; text-decoration-color: #0087ff\">Dense</span>)  │ (<span style=\"color: #00d7ff; text-decoration-color: #00d7ff\">None</span>, <span style=\"color: #00af00; text-decoration-color: #00af00\">1</span>)         │        <span style=\"color: #00af00; text-decoration-color: #00af00\">129</span> │ dropout_5[<span style=\"color: #00af00; text-decoration-color: #00af00\">0</span>][<span style=\"color: #00af00; text-decoration-color: #00af00\">0</span>]   │\n",
       "└─────────────────────┴───────────────────┴────────────┴───────────────────┘\n",
       "</pre>\n"
      ],
      "text/plain": [
       "┏━━━━━━━━━━━━━━━━━━━━━┳━━━━━━━━━━━━━━━━━━━┳━━━━━━━━━━━━┳━━━━━━━━━━━━━━━━━━━┓\n",
       "┃\u001b[1m \u001b[0m\u001b[1mLayer (type)       \u001b[0m\u001b[1m \u001b[0m┃\u001b[1m \u001b[0m\u001b[1mOutput Shape     \u001b[0m\u001b[1m \u001b[0m┃\u001b[1m \u001b[0m\u001b[1m   Param #\u001b[0m\u001b[1m \u001b[0m┃\u001b[1m \u001b[0m\u001b[1mConnected to     \u001b[0m\u001b[1m \u001b[0m┃\n",
       "┡━━━━━━━━━━━━━━━━━━━━━╇━━━━━━━━━━━━━━━━━━━╇━━━━━━━━━━━━╇━━━━━━━━━━━━━━━━━━━┩\n",
       "│ input_layer         │ (\u001b[38;5;45mNone\u001b[0m, \u001b[38;5;34m290\u001b[0m)       │          \u001b[38;5;34m0\u001b[0m │ -                 │\n",
       "│ (\u001b[38;5;33mInputLayer\u001b[0m)        │                   │            │                   │\n",
       "├─────────────────────┼───────────────────┼────────────┼───────────────────┤\n",
       "│ embedding           │ (\u001b[38;5;45mNone\u001b[0m, \u001b[38;5;34m290\u001b[0m, \u001b[38;5;34m100\u001b[0m)  │  \u001b[38;5;34m2,788,300\u001b[0m │ input_layer[\u001b[38;5;34m0\u001b[0m][\u001b[38;5;34m0\u001b[0m] │\n",
       "│ (\u001b[38;5;33mEmbedding\u001b[0m)         │                   │            │                   │\n",
       "├─────────────────────┼───────────────────┼────────────┼───────────────────┤\n",
       "│ conv1d (\u001b[38;5;33mConv1D\u001b[0m)     │ (\u001b[38;5;45mNone\u001b[0m, \u001b[38;5;34m287\u001b[0m, \u001b[38;5;34m256\u001b[0m)  │    \u001b[38;5;34m102,656\u001b[0m │ embedding[\u001b[38;5;34m0\u001b[0m][\u001b[38;5;34m0\u001b[0m]   │\n",
       "├─────────────────────┼───────────────────┼────────────┼───────────────────┤\n",
       "│ dropout (\u001b[38;5;33mDropout\u001b[0m)   │ (\u001b[38;5;45mNone\u001b[0m, \u001b[38;5;34m287\u001b[0m, \u001b[38;5;34m256\u001b[0m)  │          \u001b[38;5;34m0\u001b[0m │ conv1d[\u001b[38;5;34m0\u001b[0m][\u001b[38;5;34m0\u001b[0m]      │\n",
       "├─────────────────────┼───────────────────┼────────────┼───────────────────┤\n",
       "│ max_pooling1d       │ (\u001b[38;5;45mNone\u001b[0m, \u001b[38;5;34m143\u001b[0m, \u001b[38;5;34m256\u001b[0m)  │          \u001b[38;5;34m0\u001b[0m │ dropout[\u001b[38;5;34m0\u001b[0m][\u001b[38;5;34m0\u001b[0m]     │\n",
       "│ (\u001b[38;5;33mMaxPooling1D\u001b[0m)      │                   │            │                   │\n",
       "├─────────────────────┼───────────────────┼────────────┼───────────────────┤\n",
       "│ embedding_1         │ (\u001b[38;5;45mNone\u001b[0m, \u001b[38;5;34m290\u001b[0m, \u001b[38;5;34m100\u001b[0m)  │  \u001b[38;5;34m2,788,300\u001b[0m │ input_layer[\u001b[38;5;34m0\u001b[0m][\u001b[38;5;34m0\u001b[0m] │\n",
       "│ (\u001b[38;5;33mEmbedding\u001b[0m)         │                   │            │                   │\n",
       "├─────────────────────┼───────────────────┼────────────┼───────────────────┤\n",
       "│ conv1d_1 (\u001b[38;5;33mConv1D\u001b[0m)   │ (\u001b[38;5;45mNone\u001b[0m, \u001b[38;5;34m140\u001b[0m, \u001b[38;5;34m128\u001b[0m)  │    \u001b[38;5;34m131,200\u001b[0m │ max_pooling1d[\u001b[38;5;34m0\u001b[0m]… │\n",
       "├─────────────────────┼───────────────────┼────────────┼───────────────────┤\n",
       "│ conv1d_2 (\u001b[38;5;33mConv1D\u001b[0m)   │ (\u001b[38;5;45mNone\u001b[0m, \u001b[38;5;34m287\u001b[0m, \u001b[38;5;34m256\u001b[0m)  │    \u001b[38;5;34m102,656\u001b[0m │ embedding_1[\u001b[38;5;34m0\u001b[0m][\u001b[38;5;34m0\u001b[0m] │\n",
       "├─────────────────────┼───────────────────┼────────────┼───────────────────┤\n",
       "│ dropout_1 (\u001b[38;5;33mDropout\u001b[0m) │ (\u001b[38;5;45mNone\u001b[0m, \u001b[38;5;34m140\u001b[0m, \u001b[38;5;34m128\u001b[0m)  │          \u001b[38;5;34m0\u001b[0m │ conv1d_1[\u001b[38;5;34m0\u001b[0m][\u001b[38;5;34m0\u001b[0m]    │\n",
       "├─────────────────────┼───────────────────┼────────────┼───────────────────┤\n",
       "│ dropout_2 (\u001b[38;5;33mDropout\u001b[0m) │ (\u001b[38;5;45mNone\u001b[0m, \u001b[38;5;34m287\u001b[0m, \u001b[38;5;34m256\u001b[0m)  │          \u001b[38;5;34m0\u001b[0m │ conv1d_2[\u001b[38;5;34m0\u001b[0m][\u001b[38;5;34m0\u001b[0m]    │\n",
       "├─────────────────────┼───────────────────┼────────────┼───────────────────┤\n",
       "│ max_pooling1d_1     │ (\u001b[38;5;45mNone\u001b[0m, \u001b[38;5;34m70\u001b[0m, \u001b[38;5;34m128\u001b[0m)   │          \u001b[38;5;34m0\u001b[0m │ dropout_1[\u001b[38;5;34m0\u001b[0m][\u001b[38;5;34m0\u001b[0m]   │\n",
       "│ (\u001b[38;5;33mMaxPooling1D\u001b[0m)      │                   │            │                   │\n",
       "├─────────────────────┼───────────────────┼────────────┼───────────────────┤\n",
       "│ max_pooling1d_2     │ (\u001b[38;5;45mNone\u001b[0m, \u001b[38;5;34m143\u001b[0m, \u001b[38;5;34m256\u001b[0m)  │          \u001b[38;5;34m0\u001b[0m │ dropout_2[\u001b[38;5;34m0\u001b[0m][\u001b[38;5;34m0\u001b[0m]   │\n",
       "│ (\u001b[38;5;33mMaxPooling1D\u001b[0m)      │                   │            │                   │\n",
       "├─────────────────────┼───────────────────┼────────────┼───────────────────┤\n",
       "│ flatten (\u001b[38;5;33mFlatten\u001b[0m)   │ (\u001b[38;5;45mNone\u001b[0m, \u001b[38;5;34m8960\u001b[0m)      │          \u001b[38;5;34m0\u001b[0m │ max_pooling1d_1[\u001b[38;5;34m…\u001b[0m │\n",
       "├─────────────────────┼───────────────────┼────────────┼───────────────────┤\n",
       "│ flatten_1 (\u001b[38;5;33mFlatten\u001b[0m) │ (\u001b[38;5;45mNone\u001b[0m, \u001b[38;5;34m36608\u001b[0m)     │          \u001b[38;5;34m0\u001b[0m │ max_pooling1d_2[\u001b[38;5;34m…\u001b[0m │\n",
       "├─────────────────────┼───────────────────┼────────────┼───────────────────┤\n",
       "│ Class (\u001b[38;5;33mDense\u001b[0m)       │ (\u001b[38;5;45mNone\u001b[0m, \u001b[38;5;34m128\u001b[0m)       │  \u001b[38;5;34m1,147,008\u001b[0m │ flatten[\u001b[38;5;34m0\u001b[0m][\u001b[38;5;34m0\u001b[0m]     │\n",
       "├─────────────────────┼───────────────────┼────────────┼───────────────────┤\n",
       "│ Domain (\u001b[38;5;33mDense\u001b[0m)      │ (\u001b[38;5;45mNone\u001b[0m, \u001b[38;5;34m128\u001b[0m)       │  \u001b[38;5;34m4,685,952\u001b[0m │ flatten_1[\u001b[38;5;34m0\u001b[0m][\u001b[38;5;34m0\u001b[0m]   │\n",
       "├─────────────────────┼───────────────────┼────────────┼───────────────────┤\n",
       "│ dropout_4 (\u001b[38;5;33mDropout\u001b[0m) │ (\u001b[38;5;45mNone\u001b[0m, \u001b[38;5;34m128\u001b[0m)       │          \u001b[38;5;34m0\u001b[0m │ Class[\u001b[38;5;34m0\u001b[0m][\u001b[38;5;34m0\u001b[0m]       │\n",
       "├─────────────────────┼───────────────────┼────────────┼───────────────────┤\n",
       "│ dropout_5 (\u001b[38;5;33mDropout\u001b[0m) │ (\u001b[38;5;45mNone\u001b[0m, \u001b[38;5;34m128\u001b[0m)       │          \u001b[38;5;34m0\u001b[0m │ Domain[\u001b[38;5;34m0\u001b[0m][\u001b[38;5;34m0\u001b[0m]      │\n",
       "├─────────────────────┼───────────────────┼────────────┼───────────────────┤\n",
       "│ Class_out (\u001b[38;5;33mDense\u001b[0m)   │ (\u001b[38;5;45mNone\u001b[0m, \u001b[38;5;34m1\u001b[0m)         │        \u001b[38;5;34m129\u001b[0m │ dropout_4[\u001b[38;5;34m0\u001b[0m][\u001b[38;5;34m0\u001b[0m]   │\n",
       "├─────────────────────┼───────────────────┼────────────┼───────────────────┤\n",
       "│ Domain_out (\u001b[38;5;33mDense\u001b[0m)  │ (\u001b[38;5;45mNone\u001b[0m, \u001b[38;5;34m1\u001b[0m)         │        \u001b[38;5;34m129\u001b[0m │ dropout_5[\u001b[38;5;34m0\u001b[0m][\u001b[38;5;34m0\u001b[0m]   │\n",
       "└─────────────────────┴───────────────────┴────────────┴───────────────────┘\n"
      ]
     },
     "metadata": {},
     "output_type": "display_data"
    },
    {
     "data": {
      "text/html": [
       "<pre style=\"white-space:pre;overflow-x:auto;line-height:normal;font-family:Menlo,'DejaVu Sans Mono',consolas,'Courier New',monospace\"><span style=\"font-weight: bold\"> Total params: </span><span style=\"color: #00af00; text-decoration-color: #00af00\">11,746,330</span> (44.81 MB)\n",
       "</pre>\n"
      ],
      "text/plain": [
       "\u001b[1m Total params: \u001b[0m\u001b[38;5;34m11,746,330\u001b[0m (44.81 MB)\n"
      ]
     },
     "metadata": {},
     "output_type": "display_data"
    },
    {
     "data": {
      "text/html": [
       "<pre style=\"white-space:pre;overflow-x:auto;line-height:normal;font-family:Menlo,'DejaVu Sans Mono',consolas,'Courier New',monospace\"><span style=\"font-weight: bold\"> Trainable params: </span><span style=\"color: #00af00; text-decoration-color: #00af00\">11,746,330</span> (44.81 MB)\n",
       "</pre>\n"
      ],
      "text/plain": [
       "\u001b[1m Trainable params: \u001b[0m\u001b[38;5;34m11,746,330\u001b[0m (44.81 MB)\n"
      ]
     },
     "metadata": {},
     "output_type": "display_data"
    },
    {
     "data": {
      "text/html": [
       "<pre style=\"white-space:pre;overflow-x:auto;line-height:normal;font-family:Menlo,'DejaVu Sans Mono',consolas,'Courier New',monospace\"><span style=\"font-weight: bold\"> Non-trainable params: </span><span style=\"color: #00af00; text-decoration-color: #00af00\">0</span> (0.00 B)\n",
       "</pre>\n"
      ],
      "text/plain": [
       "\u001b[1m Non-trainable params: \u001b[0m\u001b[38;5;34m0\u001b[0m (0.00 B)\n"
      ]
     },
     "metadata": {},
     "output_type": "display_data"
    },
    {
     "name": "stdout",
     "output_type": "stream",
     "text": [
      "None\n"
     ]
    }
   ],
   "source": [
    "inputs1 = tf.keras.layers.Input(shape=(290,))\n",
    "embedding1 = tf.keras.layers.Embedding(len(tokenizer.word_index) + 1, 100)(inputs1)\n",
    "conv1 = tf.keras.layers.Conv1D(filters=256, kernel_size=4, activation='relu')(embedding1)\n",
    "drop1 = tf.keras.layers.Dropout(0.5)(conv1)\n",
    "pool1 = tf.keras.layers.MaxPooling1D(pool_size=2)(drop1)\n",
    "conv2 = tf.keras.layers.Conv1D(filters=128, kernel_size=4, activation='relu')(pool1)\n",
    "drop2 = tf.keras.layers.Dropout(0.5)(conv2)\n",
    "pool2 = tf.keras.layers.MaxPooling1D(pool_size=2)(drop2)\n",
    "flat1 = tf.keras.layers.Flatten()(pool2)\n",
    "\n",
    "embedding2 = tf.keras.layers.Embedding(len(tokenizer.word_index) + 1, 100)(inputs1)\n",
    "conv2 = tf.keras.layers.Conv1D(filters=256, kernel_size=4, activation='relu')(embedding2)\n",
    "drop2 = tf.keras.layers.Dropout(0.5)(conv2)\n",
    "pool2 = tf.keras.layers.MaxPooling1D(pool_size=2)(drop2)\n",
    "conv3 = tf.keras.layers.Conv1D(filters=126, kernel_size=4, activation='relu')(pool2)\n",
    "drop3 = tf.keras.layers.Dropout(0.5)(conv3)\n",
    "pool3 = tf.keras.layers.MaxPooling1D(pool_size=2)(drop3)\n",
    "flat2 = tf.keras.layers.Flatten()(pool2)\n",
    "\n",
    "# fully connected layers\n",
    "dense_1 = tf.keras.layers.Dense(128, activation = 'relu', name = 'Class')(flat1)\n",
    "dense_2 = tf.keras.layers.Dense(128, activation = 'relu', name = 'Domain')(flat2)\n",
    "\n",
    "dropout_2 = tf.keras.layers.Dropout(0.5) (dense_1)\n",
    "dropout_3 = tf.keras.layers.Dropout(0.5) (dense_2)\n",
    "\n",
    "output_1 = tf.keras.layers.Dense(1, activation='sigmoid', name='Class_out') (dropout_2)\n",
    "output_2 = tf.keras.layers.Dense(1, activation='relu', name='Domain_out') (dropout_3)\n",
    "\n",
    "\n",
    "model = Model(inputs=[inputs1], outputs=[output_1, output_2])\n",
    "\n",
    "model.compile(loss=['binary_crossentropy', 'mae'], optimizer='adam', metrics=['accuracy', 'mae'])\n",
    "print(model.summary())"
   ]
  },
  {
   "cell_type": "code",
   "execution_count": 38,
   "id": "ff1396a5",
   "metadata": {
    "execution": {
     "iopub.execute_input": "2024-11-25T11:04:00.462348Z",
     "iopub.status.busy": "2024-11-25T11:04:00.461934Z",
     "iopub.status.idle": "2024-11-25T11:30:31.646222Z",
     "shell.execute_reply": "2024-11-25T11:30:31.645055Z"
    },
    "papermill": {
     "duration": 1591.628603,
     "end_time": "2024-11-25T11:30:32.074484",
     "exception": false,
     "start_time": "2024-11-25T11:04:00.445881",
     "status": "completed"
    },
    "tags": []
   },
   "outputs": [
    {
     "name": "stdout",
     "output_type": "stream",
     "text": [
      "Epoch 1/5\n",
      "\u001b[1m1270/1270\u001b[0m \u001b[32m━━━━━━━━━━━━━━━━━━━━\u001b[0m\u001b[37m\u001b[0m \u001b[1m312s\u001b[0m 243ms/step - Class_out_accuracy: 0.8046 - Domain_out_mae: 2.2257 - loss: 2.6808 - val_Class_out_accuracy: 0.8422 - val_Domain_out_mae: 1.4117 - val_loss: 1.7710\n",
      "Epoch 2/5\n",
      "\u001b[1m1270/1270\u001b[0m \u001b[32m━━━━━━━━━━━━━━━━━━━━\u001b[0m\u001b[37m\u001b[0m \u001b[1m331s\u001b[0m 250ms/step - Class_out_accuracy: 0.8639 - Domain_out_mae: 1.7366 - loss: 2.0635 - val_Class_out_accuracy: 0.8386 - val_Domain_out_mae: 1.5172 - val_loss: 1.8770\n",
      "Epoch 3/5\n",
      "\u001b[1m1270/1270\u001b[0m \u001b[32m━━━━━━━━━━━━━━━━━━━━\u001b[0m\u001b[37m\u001b[0m \u001b[1m314s\u001b[0m 247ms/step - Class_out_accuracy: 0.8775 - Domain_out_mae: 1.6555 - loss: 1.9522 - val_Class_out_accuracy: 0.8416 - val_Domain_out_mae: 1.5678 - val_loss: 1.9223\n",
      "Epoch 4/5\n",
      "\u001b[1m1270/1270\u001b[0m \u001b[32m━━━━━━━━━━━━━━━━━━━━\u001b[0m\u001b[37m\u001b[0m \u001b[1m317s\u001b[0m 250ms/step - Class_out_accuracy: 0.8922 - Domain_out_mae: 1.6189 - loss: 1.8824 - val_Class_out_accuracy: 0.8405 - val_Domain_out_mae: 1.5056 - val_loss: 1.8648\n",
      "Epoch 5/5\n",
      "\u001b[1m1270/1270\u001b[0m \u001b[32m━━━━━━━━━━━━━━━━━━━━\u001b[0m\u001b[37m\u001b[0m \u001b[1m318s\u001b[0m 250ms/step - Class_out_accuracy: 0.8978 - Domain_out_mae: 1.5496 - loss: 1.8042 - val_Class_out_accuracy: 0.8358 - val_Domain_out_mae: 1.3063 - val_loss: 1.6765\n"
     ]
    }
   ],
   "source": [
    "history = model.fit(x=X, y=[y_Class, y_Domain], epochs=5, validation_split=0.2)"
   ]
  },
  {
   "cell_type": "code",
   "execution_count": 39,
   "id": "c3bee640",
   "metadata": {
    "execution": {
     "iopub.execute_input": "2024-11-25T11:30:32.813395Z",
     "iopub.status.busy": "2024-11-25T11:30:32.812460Z",
     "iopub.status.idle": "2024-11-25T11:30:33.341785Z",
     "shell.execute_reply": "2024-11-25T11:30:33.340581Z"
    },
    "papermill": {
     "duration": 0.899497,
     "end_time": "2024-11-25T11:30:33.344088",
     "exception": false,
     "start_time": "2024-11-25T11:30:32.444591",
     "status": "completed"
    },
    "tags": []
   },
   "outputs": [
    {
     "data": {
      "image/png": "[encoded data removed]",
      "text/plain": [
       "<Figure size 640x480 with 1 Axes>"
      ]
     },
     "metadata": {},
     "output_type": "display_data"
    },
    {
     "data": {
      "image/png": "[encoded data removed]",
      "text/plain": [
       "<Figure size 640x480 with 1 Axes>"
      ]
     },
     "metadata": {},
     "output_type": "display_data"
    }
   ],
   "source": [
    "acc = history.history['Class_out_accuracy']\n",
    "val_acc = history.history['val_Class_out_accuracy']\n",
    "epochs = range(len(acc))\n",
    "\n",
    "plt.plot(epochs, acc, 'b', label='Training Accuracy')\n",
    "plt.plot(epochs, val_acc, 'r', label='Validation Accuracy')\n",
    "plt.title('Accuracy Graph')\n",
    "plt.legend()\n",
    "plt.figure()\n",
    "\n",
    "loss = history.history['loss']\n",
    "val_loss = history.history['val_loss']\n",
    "\n",
    "plt.plot(epochs, loss, 'b', label='Training Loss')\n",
    "plt.plot(epochs, val_loss, 'r', label='Validation Loss')\n",
    "plt.title('Loss Graph')\n",
    "plt.legend()\n",
    "plt.show()"
   ]
  }
 ],
 "metadata": {
  "kaggle": {
   "accelerator": "none",
   "dataSources": [
    {
     "datasetId": 6148335,
     "sourceId": 9990285,
     "sourceType": "datasetVersion"
    }
   ],
   "dockerImageVersionId": 30786,
   "isGpuEnabled": false,
   "isInternetEnabled": true,
   "language": "python",
   "sourceType": "notebook"
  },
  "kernelspec": {
   "display_name": "Python 3",
   "language": "python",
   "name": "python3"
  },
  "language_info": {
   "codemirror_mode": {
    "name": "ipython",
    "version": 3
   },
   "file_extension": ".py",
   "mimetype": "text/x-python",
   "name": "python",
   "nbconvert_exporter": "python",
   "pygments_lexer": "ipython3",
   "version": "3.10.14"
  },
  "papermill": {
   "default_parameters": {},
   "duration": 2661.605937,
   "end_time": "2024-11-25T11:30:36.291595",
   "environment_variables": {},
   "exception": null,
   "input_path": "__notebook__.ipynb",
   "output_path": "__notebook__.ipynb",
   "parameters": {},
   "start_time": "2024-11-25T10:46:14.685658",
   "version": "2.6.0"
  }
 },
 "nbformat": 4,
 "nbformat_minor": 5
}
