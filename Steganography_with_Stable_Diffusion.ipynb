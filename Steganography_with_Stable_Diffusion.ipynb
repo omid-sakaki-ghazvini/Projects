{
  "nbformat": 4,
  "nbformat_minor": 0,
  "metadata": {
    "colab": {
      "provenance": [],
      "gpuType": "T4",
      "authorship_tag": "ABX9TyOq1Wz7Y6ahqjwCYbjL3V+x"
    },
    "kernelspec": {
      "name": "python3",
      "display_name": "Python 3"
    },
    "language_info": {
      "name": "python"
    },
    "accelerator": "GPU"
  },
  "cells": [
    {
      "cell_type": "markdown",
      "source": [
        "# **1-Library Installation and Initial Setup**"
      ],
      "metadata": {
        "id": "7siUNJne3Skn"
      }
    },
    {
      "cell_type": "code",
      "source": [
        "%%capture\n",
        "!pip install diffusers transformers accelerate\n",
        "!pip install torch torchvision torchaudio --extra-index-url https://download.pytorch.org/whl/cu121\n",
        "!pip install pillow matplotlib ipywidgets"
      ],
      "metadata": {
        "id": "xeL-qQSOoenN"
      },
      "execution_count": null,
      "outputs": []
    },
    {
      "cell_type": "markdown",
      "source": [
        "# **2-Imports and Setup**"
      ],
      "metadata": {
        "id": "ALgcvIcC8asl"
      }
    },
    {
      "cell_type": "code",
      "source": [
        "import torch\n",
        "from diffusers import StableDiffusionPipeline\n",
        "import numpy as np\n",
        "from PIL import Image\n",
        "import matplotlib.pyplot as plt\n",
        "from IPython.display import display, clear_output\n",
        "import ipywidgets as widgets\n",
        "from io import BytesIO\n",
        "from google.colab import files"
      ],
      "metadata": {
        "id": "ZgnXynGy6XoN"
      },
      "execution_count": null,
      "outputs": []
    },
    {
      "cell_type": "markdown",
      "source": [
        "# **3-GPU Configuration**"
      ],
      "metadata": {
        "id": "z2vdr5CY5BMe"
      }
    },
    {
      "cell_type": "code",
      "source": [
        "if torch.cuda.is_available():\n",
        "    torch.backends.cuda.matmul.allow_tf32 = True\n",
        "    torch.backends.cudnn.benchmark = True"
      ],
      "metadata": {
        "id": "CPgqphB35EiW"
      },
      "execution_count": null,
      "outputs": []
    },
    {
      "cell_type": "markdown",
      "source": [
        "# **4-Model Loading**"
      ],
      "metadata": {
        "id": "Pq2T7h2R8mp0"
      }
    },
    {
      "cell_type": "code",
      "source": [
        "pipe = StableDiffusionPipeline.from_pretrained(\n",
        "    \"runwayml/stable-diffusion-v1-5\",\n",
        "    torch_dtype=torch.float16,\n",
        "    safety_checker=None,\n",
        "    requires_safety_checker=False\n",
        ").to(\"cuda\")\n",
        "\n",
        "pipe.enable_attention_slicing()"
      ],
      "metadata": {
        "id": "F0wpxUCR8mZs"
      },
      "execution_count": null,
      "outputs": []
    },
    {
      "cell_type": "markdown",
      "source": [
        "# **5-Steganography Class**"
      ],
      "metadata": {
        "id": "dbkIsFYU5Kcl"
      }
    },
    {
      "cell_type": "code",
      "source": [
        "class AdvancedSteganography:\n",
        "    def __init__(self):\n",
        "        self.max_data_size = 1024  # Increase storage capacity\n",
        "\n",
        "    def _complex_encode(self, img_array, data):\n",
        "        binary_data = ''.join(format(ord(c), '08b') for c in data)\n",
        "        length_info = format(len(binary_data), '016b')\n",
        "        binary_data = length_info + binary_data\n",
        "\n",
        "        if len(binary_data) > self.max_data_size:\n",
        "            raise ValueError(f\"Data is too large (max {self.max_data_size//8} characters)\")\n",
        "\n",
        "        for i, bit in enumerate(binary_data):\n",
        "            x = (i * 13) % img_array.shape[0]\n",
        "            y = (i * 19) % img_array.shape[1]\n",
        "            if i < 16:\n",
        "                channel = i % 3\n",
        "            else:\n",
        "                channel = (i - 16) % 3\n",
        "            img_array[x, y, channel] = (img_array[x, y, channel] & 0xFE) | int(bit)\n",
        "\n",
        "        return img_array\n",
        "\n",
        "    def encode(self, image, secret_data):\n",
        "        img_array = np.array(image)\n",
        "        if img_array.shape[2] > 3:\n",
        "            img_array = img_array[..., :3]\n",
        "        if len(secret_data) == 0:\n",
        "            raise ValueError(\"Secret data cannot be empty\")\n",
        "        encoded_array = self._complex_encode(img_array.copy(), secret_data)\n",
        "        return Image.fromarray(encoded_array)\n",
        "\n",
        "    def decode(self, image):\n",
        "        img_array = np.array(image)\n",
        "        if img_array.shape[2] > 3:\n",
        "            img_array = img_array[..., :3]\n",
        "        binary_data = []\n",
        "        length_bits = []\n",
        "        for i in range(16):\n",
        "            x = (i * 13) % img_array.shape[0]\n",
        "            y = (i * 19) % img_array.shape[1]\n",
        "            channel = i % 3\n",
        "            bit = img_array[x, y, channel] & 1\n",
        "            length_bits.append(str(bit))\n",
        "        data_length = int(''.join(length_bits), 2)\n",
        "        for i in range(16, 16 + data_length):\n",
        "            x = (i * 13) % img_array.shape[0]\n",
        "            y = (i * 19) % img_array.shape[1]\n",
        "            channel = (i - 16) % 3\n",
        "            bit = img_array[x, y, channel] & 1\n",
        "            binary_data.append(str(bit))\n",
        "        text = ''.join(chr(int(''.join(binary_data[i:i+8]), 2)) for i in range(0, len(binary_data), 8))\n",
        "        return text"
      ],
      "metadata": {
        "id": "w1u9MoKJ5Nie"
      },
      "execution_count": null,
      "outputs": []
    },
    {
      "cell_type": "markdown",
      "source": [
        "# **6-UI Components**"
      ],
      "metadata": {
        "id": "3C4WOrxu5R8e"
      }
    },
    {
      "cell_type": "code",
      "source": [
        "style = {'description_width': '150px'}\n",
        "layout = widgets.Layout(width='auto')\n",
        "\n",
        "secret_input = widgets.Textarea(\n",
        "    value='Your secret message here...',\n",
        "    description='Secret message:',\n",
        "    style=style,\n",
        "    layout=layout\n",
        ")\n",
        "\n",
        "prompt_input = widgets.Text(\n",
        "    value='A cyberpunk city at night, 4k detailed',\n",
        "    description='Image prompt:',\n",
        "    style=style,\n",
        "    layout=layout\n",
        ")\n",
        "\n",
        "encode_btn = widgets.Button(description=\"Encode Image\", button_style='success')\n",
        "decode_btn = widgets.Button(description=\"Reveal Secret from File\", button_style='info')\n",
        "decode_from_memory_btn = widgets.Button(description=\"Reveal Secret from Generated Image\", button_style='warning')\n",
        "output = widgets.Output()"
      ],
      "metadata": {
        "id": "to9HoE765UkF"
      },
      "execution_count": null,
      "outputs": []
    },
    {
      "cell_type": "markdown",
      "source": [
        "# **7-Event Handlers**"
      ],
      "metadata": {
        "id": "Thajbobh5X-8"
      }
    },
    {
      "cell_type": "code",
      "source": [
        "encoded_img_memory = {'img': None}\n",
        "\n",
        "def on_encode(b):\n",
        "    with output:\n",
        "        output.clear_output()\n",
        "        print(\"🛠️ Generating the magic image...\")\n",
        "        try:\n",
        "            image = pipe(prompt_input.value, num_inference_steps=30).images[0]\n",
        "            steg = AdvancedSteganography()\n",
        "            encoded_img = steg.encode(image, secret_input.value)\n",
        "            encoded_img_memory['img'] = encoded_img  # Save image in memory\n",
        "\n",
        "            plt.figure(figsize=(15, 7))\n",
        "            plt.subplot(1, 2, 1)\n",
        "            plt.imshow(image)\n",
        "            plt.title(\"Original Image\", fontsize=12, pad=10)\n",
        "            plt.axis('off')\n",
        "\n",
        "            plt.subplot(1, 2, 2)\n",
        "            plt.imshow(encoded_img)\n",
        "            plt.title(\"Image with Secret\", fontsize=12, pad=10)\n",
        "            plt.axis('off')\n",
        "\n",
        "            plt.tight_layout()\n",
        "            plt.show()\n",
        "\n",
        "            encoded_img.save(\"secret_image.png\")\n",
        "            print(\"✅ Encoded image saved! (secret_image.png)\")\n",
        "            print(f\"📏 Secret data size: {len(secret_input.value)} characters\")\n",
        "            display(decode_from_memory_btn)  # Show the button to reveal secret from generated image\n",
        "        except Exception as e:\n",
        "            print(f\"❌ Encoding error: {str(e)}\")\n",
        "\n",
        "def on_decode(b):\n",
        "    with output:\n",
        "        output.clear_output()\n",
        "        print(\"🔍 Revealing the secret from file...\")\n",
        "        try:\n",
        "            uploaded = files.upload()\n",
        "            if not uploaded:\n",
        "                print(\"❌ No image uploaded\")\n",
        "                return\n",
        "            img = Image.open(BytesIO(uploaded[next(iter(uploaded))]))\n",
        "            steg = AdvancedSteganography()\n",
        "            secret = steg.decode(img)\n",
        "            print(\"\\n🔥 Secret revealed!\")\n",
        "            display(widgets.HTML(f'<div style=\"font-size:20px; color:#ff00ff; padding:10px; border:2px dashed #00ff00\">{secret}</div>'))\n",
        "        except Exception as e:\n",
        "            print(f\"❌ Decoding error: {str(e)}\")\n",
        "\n",
        "def on_decode_from_memory(b):\n",
        "    with output:\n",
        "        output.clear_output()\n",
        "        print(\"🔍 Revealing the secret from the generated image...\")\n",
        "        if encoded_img_memory['img'] is None:\n",
        "            print(\"❌ Please generate an encoded image first.\")\n",
        "            return\n",
        "        try:\n",
        "            steg = AdvancedSteganography()\n",
        "            secret = steg.decode(encoded_img_memory['img'])\n",
        "            print(\"\\n🔥 Secret revealed!\")\n",
        "            display(widgets.HTML(f'<div style=\"font-size:20px; color:#ff00ff; padding:10px; border:2px dashed #00ff00\">{secret}</div>'))\n",
        "        except Exception as e:\n",
        "            print(f\"❌ Decoding error: {str(e)}\")"
      ],
      "metadata": {
        "id": "7EfxWzFI5ahl"
      },
      "execution_count": null,
      "outputs": []
    },
    {
      "cell_type": "markdown",
      "source": [
        "# **8-Main UI Assembly**"
      ],
      "metadata": {
        "id": "oirJBBXm5d4w"
      }
    },
    {
      "cell_type": "code",
      "source": [
        "encode_btn.on_click(on_encode)\n",
        "decode_btn.on_click(on_decode)\n",
        "decode_from_memory_btn.on_click(on_decode_from_memory)\n",
        "\n",
        "display(widgets.VBox([\n",
        "    widgets.HTML(\"<h1 style='color:#00ffff;'>🕵️‍♂️ Advanced Steganography System</h1>\"),\n",
        "    widgets.HTML(\"<p style='color:#aaaaaa;'>Generate an image and hide your secret in it!</p>\"),\n",
        "    prompt_input,\n",
        "    secret_input,\n",
        "    widgets.HBox([encode_btn, decode_btn]),\n",
        "    output\n",
        "]))"
      ],
      "metadata": {
        "id": "XY4Q5pwG5iaW"
      },
      "execution_count": null,
      "outputs": []
    }
  ]
}