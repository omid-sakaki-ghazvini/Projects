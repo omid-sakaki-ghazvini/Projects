{
  "cells": [
    {
      "cell_type": "markdown",
      "metadata": {
        "id": "view-in-github",
        "colab_type": "text"
      },
      "source": [
        "<a href=\"https://colab.research.google.com/github/omid-sakaki-ghazvini/Projects/blob/main/Classification_with_FineTuning_BERT.ipynb\" target=\"_parent\"><img src=\"https://colab.research.google.com/assets/colab-badge.svg\" alt=\"Open In Colab\"/></a>"
      ]
    },
    {
      "cell_type": "markdown",
      "id": "085b3923",
      "metadata": {
        "id": "085b3923"
      },
      "source": [
        "# 1. Install Dependencies and Setup"
      ]
    },
    {
      "cell_type": "markdown",
      "id": "e46cc135",
      "metadata": {
        "id": "e46cc135"
      },
      "source": [
        "<div style=\"direction:rtl\">\n",
        "<font color='green' size=\"5px\">\n",
        " کتابخانه های مورد نیاز را نصب میکنیم\n",
        "    </font>\n",
        "</div>"
      ]
    },
    {
      "cell_type": "code",
      "execution_count": null,
      "id": "dbaf7e85",
      "metadata": {
        "id": "dbaf7e85"
      },
      "outputs": [],
      "source": [
        "!pip install transformers"
      ]
    },
    {
      "cell_type": "code",
      "execution_count": null,
      "id": "6d7f662c",
      "metadata": {
        "id": "6d7f662c"
      },
      "outputs": [],
      "source": [
        "import pandas as pd\n",
        "import numpy as np\n",
        "import matplotlib.pyplot as plt\n",
        "import seaborn as sns\n",
        "import itertools\n",
        "from collections import Counter\n",
        "import re, string\n",
        "\n",
        "import tensorflow as tf\n",
        "from transformers import BertTokenizer, AutoTokenizer, TFAutoModel\n",
        "\n",
        "import warnings\n",
        "\n",
        "warnings.filterwarnings('ignore')"
      ]
    },
    {
      "cell_type": "code",
      "execution_count": null,
      "id": "975d361f",
      "metadata": {
        "id": "975d361f"
      },
      "outputs": [],
      "source": [
        "# check for the GPU\n",
        "!nvidia-smi"
      ]
    },
    {
      "cell_type": "markdown",
      "id": "fd3a50f9",
      "metadata": {
        "id": "fd3a50f9"
      },
      "source": [
        "<div style=\"direction:rtl\">\n",
        "<font color='green' size=\"5px\">\n",
        "    از لینک زیر دیتاست را دانلود کرده و در پوشه هم مسیر همین ژوپیتر نوت بوک قرار دهید یا خط فرمان زیر را اجرا نمایید\n",
        "    </font>\n",
        "</div>"
      ]
    },
    {
      "cell_type": "code",
      "execution_count": null,
      "id": "f9b504bb",
      "metadata": {
        "id": "f9b504bb"
      },
      "outputs": [],
      "source": [
        "import kagglehub\n",
        "\n",
        "# Download latest version\n",
        "path = kagglehub.dataset_download(\"jagathratchakan/indian-airlines-customer-reviews\")\n",
        "\n",
        "print(\"Path to dataset files:\", path)"
      ]
    },
    {
      "cell_type": "markdown",
      "id": "def1ee54",
      "metadata": {
        "id": "def1ee54"
      },
      "source": [
        "## https://www.kaggle.com/datasets/jagathratchakan/indian-airlines-customer-reviews"
      ]
    },
    {
      "cell_type": "markdown",
      "id": "3b01a837",
      "metadata": {
        "id": "3b01a837"
      },
      "source": [
        "# 2. Load Data"
      ]
    },
    {
      "cell_type": "markdown",
      "id": "8fb2e15f",
      "metadata": {
        "id": "8fb2e15f"
      },
      "source": [
        "<div style=\"direction:rtl\">\n",
        "<font color='green' size=\"5px\">\n",
        "توسط خط فرمان زیر، دیتا را فراخوانی میکنیم\n",
        "    </font>\n",
        "</div>"
      ]
    },
    {
      "cell_type": "code",
      "execution_count": null,
      "id": "f0bdded7",
      "metadata": {
        "id": "f0bdded7"
      },
      "outputs": [],
      "source": [
        "df=pd.read_csv('/kaggle/input/indian-airlines-customer-reviews/Indian_Domestic_Airline.csv')\n",
        "df.head(10)"
      ]
    },
    {
      "cell_type": "code",
      "execution_count": null,
      "id": "ee99bfea",
      "metadata": {
        "id": "ee99bfea"
      },
      "outputs": [],
      "source": [
        "df.info()"
      ]
    },
    {
      "cell_type": "markdown",
      "id": "986f48f2",
      "metadata": {
        "id": "986f48f2"
      },
      "source": [
        "# 3.Data Analysis"
      ]
    },
    {
      "cell_type": "code",
      "execution_count": null,
      "id": "e3881501",
      "metadata": {
        "id": "e3881501"
      },
      "outputs": [],
      "source": [
        "missing_values_count = df.isnull().sum()\n",
        "missing_values_count"
      ]
    },
    {
      "cell_type": "code",
      "execution_count": null,
      "id": "20080a61",
      "metadata": {
        "id": "20080a61"
      },
      "outputs": [],
      "source": [
        "total_cells = np.product(df.shape)\n",
        "total_missing = missing_values_count.sum()\n",
        "\n",
        "percent_missing = (total_missing/total_cells) * 100\n",
        "print(percent_missing)"
      ]
    },
    {
      "cell_type": "code",
      "execution_count": null,
      "id": "81be6133",
      "metadata": {
        "id": "81be6133"
      },
      "outputs": [],
      "source": [
        "df.dropna(subset=['Rating - 10'],inplace=True)"
      ]
    },
    {
      "cell_type": "code",
      "execution_count": null,
      "id": "0c7aeac4",
      "metadata": {
        "id": "0c7aeac4"
      },
      "outputs": [],
      "source": [
        "def pos_neg(x):\n",
        "    if x >= 5:\n",
        "        return \"Postive\"\n",
        "    return \"Negative\"\n",
        "\n",
        "df[\"Rating - 10\"] = df[\"Rating - 10\"].apply(pos_neg)\n",
        "\n",
        "cnt = Counter(df[\"Rating - 10\"])\n",
        "cnt = dict(cnt)\n",
        "print(cnt)\n",
        "\n",
        "sizes = list(cnt.values())\n",
        "labels = list(cnt.keys())\n",
        "colors = ['#3fba36', '#66b3ff','#ffcc99','#ff9999', '#d44444']\n",
        "fig1, ax1 = plt.subplots()\n",
        "ax1.pie(sizes, labels=labels, colors=colors,\n",
        "        autopct='%1.1f%%', startangle=90)\n",
        "#draw circle\n",
        "centre_circle = plt.Circle((0,0),0.70,fc='white')\n",
        "fig = plt.gcf()\n",
        "fig.gca().add_artist(centre_circle)\n",
        "ax1.axis('equal')\n",
        "plt.tight_layout()\n",
        "plt.show()"
      ]
    },
    {
      "cell_type": "code",
      "execution_count": null,
      "id": "3a510924",
      "metadata": {
        "id": "3a510924"
      },
      "outputs": [],
      "source": [
        "AirLine_Name = df['AirLine_Name'].unique()\n",
        "for i in AirLine_Name:\n",
        "    df_test = df.loc[df['AirLine_Name']==i]\n",
        "\n",
        "    cnt = Counter(df_test[\"Recommond\"])\n",
        "    cnt = dict(cnt)\n",
        "    print('Recommond: ',cnt)\n",
        "\n",
        "    sizes = list(cnt.values())\n",
        "    labels = list(cnt.keys())\n",
        "    colors = ['#3fba36', '#66b3ff','#ffcc99','#ff9999', '#d44444']\n",
        "    fig1, ax1 = plt.subplots()\n",
        "    ax1.pie(sizes, labels=labels, colors=colors,\n",
        "        autopct='%1.1f%%', startangle=90)\n",
        "    #draw circle\n",
        "    centre_circle = plt.Circle((0,0),0.70,fc='white')\n",
        "    fig = plt.gcf()\n",
        "    fig.gca().add_artist(centre_circle)\n",
        "    ax1.axis('equal')\n",
        "    plt.title(i)\n",
        "    plt.tight_layout()\n",
        "    plt.show()"
      ]
    },
    {
      "cell_type": "markdown",
      "id": "0bc6f22c",
      "metadata": {
        "id": "0bc6f22c"
      },
      "source": [
        "# 4.Fine Tuning BERT"
      ]
    },
    {
      "cell_type": "markdown",
      "id": "a9874622",
      "metadata": {
        "id": "a9874622"
      },
      "source": [
        "## 4.1.Data preparation"
      ]
    },
    {
      "cell_type": "code",
      "execution_count": null,
      "id": "08a5cda1",
      "metadata": {
        "id": "08a5cda1"
      },
      "outputs": [],
      "source": [
        "df['Title'] = df['Title'].str.replace('\"', '')\n",
        "\n",
        "df['Review'] = df['Review'].str.replace(\"✅ Trip Verified |\", \"\")\n",
        "df['Review'] = df['Review'].str.replace(\"not verified |\", \"\")"
      ]
    },
    {
      "cell_type": "code",
      "execution_count": null,
      "id": "1afb2143",
      "metadata": {
        "id": "1afb2143"
      },
      "outputs": [],
      "source": [
        "def wordopt(text):\n",
        "    text = text.lower()\n",
        "    text = re.sub('\\[.*?\\]', '', text)\n",
        "    text = re.sub(\"\\\\W\",\" \",text)\n",
        "    text = re.sub('https?://\\S+|www\\.\\S+', '', text)\n",
        "    text = re.sub('<.*?>+', '', text)\n",
        "    text = re.sub('[%s]' % re.escape(string.punctuation), '', text)\n",
        "    text = re.sub('\\n', '', text)\n",
        "    text = re.sub('\\w*\\d\\w*', '', text)\n",
        "    return text\n",
        "\n",
        "df['text'] = df['AirLine_Name'].str.casefold() + ' ' + df['Rating - 10'].str.casefold() + ' ' + df['Title'].str.casefold() + ' ' + df['Review'].str.casefold()\n",
        "df[\"text\"] = df[\"text\"].apply(wordopt)"
      ]
    },
    {
      "cell_type": "code",
      "execution_count": null,
      "id": "dd8ab7bd",
      "metadata": {
        "id": "dd8ab7bd"
      },
      "outputs": [],
      "source": [
        "df = df.drop(columns=['AirLine_Name','Rating - 10','Title', 'Name', 'Date', 'Review'])\n",
        "df['Recommond'] = df['Recommond'].map({'yes': 1, 'no': 0})\n",
        "df.head(10)"
      ]
    },
    {
      "cell_type": "code",
      "execution_count": null,
      "id": "11d38f40",
      "metadata": {
        "id": "11d38f40"
      },
      "outputs": [],
      "source": [
        "textlen = df['text'].apply(lambda x: len(x.split()))\n",
        "\n",
        "plt.figure(figsize=(8,5))\n",
        "plt.hist(textlen, edgecolor = \"black\");"
      ]
    },
    {
      "cell_type": "code",
      "execution_count": null,
      "id": "b15fba08",
      "metadata": {
        "id": "b15fba08"
      },
      "outputs": [],
      "source": [
        "SEQ_LEN = 30"
      ]
    },
    {
      "cell_type": "markdown",
      "id": "9523fcf3",
      "metadata": {
        "id": "9523fcf3"
      },
      "source": [
        "## 4.2.Encoding the text for Bert model"
      ]
    },
    {
      "cell_type": "code",
      "execution_count": null,
      "id": "64ae0ede",
      "metadata": {
        "id": "64ae0ede"
      },
      "outputs": [],
      "source": [
        "tokenizer = BertTokenizer.from_pretrained('bert-base-uncased', do_lower_case=True)"
      ]
    },
    {
      "cell_type": "code",
      "execution_count": null,
      "id": "3b55b657",
      "metadata": {
        "id": "3b55b657"
      },
      "outputs": [],
      "source": [
        "train_encoded_inputs = tokenizer(df['text'].tolist(),\n",
        "                                 add_special_tokens = True,\n",
        "                                 padding='max_length',\n",
        "                                 truncation=True,\n",
        "                                 max_length=SEQ_LEN,\n",
        "                                 return_token_type_ids=False,\n",
        "                                 return_tensors = 'tf')"
      ]
    },
    {
      "cell_type": "markdown",
      "id": "6905b4c9",
      "metadata": {
        "id": "6905b4c9"
      },
      "source": [
        "## 4.3.Creating Tensorflow data"
      ]
    },
    {
      "cell_type": "code",
      "execution_count": null,
      "id": "2b30aaba",
      "metadata": {
        "id": "2b30aaba"
      },
      "outputs": [],
      "source": [
        "train_dataset = tf.data.Dataset.from_tensor_slices((train_encoded_inputs, df['Recommond'].values))"
      ]
    },
    {
      "cell_type": "code",
      "execution_count": null,
      "id": "f415a656",
      "metadata": {
        "id": "f415a656"
      },
      "outputs": [],
      "source": [
        "def map_bert(inputs, labels):\n",
        "    inputs = {'input_ids': inputs['input_ids'],\n",
        "            'attention_mask': inputs['attention_mask']}\n",
        "\n",
        "    return inputs, labels"
      ]
    },
    {
      "cell_type": "code",
      "execution_count": null,
      "id": "f3823d46",
      "metadata": {
        "id": "f3823d46"
      },
      "outputs": [],
      "source": [
        "train_dataset = train_dataset.map(map_bert)"
      ]
    },
    {
      "cell_type": "code",
      "execution_count": null,
      "id": "ca949caa",
      "metadata": {
        "id": "ca949caa"
      },
      "outputs": [],
      "source": [
        "for t in train_dataset.take(2):\n",
        "    print (t)"
      ]
    },
    {
      "cell_type": "markdown",
      "id": "4bf9713b",
      "metadata": {
        "id": "4bf9713b"
      },
      "source": [
        "## 4.4.Creating train and test split"
      ]
    },
    {
      "cell_type": "code",
      "execution_count": null,
      "id": "da36efc1",
      "metadata": {
        "id": "da36efc1"
      },
      "outputs": [],
      "source": [
        "dataset = train_dataset.shuffle(100000).batch(64)"
      ]
    },
    {
      "cell_type": "code",
      "execution_count": null,
      "id": "d539d7f4",
      "metadata": {
        "id": "d539d7f4"
      },
      "outputs": [],
      "source": [
        "DS_LEN = len(dataset)\n",
        "DS_LEN"
      ]
    },
    {
      "cell_type": "code",
      "execution_count": null,
      "id": "8f5787bf",
      "metadata": {
        "id": "8f5787bf"
      },
      "outputs": [],
      "source": [
        "SPLIT = 0.8\n",
        "train_ds = dataset.take(round(DS_LEN*SPLIT))\n",
        "val_ds = dataset.skip(round(DS_LEN*SPLIT))\n",
        "\n",
        "print(train_ds)"
      ]
    },
    {
      "cell_type": "markdown",
      "id": "2dfb6382",
      "metadata": {
        "id": "2dfb6382"
      },
      "source": [
        "# 5.Modeling"
      ]
    },
    {
      "cell_type": "code",
      "execution_count": null,
      "id": "725ce119",
      "metadata": {
        "id": "725ce119"
      },
      "outputs": [],
      "source": [
        "bert = TFAutoModel.from_pretrained('bert-base-uncased')"
      ]
    },
    {
      "cell_type": "code",
      "execution_count": null,
      "id": "6e9a1f62",
      "metadata": {
        "id": "6e9a1f62"
      },
      "outputs": [],
      "source": [
        "# Input layers\n",
        "input_ids = tf.keras.layers.Input(shape=(SEQ_LEN,), dtype=np.int32, name='input_ids' )\n",
        "mask = tf.keras.layers.Input(shape=(SEQ_LEN,), dtype=np.int32,  name = 'attention_mask')\n",
        "\n",
        "# bert embeddings\n",
        "embeddings = bert([input_ids, mask])[0]\n",
        "cls_token = embeddings[:,0,:]\n",
        "\n",
        "# keras layers\n",
        "#x = tf.keras.layers.GlobalMaxPool1D()(embeddings)\n",
        "x = tf.keras.layers.BatchNormalization()(cls_token)\n",
        "x = tf.keras.layers.Dense(128, activation='relu')(x)\n",
        "x = tf.keras.layers.Dropout(0.2)(x)\n",
        "x = tf.keras.layers.Dense(32, activation='relu')(x)\n",
        "\n",
        "# output layer\n",
        "y = tf.keras.layers.Dense(1, activation='sigmoid')(x)\n",
        "\n",
        "# create the model\n",
        "model = tf.keras.Model(inputs=[input_ids, mask], outputs=y)"
      ]
    },
    {
      "cell_type": "code",
      "execution_count": null,
      "id": "058d8ead",
      "metadata": {
        "id": "058d8ead"
      },
      "outputs": [],
      "source": [
        "model.summary()"
      ]
    },
    {
      "cell_type": "code",
      "execution_count": null,
      "id": "9927f47a",
      "metadata": {
        "id": "9927f47a"
      },
      "outputs": [],
      "source": [
        "model.layers[2].trainable = False\n",
        "model.summary()"
      ]
    },
    {
      "cell_type": "markdown",
      "id": "de72af36",
      "metadata": {
        "id": "de72af36"
      },
      "source": [
        "# 6.Compile model"
      ]
    },
    {
      "cell_type": "code",
      "execution_count": null,
      "id": "149d2a66",
      "metadata": {
        "id": "149d2a66"
      },
      "outputs": [],
      "source": [
        "optimizer = tf.keras.optimizers.Adam(learning_rate=5e-4)\n",
        "#optimizer = transformers.AdamWeightDecay(learning_rate=5e-4)\n",
        "loss = tf.keras.losses.BinaryCrossentropy()\n",
        "metric = tf.keras.metrics.BinaryAccuracy('accuracy')"
      ]
    },
    {
      "cell_type": "code",
      "execution_count": null,
      "id": "5197b897",
      "metadata": {
        "id": "5197b897"
      },
      "outputs": [],
      "source": [
        "model.compile(optimizer=optimizer, loss=loss, metrics=[metric])"
      ]
    },
    {
      "cell_type": "code",
      "execution_count": null,
      "id": "72041f10",
      "metadata": {
        "id": "72041f10"
      },
      "outputs": [],
      "source": [
        "callbacks = [tf.keras.callbacks.ReduceLROnPlateau(patience=2, factor=0.1,min_delta=0.001,monitor='val_loss'),\n",
        "             tf.keras.callbacks.EarlyStopping(patience=5, min_delta=0.001, monitor='val_loss')]"
      ]
    },
    {
      "cell_type": "code",
      "execution_count": null,
      "id": "0d61f09c",
      "metadata": {
        "id": "0d61f09c"
      },
      "outputs": [],
      "source": [
        "# train the model\n",
        "\n",
        "history = model.fit(train_ds, validation_data = val_ds, epochs = 50, callbacks = callbacks)"
      ]
    },
    {
      "cell_type": "code",
      "execution_count": null,
      "id": "a5204876",
      "metadata": {
        "id": "a5204876"
      },
      "outputs": [],
      "source": [
        "# plot the performance curve\n",
        "epochs = history.epoch\n",
        "plt.figure(figsize=(15, 6))\n",
        "\n",
        "# Accuracy\n",
        "plt.subplot(1,2, 1)\n",
        "plt.plot(epochs, history.history['accuracy'], label=\"Train\")\n",
        "plt.plot(epochs, history.history['val_accuracy'], label = \"Val\")\n",
        "plt.legend()\n",
        "plt.title(\"Accuracy\")\n",
        "\n",
        "# loss\n",
        "plt.subplot(1,2, 2)\n",
        "plt.plot(epochs, history.history['loss'], label=\"Train\")\n",
        "plt.plot(epochs, history.history['val_loss'], label = \"Val\")\n",
        "plt.legend()\n",
        "plt.title(\"Loss\")\n",
        "\n",
        "plt.show()"
      ]
    },
    {
      "cell_type": "code",
      "execution_count": null,
      "id": "340d9ad2",
      "metadata": {
        "id": "340d9ad2"
      },
      "outputs": [],
      "source": [
        "_,accuracy = model.evaluate(val_ds)\n",
        "\n",
        "print('accuracy :', accuracy)"
      ]
    }
  ],
  "metadata": {
    "kernelspec": {
      "display_name": "Python 3 (ipykernel)",
      "language": "python",
      "name": "python3"
    },
    "language_info": {
      "codemirror_mode": {
        "name": "ipython",
        "version": 3
      },
      "file_extension": ".py",
      "mimetype": "text/x-python",
      "name": "python",
      "nbconvert_exporter": "python",
      "pygments_lexer": "ipython3",
      "version": "3.11.5"
    },
    "colab": {
      "provenance": [],
      "include_colab_link": true
    }
  },
  "nbformat": 4,
  "nbformat_minor": 5
}