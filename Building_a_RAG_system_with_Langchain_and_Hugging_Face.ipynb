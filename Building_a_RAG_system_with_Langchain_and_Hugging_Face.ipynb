{
  "nbformat": 4,
  "nbformat_minor": 0,
  "metadata": {
    "colab": {
      "provenance": [],
      "authorship_tag": "ABX9TyOMkRBuY0fyI932buJcQzi7"
    },
    "kernelspec": {
      "name": "python3",
      "display_name": "Python 3"
    },
    "language_info": {
      "name": "python"
    }
  },
  "cells": [
    {
      "cell_type": "code",
      "execution_count": 1,
      "metadata": {
        "id": "8SFSdKpNfDPE"
      },
      "outputs": [],
      "source": [
        "%%capture\n",
        "!pip install --upgrade langchain transformers faiss-cpu sentence-transformers langchain_community langchain-huggingface datasets"
      ]
    },
    {
      "cell_type": "markdown",
      "source": [
        "# **1- Import necessary modules**"
      ],
      "metadata": {
        "id": "nw2GltIDSCbq"
      }
    },
    {
      "cell_type": "code",
      "source": [
        "from langchain.document_loaders import HuggingFaceDatasetLoader\n",
        "from langchain.text_splitter import RecursiveCharacterTextSplitter\n",
        "from langchain.embeddings import HuggingFaceEmbeddings\n",
        "from langchain.vectorstores import FAISS\n",
        "from langchain.prompts import PromptTemplate\n",
        "from transformers import pipeline, AutoTokenizer, AutoModelForSeq2SeqLM\n",
        "from langchain_huggingface import HuggingFacePipeline\n",
        "from langchain.chains import LLMChain\n",
        "\n",
        "import warnings\n",
        "warnings.filterwarnings('ignore')"
      ],
      "metadata": {
        "id": "RUGe8Ns1frIm"
      },
      "execution_count": 2,
      "outputs": []
    },
    {
      "cell_type": "markdown",
      "source": [
        "# **2- Loading Data**"
      ],
      "metadata": {
        "id": "mfgTnZYFUYq6"
      }
    },
    {
      "cell_type": "code",
      "source": [
        "data = ['Artificial intelligence (AI) is rapidly transforming industries, making AI skills some of the most sought-after in the global job market. AI encompasses technologies and methodologies that allow machines to mimic human intelligence, enabling them to perform tasks like decision-making, speech recognition, and visual perception. The demand for AI skills is skyrocketing as businesses leverage these technologies to streamline operations, reduce costs, and gain competitive advantages.'\n",
        "'AI skills are required across various industries, from healthcare and finance to retail and technology. These skills are essential for building intelligent systems that can analyze data, automate processes, and generate insights. As industries race to adopt AI-driven solutions, professionals with a solid understanding of AI technologies like machine learning, natural language processing (NLP), and computer vision are in high demand .']"
      ],
      "metadata": {
        "id": "hqedgvuHct56"
      },
      "execution_count": 3,
      "outputs": []
    },
    {
      "cell_type": "markdown",
      "source": [
        "# **3- Document Transformers**"
      ],
      "metadata": {
        "id": "vkvVt8O_V1Kf"
      }
    },
    {
      "cell_type": "code",
      "source": [
        "text_splitter = RecursiveCharacterTextSplitter(chunk_size=1000, chunk_overlap=150)\n",
        "docs = text_splitter.create_documents(data)"
      ],
      "metadata": {
        "id": "jHwowdHIUnr7"
      },
      "execution_count": 4,
      "outputs": []
    },
    {
      "cell_type": "markdown",
      "source": [
        "# **4- Text Embedding**"
      ],
      "metadata": {
        "id": "pvNnPEEBV8d6"
      }
    },
    {
      "cell_type": "code",
      "source": [
        "def setup_embeddings():\n",
        "    print(\">> setup_embeddings\")\n",
        "    model_name = \"sentence-transformers/all-mpnet-base-v2\"\n",
        "    return HuggingFaceEmbeddings(model_name=model_name)"
      ],
      "metadata": {
        "id": "BoYeRwx7UnX8"
      },
      "execution_count": 5,
      "outputs": []
    },
    {
      "cell_type": "code",
      "source": [
        "embeddings = setup_embeddings()"
      ],
      "metadata": {
        "colab": {
          "base_uri": "https://localhost:8080/"
        },
        "id": "3nVbwui0WWlq",
        "outputId": "38b4f0c2-ccb9-4ea7-cd3a-9883ee7f024a"
      },
      "execution_count": 6,
      "outputs": [
        {
          "output_type": "stream",
          "name": "stdout",
          "text": [
            ">> setup_embeddings\n"
          ]
        }
      ]
    },
    {
      "cell_type": "markdown",
      "source": [
        "# **5- Vector Stores**"
      ],
      "metadata": {
        "id": "wrCUye4TWk8S"
      }
    },
    {
      "cell_type": "code",
      "source": [
        "db = FAISS.from_documents(docs, embeddings)"
      ],
      "metadata": {
        "id": "2nKmmQQuWkpf"
      },
      "execution_count": 7,
      "outputs": []
    },
    {
      "cell_type": "code",
      "source": [
        "question = \"What is artificial intelligence?\"\n",
        "searchDocs = db.similarity_search(question)\n",
        "print(searchDocs[0].page_content)"
      ],
      "metadata": {
        "colab": {
          "base_uri": "https://localhost:8080/"
        },
        "id": "uNPStd4HWkmQ",
        "outputId": "290cc2a5-dcbd-469e-ceb3-70793db0b16d"
      },
      "execution_count": 8,
      "outputs": [
        {
          "output_type": "stream",
          "name": "stdout",
          "text": [
            "Artificial intelligence (AI) is rapidly transforming industries, making AI skills some of the most sought-after in the global job market. AI encompasses technologies and methodologies that allow machines to mimic human intelligence, enabling them to perform tasks like decision-making, speech recognition, and visual perception. The demand for AI skills is skyrocketing as businesses leverage these technologies to streamline operations, reduce costs, and gain competitive advantages.AI skills are required across various industries, from healthcare and finance to retail and technology. These skills are essential for building intelligent systems that can analyze data, automate processes, and generate insights. As industries race to adopt AI-driven solutions, professionals with a solid understanding of AI technologies like machine learning, natural language processing (NLP), and computer vision are in high demand .\n"
          ]
        }
      ]
    },
    {
      "cell_type": "markdown",
      "source": [
        "# **6- Preparing the LLM Model**"
      ],
      "metadata": {
        "id": "LtpGcUy-XGYC"
      }
    },
    {
      "cell_type": "code",
      "source": [
        "def getFlan():\n",
        "    model_id = \"google/flan-t5-large\"  # Use the correct model ID\n",
        "    print(f\">> getLlama {model_id}\")\n",
        "    try:\n",
        "        tokenizer = AutoTokenizer.from_pretrained(model_id)\n",
        "        model = AutoModelForSeq2SeqLM.from_pretrained(model_id)\n",
        "\n",
        "        # Ensure the tokenizer uses the correct padding token\n",
        "        tokenizer.pad_token = tokenizer.eos_token\n",
        "        tokenizer.model_max_length = 512  # Set a reasonable max length for the model\n",
        "\n",
        "        text_generation_pipeline = pipeline(\n",
        "            \"text2text-generation\",\n",
        "            model=model,\n",
        "            tokenizer=tokenizer,\n",
        "            max_new_tokens=256,  # Set max_new_tokens to control the length of the generated text\n",
        "            truncation=True,  # Explicitly set truncation\n",
        "            num_return_sequences=1,\n",
        "            pad_token_id=tokenizer.eos_token_id,\n",
        "        )\n",
        "        llm = HuggingFacePipeline(pipeline=text_generation_pipeline)\n",
        "        return llm\n",
        "    except Exception as e:\n",
        "        print(f\"An error occurred while loading the model: {e}\")\n",
        "        return None"
      ],
      "metadata": {
        "id": "ftNyFzf_Wki_"
      },
      "execution_count": 9,
      "outputs": []
    },
    {
      "cell_type": "code",
      "source": [
        "llm = getFlan()"
      ],
      "metadata": {
        "colab": {
          "base_uri": "https://localhost:8080/"
        },
        "id": "s1pijmchX0vK",
        "outputId": "2d491e68-e4b8-4b65-8589-32ebad95f9e2"
      },
      "execution_count": 10,
      "outputs": [
        {
          "output_type": "stream",
          "name": "stdout",
          "text": [
            ">> getLlama google/flan-t5-large\n"
          ]
        },
        {
          "output_type": "stream",
          "name": "stderr",
          "text": [
            "Device set to use cpu\n"
          ]
        }
      ]
    },
    {
      "cell_type": "markdown",
      "source": [
        "# **7- Define a prompt template for generating responses**"
      ],
      "metadata": {
        "id": "pOD31I4_XhhP"
      }
    },
    {
      "cell_type": "code",
      "source": [
        "prompt_sample = \"\"\"\n",
        "    I am a helpful AI that answers questions.\n",
        "    When I don't know the answer I say I don't know.\n",
        "    I know context: {context}\n",
        "    when asked: {question}\n",
        "    my response using only information in the context is:\n",
        "\"\"\"\n",
        "prompt = PromptTemplate(template=prompt_sample, input_variables=[\"context\", \"question\"])"
      ],
      "metadata": {
        "id": "1OKUQrWJXN8K"
      },
      "execution_count": 11,
      "outputs": []
    },
    {
      "cell_type": "markdown",
      "source": [
        "# **8- Create an LLM chain using the prompt template and language model**"
      ],
      "metadata": {
        "id": "BjgR9YqBX2Q6"
      }
    },
    {
      "cell_type": "code",
      "source": [
        "if llm is not None:\n",
        "\n",
        "    llm_chain = LLMChain(prompt=prompt, llm=llm)\n",
        "    try:\n",
        "        question = \"What is artificial intelligence?\"\n",
        "\n",
        "        similar_doc = db.similarity_search(question)\n",
        "        doc_context = similar_doc[0].page_content\n",
        "\n",
        "        # Generate response\n",
        "        response = llm_chain.invoke({\"context\": doc_context, \"question\": question})\n",
        "\n",
        "        print(response[\"text\"])\n",
        "    except Exception as e:\n",
        "        print(f\"An error occurred duringor response generation: {e}\")\n",
        "else:\n",
        "    print(\"Failed to create the language model pipeline.\")"
      ],
      "metadata": {
        "colab": {
          "base_uri": "https://localhost:8080/"
        },
        "id": "0zPSsesXY3yv",
        "outputId": "20ae5ca2-fad0-4b78-ac6f-c01b952bf95f"
      },
      "execution_count": 12,
      "outputs": [
        {
          "output_type": "stream",
          "name": "stdout",
          "text": [
            "AI encompasses technologies and methodologies that allow machines to mimic human intelligence\n"
          ]
        }
      ]
    }
  ]
}