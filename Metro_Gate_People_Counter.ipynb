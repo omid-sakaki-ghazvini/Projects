{
  "nbformat": 4,
  "nbformat_minor": 0,
  "metadata": {
    "colab": {
      "provenance": [],
      "gpuType": "T4"
    },
    "kernelspec": {
      "name": "python3",
      "display_name": "Python 3"
    },
    "language_info": {
      "name": "python"
    },
    "accelerator": "GPU"
  },
  "cells": [
    {
      "cell_type": "markdown",
      "source": [
        "# **📦 Install Required Packages**"
      ],
      "metadata": {
        "id": "u4vS4a82TRxJ"
      }
    },
    {
      "cell_type": "code",
      "source": [
        "%%capture\n",
        "!pip install opencv-python pandas tqdm\n",
        "!pip install --upgrade ultralytics supervision"
      ],
      "metadata": {
        "id": "vhj5kmchTKvR"
      },
      "execution_count": null,
      "outputs": []
    },
    {
      "cell_type": "markdown",
      "source": [
        "# **📦 Required Imports**"
      ],
      "metadata": {
        "id": "t0lLccwCTc2T"
      }
    },
    {
      "cell_type": "code",
      "source": [
        "import os\n",
        "import cv2\n",
        "import numpy as np\n",
        "import pandas as pd\n",
        "from tqdm import tqdm\n",
        "from supervision import Point, LineZone, LineZoneAnnotator, BoxAnnotator, LabelAnnotator, Color\n",
        "from supervision.detection.core import Detections\n",
        "from ultralytics import YOLO\n",
        "from google.colab import files"
      ],
      "metadata": {
        "id": "xbV_pPghTjJb"
      },
      "execution_count": null,
      "outputs": []
    },
    {
      "cell_type": "markdown",
      "source": [
        "# **🚀 Load YOLOv8 Model with Fallback**"
      ],
      "metadata": {
        "id": "LkIr5qMNT1Eq"
      }
    },
    {
      "cell_type": "code",
      "source": [
        "def load_yolo_model(model_name=\"yolov8n.pt\"):\n",
        "    \"\"\"\n",
        "    Load YOLOv8 model with automatic download if not found.\n",
        "\n",
        "    Args:\n",
        "        model_name (str): Name of YOLO model file.\n",
        "\n",
        "    Returns:\n",
        "        YOLO: Loaded YOLO model instance.\n",
        "    \"\"\"\n",
        "    try:\n",
        "        model = YOLO(model_name)\n",
        "        return model\n",
        "    except Exception as e:\n",
        "        print(f\"Model not found locally, downloading {model_name}...\")\n",
        "        model = YOLO(model_name)  # This will automatically download\n",
        "        return model"
      ],
      "metadata": {
        "id": "yW_5XvlVTy4R"
      },
      "execution_count": null,
      "outputs": []
    },
    {
      "cell_type": "markdown",
      "source": [
        "# **🎥 Main Video Processing Function**"
      ],
      "metadata": {
        "id": "gjqekI_NT6ni"
      }
    },
    {
      "cell_type": "code",
      "source": [
        "def process_video(\n",
        "    line_x_start=0.05,    # Horizontal start point (left to right ratio)\n",
        "    line_x_end=0.95,      # Horizontal end point (left to right ratio)\n",
        "    line_y_position=0.3,  # Fixed vertical position of horizontal line (top to bottom ratio)\n",
        "    conf_threshold=0.2,   # Detection confidence threshold\n",
        "    crowd_threshold=10,   # Crowd warning threshold\n",
        "    imgsz=640             # Model input size\n",
        "):\n",
        "    \"\"\"\n",
        "    Process a video to detect and track people, count crossings over a horizontal virtual line, and annotate the output.\n",
        "\n",
        "    Args:\n",
        "        line_x_start (float): X-coordinate ratio for the start of the horizontal line (0.0 to 1.0, left).\n",
        "        line_x_end (float): X-coordinate ratio for the end of the horizontal line (0.0 to 1.0, right).\n",
        "        line_y_position (float): Y-coordinate ratio for the fixed vertical position of the horizontal line (0.0 to 1.0, top).\n",
        "        conf_threshold (float): Confidence threshold for YOLO model detections.\n",
        "        crowd_threshold (int): Number of people (in - out) to trigger a crowd warning.\n",
        "        imgsz (int): Image size for YOLO model processing (e.g., 640).\n",
        "\n",
        "    Returns:\n",
        "        None: Outputs an annotated video ('metro_gate_output.mp4') and a CSV file ('counts.csv') with frame-wise counts.\n",
        "    \"\"\"\n",
        "    try:\n",
        "        # --- Video Upload ---\n",
        "        print(\"Please upload a video file (.mp4 or .avi):\")\n",
        "        uploaded = files.upload()\n",
        "        if not uploaded:\n",
        "            raise ValueError(\"No video file uploaded.\")\n",
        "        video_path = next(iter(uploaded))\n",
        "        if not video_path.lower().endswith(('.mp4', '.avi')):\n",
        "            raise ValueError(\"Invalid file format. Please upload a .mp4 or .avi video.\")\n",
        "\n",
        "        # --- Output Setup ---\n",
        "        os.makedirs('output', exist_ok=True)\n",
        "        output_video = os.path.join('output', 'metro_gate_output.mp4')\n",
        "        output_csv = os.path.join('output', 'counts.csv')\n",
        "\n",
        "        # --- Load YOLO Model ---\n",
        "        model = load_yolo_model()\n",
        "\n",
        "        # --- Initialize Video Capture ---\n",
        "        cap = cv2.VideoCapture(video_path)\n",
        "        if not cap.isOpened():\n",
        "            raise ValueError(\"Failed to open video. Ensure the file is a valid video format.\")\n",
        "        width = int(cap.get(cv2.CAP_PROP_FRAME_WIDTH))\n",
        "        height = int(cap.get(cv2.CAP_PROP_FRAME_HEIGHT))\n",
        "        fps = cap.get(cv2.CAP_PROP_FPS)\n",
        "        total_frames = int(cap.get(cv2.CAP_PROP_FRAME_COUNT))\n",
        "        print(f\"Video: {width}x{height}, FPS: {fps}, Total Frames: {total_frames}\")\n",
        "\n",
        "        # --- Define Horizontal Virtual Line ---\n",
        "        LINE_START = Point(int(width * line_x_start), int(height * line_y_position))\n",
        "        LINE_END   = Point(int(width * line_x_end),   int(height * line_y_position))\n",
        "        print(f\"Horizontal Line Start: {LINE_START}, End: {LINE_END}\")\n",
        "        line_counter = LineZone(start=LINE_START, end=LINE_END)\n",
        "\n",
        "        # --- Initialize Annotators ---\n",
        "        box_annotator = BoxAnnotator()\n",
        "        label_annotator = LabelAnnotator()\n",
        "        line_annotator = LineZoneAnnotator(color=Color(r=173, g=216, b=230))\n",
        "\n",
        "        # --- Setup Video Writer ---\n",
        "        writer = cv2.VideoWriter(\n",
        "            output_video,\n",
        "            cv2.VideoWriter_fourcc(*'mp4v'),\n",
        "            fps,\n",
        "            (width, height)\n",
        "        )\n",
        "        if not writer.isOpened():\n",
        "            raise RuntimeError(\"Failed to initialize video writer.\")\n",
        "\n",
        "        # --- Data Storage ---\n",
        "        count_data = []\n",
        "        frame_count = 0\n",
        "\n",
        "        # --- Process Video Frames ---\n",
        "        with tqdm(total=total_frames, desc=\"Processing frames\") as pbar:\n",
        "            while cap.isOpened():\n",
        "                ret, frame = cap.read()\n",
        "                if not ret:\n",
        "                    break\n",
        "\n",
        "                # --- Detect and Track People ---\n",
        "                results = model.track(frame, classes=[0], conf=conf_threshold, imgsz=imgsz, persist=True)[0]\n",
        "                detections = Detections(\n",
        "                    xyxy=results.boxes.xyxy.cpu().numpy(),\n",
        "                    confidence=results.boxes.conf.cpu().numpy(),\n",
        "                    class_id=results.boxes.cls.cpu().numpy().astype(int),\n",
        "                    tracker_id=results.boxes.id.cpu().numpy() if results.boxes.id is not None else None\n",
        "                )\n",
        "\n",
        "                # --- Count Crossings ---\n",
        "                if detections.tracker_id is not None and len(detections.tracker_id) > 0:\n",
        "                    line_counter.trigger(detections)\n",
        "\n",
        "                # --- Annotate Frame ---\n",
        "                labels = [\n",
        "                    f\"ID {track_id if track_id is not None else 'N/A'} {model.names[int(cls_id)]} {conf:.2f}\"\n",
        "                    for xyxy, conf, cls_id, track_id in zip(\n",
        "                        detections.xyxy,\n",
        "                        detections.confidence,\n",
        "                        detections.class_id,\n",
        "                        detections.tracker_id\n",
        "                    )\n",
        "                ]\n",
        "                frame = box_annotator.annotate(scene=frame, detections=detections)\n",
        "                frame = label_annotator.annotate(scene=frame, detections=detections, labels=labels)\n",
        "                frame = line_annotator.annotate(frame=frame, line_counter=line_counter)\n",
        "\n",
        "                # --- Display Entry/Exit Counts ---\n",
        "                cv2.rectangle(frame, (20, 20), (300, 80), (0, 0, 0), -1)\n",
        "                cv2.putText(\n",
        "                    frame,\n",
        "                    f\"Entry: {line_counter.in_count} | Exit: {line_counter.out_count}\",\n",
        "                    (30, 50),\n",
        "                    cv2.FONT_HERSHEY_SIMPLEX,\n",
        "                    0.8,\n",
        "                    (0, 255, 0),\n",
        "                    2\n",
        "                )\n",
        "\n",
        "                # --- Crowd Warning ---\n",
        "                if (line_counter.in_count - line_counter.out_count) > crowd_threshold:\n",
        "                    cv2.putText(\n",
        "                        frame,\n",
        "                        \"Crowd Warning!\",\n",
        "                        (30, 70),\n",
        "                        cv2.FONT_HERSHEY_SIMPLEX,\n",
        "                        0.8,\n",
        "                        (0, 0, 255),\n",
        "                        2\n",
        "                    )\n",
        "\n",
        "                # --- Write Frame ---\n",
        "                writer.write(frame)\n",
        "\n",
        "                # --- Save Count Data ---\n",
        "                count_data.append({\n",
        "                    \"Frame\": frame_count,\n",
        "                    \"Entry\": line_counter.in_count,\n",
        "                    \"Exit\": line_counter.out_count\n",
        "                })\n",
        "                frame_count += 1\n",
        "                pbar.update(1)\n",
        "\n",
        "        # --- Save Count Data to CSV ---\n",
        "        pd.DataFrame(count_data).to_csv(output_csv, index=False)\n",
        "        print(\"\\nCount data saved to counts.csv\")\n",
        "\n",
        "        # --- Download Output Files ---\n",
        "        if os.path.exists(output_video) and os.path.exists(output_csv):\n",
        "            print(\"Processing complete. Downloading files...\")\n",
        "            files.download(output_video)\n",
        "            files.download(output_csv)\n",
        "        else:\n",
        "            print(\"Error: Output files were not created successfully\")\n",
        "\n",
        "    except Exception as e:\n",
        "        print(f\"Error: {str(e)}\")\n",
        "    finally:\n",
        "        if 'cap' in locals() and cap.isOpened():\n",
        "            cap.release()\n",
        "        if 'writer' in locals() and writer.isOpened():\n",
        "            writer.release()"
      ],
      "metadata": {
        "id": "W7OYIq3gTsZY"
      },
      "execution_count": null,
      "outputs": []
    },
    {
      "cell_type": "markdown",
      "source": [
        "# **▶️ Run the Function**"
      ],
      "metadata": {
        "id": "DkrfaADNUFhq"
      }
    },
    {
      "cell_type": "code",
      "source": [
        "# --- Run the Function ---\n",
        "if __name__ == \"__main__\":\n",
        "    process_video()"
      ],
      "metadata": {
        "id": "IOxk29eJMz1T"
      },
      "execution_count": null,
      "outputs": []
    }
  ]
}