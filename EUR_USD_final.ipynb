{
  "cells": [
    {
      "cell_type": "markdown",
      "metadata": {
        "id": "view-in-github",
        "colab_type": "text"
      },
      "source": [
        "<a href=\"https://colab.research.google.com/github/omid-sakaki-ghazvini/Projects/blob/main/EUR_USD_final.ipynb\" target=\"_parent\"><img src=\"https://colab.research.google.com/assets/colab-badge.svg\" alt=\"Open In Colab\"/></a>"
      ]
    },
    {
      "cell_type": "markdown",
      "id": "085b3923",
      "metadata": {
        "id": "085b3923"
      },
      "source": [
        "# 1. Install Dependencies and Setup"
      ]
    },
    {
      "cell_type": "markdown",
      "id": "e46cc135",
      "metadata": {
        "id": "e46cc135"
      },
      "source": [
        "<div style=\"direction:rtl\">\n",
        "<font color='green' size=\"5px\">\n",
        " کتابخانه های مورد نیاز را نصب میکنیم\n",
        "    </font>\n",
        "</div>"
      ]
    },
    {
      "cell_type": "code",
      "execution_count": null,
      "id": "6d7f662c",
      "metadata": {
        "id": "6d7f662c"
      },
      "outputs": [],
      "source": [
        "pip install yfinance"
      ]
    },
    {
      "cell_type": "markdown",
      "id": "3b01a837",
      "metadata": {
        "id": "3b01a837"
      },
      "source": [
        "# 2. Load Data"
      ]
    },
    {
      "cell_type": "code",
      "execution_count": null,
      "id": "56e1a0f8",
      "metadata": {
        "id": "56e1a0f8"
      },
      "outputs": [],
      "source": [
        "import yfinance as yf\n",
        "import datetime\n",
        "import pandas as pd\n",
        "import tensorflow as tf\n",
        "from keras.models import Sequential, load_model\n",
        "from keras.layers import LSTM, Dropout, Dense, GRU\n",
        "from numpy import array, hstack\n",
        "import matplotlib.pyplot as plt"
      ]
    },
    {
      "cell_type": "markdown",
      "id": "8fb2e15f",
      "metadata": {
        "id": "8fb2e15f"
      },
      "source": [
        "<div style=\"direction:rtl\">\n",
        "<font color='green' size=\"5px\">\n",
        "توسط خط فرمان زیر، دیتا را فراخوانی میکنیم\n",
        "    </font>\n",
        "</div>"
      ]
    },
    {
      "cell_type": "code",
      "execution_count": null,
      "id": "535f1b43",
      "metadata": {
        "id": "535f1b43"
      },
      "outputs": [],
      "source": [
        "df = yf.download('EURUSD=X',start=datetime.datetime(2022 , 1 , 1), end=datetime.datetime.today())\n",
        "df.head()"
      ]
    },
    {
      "cell_type": "markdown",
      "id": "8df8156a",
      "metadata": {
        "id": "8df8156a"
      },
      "source": [
        "<div style=\"direction:rtl\">\n",
        "<font color='green' size=\"5px\">\n",
        "آماده سازی دیتا\n",
        "    </font>\n",
        "</div>"
      ]
    },
    {
      "cell_type": "code",
      "execution_count": null,
      "id": "1f4f9ba0",
      "metadata": {
        "id": "1f4f9ba0"
      },
      "outputs": [],
      "source": [
        "# split a multivariate sequence into samples\n",
        "def split_sequences(sequences, n_steps):\n",
        "    X, y = list(), list()\n",
        "    for i in range(len(sequences)):\n",
        "        # find the end of this pattern\n",
        "        end_ix = i + n_steps\n",
        "        # check if we are beyond the dataset\n",
        "        if end_ix > len(sequences)-1:\n",
        "            break\n",
        "        # gather input and output parts of the pattern\n",
        "        seq_x, seq_y = sequences[i:end_ix, :], sequences[end_ix, :]\n",
        "        X.append(seq_x)\n",
        "        y.append(seq_y)\n",
        "    return array(X), array(y)\n",
        "\n",
        "\n",
        "# define input sequence\n",
        "in_seq1 = array(df['Open'])\n",
        "in_seq2 = array(df['High'])\n",
        "in_seq3 = array(df['Low'])\n",
        "in_seq4 = array(df['Close'])\n",
        "# convert to [rows, columns] structure\n",
        "in_seq1 = in_seq1.reshape((len(in_seq1), 1))\n",
        "in_seq2 = in_seq2.reshape((len(in_seq2), 1))\n",
        "in_seq3 = in_seq3.reshape((len(in_seq3), 1))\n",
        "in_seq4 = in_seq4.reshape((len(in_seq4), 1))\n",
        "\n",
        "\n",
        "# horizontally stack columns\n",
        "dataset = hstack((in_seq1, in_seq2, in_seq3, in_seq4))\n",
        "# choose a number of time steps\n",
        "n_steps = 7\n",
        "# convert into input/output\n",
        "X, y = split_sequences(dataset, n_steps)\n",
        "# the dataset knows the number of features, e.g. 2\n",
        "n_features = X.shape[2]"
      ]
    },
    {
      "cell_type": "markdown",
      "id": "499bb918",
      "metadata": {
        "id": "499bb918"
      },
      "source": [
        "# 3. Build Deep Learning Model"
      ]
    },
    {
      "cell_type": "code",
      "execution_count": null,
      "id": "e6201f72",
      "metadata": {
        "id": "e6201f72"
      },
      "outputs": [],
      "source": [
        "# define model\n",
        "model = Sequential()\n",
        "model.add(GRU(50,return_sequences=True,input_shape=(n_steps, n_features)))\n",
        "model.add(Dropout(0.2))\n",
        "\n",
        "model.add(GRU(50,return_sequences=True,input_shape=(n_steps, n_features)))\n",
        "model.add(Dropout(0.4))\n",
        "\n",
        "model.add(LSTM(50,input_shape=(n_steps, n_features)))\n",
        "model.add(Dropout(0.5))\n",
        "\n",
        "model.add(Dense(1))\n",
        "model.compile(optimizer='adam', loss='mse')\n",
        "model.fit(X, y, epochs=400, verbose=0)"
      ]
    },
    {
      "cell_type": "markdown",
      "id": "de11d7e0",
      "metadata": {
        "id": "de11d7e0"
      },
      "source": [
        "# 4. Plot Performance"
      ]
    },
    {
      "cell_type": "code",
      "execution_count": null,
      "id": "97e91e4a",
      "metadata": {
        "id": "97e91e4a"
      },
      "outputs": [],
      "source": [
        "# define input sequence\n",
        "in_seq1 = array(df['Open'])\n",
        "in_seq2 = array(df['High'])\n",
        "in_seq3 = array(df['Low'])\n",
        "in_seq4 = array(df['Close'])\n",
        "# convert to [rows, columns] structure\n",
        "in_seq1 = in_seq1.reshape((len(in_seq1), 1))\n",
        "in_seq2 = in_seq2.reshape((len(in_seq2), 1))\n",
        "in_seq3 = in_seq3.reshape((len(in_seq3), 1))\n",
        "in_seq4 = in_seq4.reshape((len(in_seq4), 1))\n",
        "# horizontally stack columns\n",
        "dataset = hstack((in_seq1, in_seq2, in_seq3, in_seq4))\n",
        "\n",
        "n_features = X.shape[2]\n",
        "n_steps = 7\n",
        "myPredict = list()\n",
        "\n",
        "X, y = split_sequences(dataset, n_steps)\n",
        "\n",
        "for i in range(len(X)):\n",
        "    x_input = X[i]\n",
        "    x_input = x_input.reshape((1, n_steps, n_features))\n",
        "    myPredict.append(model.predict(x_input, verbose=0))\n",
        "\n",
        "Open = []\n",
        "for i in range(len(myPredict)):\n",
        "    Open.append(myPredict[i][0][0])\n",
        "\n",
        "pred_df = pd.DataFrame({'Open': Open})"
      ]
    },
    {
      "cell_type": "code",
      "execution_count": null,
      "id": "b0c8b49f",
      "metadata": {
        "id": "b0c8b49f"
      },
      "outputs": [],
      "source": [
        "real_df = df['Open'].tail(len(pred_df)).reset_index()\n",
        "real_df = real_df.drop(columns=['Date'])\n",
        "\n",
        "plt.figure(figsize=(36,10))\n",
        "plt.plot(pred_df,color='blue',label='Open Prediction')\n",
        "plt.plot(real_df,color='red',label='Open Actual')\n",
        "plt.legend()\n",
        "plt.show;"
      ]
    }
  ],
  "metadata": {
    "kernelspec": {
      "display_name": "Python 3 (ipykernel)",
      "language": "python",
      "name": "python3"
    },
    "language_info": {
      "codemirror_mode": {
        "name": "ipython",
        "version": 3
      },
      "file_extension": ".py",
      "mimetype": "text/x-python",
      "name": "python",
      "nbconvert_exporter": "python",
      "pygments_lexer": "ipython3",
      "version": "3.11.5"
    },
    "colab": {
      "provenance": [],
      "include_colab_link": true
    }
  },
  "nbformat": 4,
  "nbformat_minor": 5
}