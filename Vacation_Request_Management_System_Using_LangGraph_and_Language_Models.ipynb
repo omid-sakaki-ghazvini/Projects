{
  "cells": [
    {
      "cell_type": "code",
      "source": [
        "!pip install -q pydantic transformers torch sentencepiece langchain langchain-huggingface langgraph\n",
        "\n",
        "from pydantic import BaseModel, Field\n",
        "from typing import Optional\n",
        "from enum import Enum\n",
        "from transformers import pipeline\n",
        "from langchain_huggingface import HuggingFacePipeline\n",
        "from langgraph.graph import StateGraph, END\n",
        "from typing import TypedDict\n",
        "import operator"
      ],
      "metadata": {
        "id": "PVlQevfhGvvj"
      },
      "execution_count": null,
      "outputs": []
    },
    {
      "cell_type": "markdown",
      "source": [
        "# **1. Data Models**"
      ],
      "metadata": {
        "id": "EeRAOn-PGyLR"
      }
    },
    {
      "cell_type": "code",
      "source": [
        "class Employee(BaseModel):\n",
        "    id: int\n",
        "    name: str\n",
        "    department: str\n",
        "    remaining_vacation_days: int = Field(..., gt=0)\n",
        "\n",
        "class VacationRequestStatus(str, Enum):\n",
        "    PENDING = \"Pending\"\n",
        "    APPROVED = \"Approved\"\n",
        "    REJECTED = \"Rejected\"\n",
        "\n",
        "class VacationRequest(BaseModel):\n",
        "    employee_id: int\n",
        "    start_date: str\n",
        "    end_date: str\n",
        "    reason: str\n",
        "    status: VacationRequestStatus = VacationRequestStatus.PENDING\n",
        "    comments: Optional[str] = None"
      ],
      "metadata": {
        "id": "m9xi0r5hG3l6"
      },
      "execution_count": null,
      "outputs": []
    },
    {
      "cell_type": "markdown",
      "source": [
        "# **2. State for LangGraph**"
      ],
      "metadata": {
        "id": "GbSKU3BoG5gI"
      }
    },
    {
      "cell_type": "code",
      "source": [
        "class VacationRequestState(TypedDict):\n",
        "    request: VacationRequest\n",
        "    employee: Employee\n",
        "    decision: int\n",
        "    notification: str"
      ],
      "metadata": {
        "id": "LEZrXfEZG_uT"
      },
      "execution_count": null,
      "outputs": []
    },
    {
      "cell_type": "markdown",
      "source": [
        "# **3. Translation Dictionaries**"
      ],
      "metadata": {
        "id": "npG1Oo2JHBxS"
      }
    },
    {
      "cell_type": "code",
      "source": [
        "persian_to_english_dept = {\n",
        "    \"توسعه نرم‌افزار\": \"Software Development\",\n",
        "    \"منابع انسانی\": \"Human Resources\",\n",
        "    \"مالی\": \"Finance\",\n",
        "    \"بازاریابی\": \"Marketing\"\n",
        "}\n",
        "\n",
        "persian_to_english_reason = {\n",
        "    \"شرکت در کنفرانس فناوری اطلاعات\": \"Attending an IT conference\",\n",
        "    \"استراحت شخصی\": \"Personal rest\",\n",
        "    \"مرخصی پزشکی\": \"Medical leave\",\n",
        "    \"سفر خانوادگی\": \"Family trip\"\n",
        "}"
      ],
      "metadata": {
        "id": "mqgIt8eEHFxq"
      },
      "execution_count": null,
      "outputs": []
    },
    {
      "cell_type": "markdown",
      "source": [
        "# **4. Simple Persian-to-English Transliteration for Names**"
      ],
      "metadata": {
        "id": "O3Ok2MQXHHqx"
      }
    },
    {
      "cell_type": "code",
      "source": [
        "def transliterate_persian_name(persian_text: str) -> str:\n",
        "    persian_to_latin = {\n",
        "        'ا': 'a', 'آ': 'A', 'ب': 'b', 'پ': 'p', 'ت': 't', 'ث': 's',\n",
        "        'ج': 'j', 'چ': 'ch', 'ح': 'h', 'خ': 'kh', 'د': 'd', 'ذ': 'z',\n",
        "        'ر': 'r', 'ز': 'z', 'ژ': 'zh', 'س': 's', 'ش': 'sh', 'ص': 's',\n",
        "        'ض': 'z', 'ط': 't', 'ظ': 'z', 'ع': 'a', 'غ': 'gh', 'ف': 'f',\n",
        "        'ق': 'q', 'ک': 'k', 'گ': 'g', 'ل': 'l', 'م': 'm', 'ن': 'n',\n",
        "        'و': 'v', 'ه': 'h', 'ی': 'y', ' ': ' '\n",
        "    }\n",
        "    latin_text = ''.join(persian_to_latin.get(char, char) for char in persian_text)\n",
        "    return latin_text.capitalize()"
      ],
      "metadata": {
        "id": "dOd1DLvdHOTi"
      },
      "execution_count": null,
      "outputs": []
    },
    {
      "cell_type": "markdown",
      "source": [
        "# **5. Translation Functions**"
      ],
      "metadata": {
        "id": "QJBstbcrHTlC"
      }
    },
    {
      "cell_type": "code",
      "source": [
        "def translate_persian_to_english(text: str, mapping: dict = None) -> str:\n",
        "    if mapping and text in mapping:\n",
        "        return mapping[text]\n",
        "    return transliterate_persian_name(text)\n",
        "\n",
        "def translate_english_to_persian(en_notification: str, employee_name: str, decision: int) -> str:\n",
        "    en_notification_lower = en_notification.lower()\n",
        "    status_map = {\n",
        "        1: \"تایید شده\",\n",
        "        2: \"رد شده\",\n",
        "        3: \"نیاز به اطلاعات بیشتر\"\n",
        "    }\n",
        "\n",
        "    for en_status, fa_status in zip([\"approved\", \"rejected\", \"need more information\"], status_map.values()):\n",
        "        if en_status in en_notification_lower:\n",
        "            return f\"کارمند گرامی {employee_name}، درخواست مرخصی شما {fa_status}.\"\n",
        "\n",
        "    fa_status = status_map.get(decision, \"مشکلی در پردازش درخواست شما رخ داد\")\n",
        "    return f\"کارمند گرامی {employee_name}، درخواست مرخصی شما {fa_status}.\""
      ],
      "metadata": {
        "id": "3Mp9gterHY9J"
      },
      "execution_count": null,
      "outputs": []
    },
    {
      "cell_type": "markdown",
      "source": [
        "# **6. Initialize Hugging Face Pipeline with smaller model and optimized settings**"
      ],
      "metadata": {
        "id": "L-7nQaBHHcKR"
      }
    },
    {
      "cell_type": "code",
      "source": [
        "try:\n",
        "    local_llm = pipeline(\n",
        "        \"text2text-generation\",\n",
        "        model=\"google/flan-t5-small\",\n",
        "        device=\"cpu\",\n",
        "        max_length=100,\n",
        "        model_kwargs={\"torch_dtype\": \"auto\", \"low_cpu_mem_usage\": True}\n",
        "    )\n",
        "except Exception as e:\n",
        "    print(f\"Error loading model: {e}\")\n",
        "    # Fallback to smaller model if primary fails\n",
        "    local_llm = pipeline(\n",
        "        \"text2text-generation\",\n",
        "        model=\"google/flan-t5-base\",\n",
        "        device=\"cpu\",\n",
        "        max_length=50\n",
        "    )"
      ],
      "metadata": {
        "id": "XSL_z5v2Hf7a"
      },
      "execution_count": null,
      "outputs": []
    },
    {
      "cell_type": "markdown",
      "source": [
        "# **7. Wrap the pipeline in HuggingFacePipeline with reduced max_length**"
      ],
      "metadata": {
        "id": "8L_eCU-eHjLS"
      }
    },
    {
      "cell_type": "code",
      "source": [
        "llm = HuggingFacePipeline(\n",
        "    pipeline=local_llm,\n",
        "    model_kwargs={\"temperature\": 0.7, \"max_length\": 100}\n",
        ")"
      ],
      "metadata": {
        "id": "IIHkkYo-Hm_S"
      },
      "execution_count": null,
      "outputs": []
    },
    {
      "cell_type": "markdown",
      "source": [
        "# **8. Simplified Evaluation Template**"
      ],
      "metadata": {
        "id": "m-DJNGehHpAg"
      }
    },
    {
      "cell_type": "code",
      "source": [
        "evaluation_template = \"\"\"\n",
        "Review vacation request:\n",
        "Employee: {employee_name}\n",
        "Department: {department}\n",
        "Dates: {start_date} to {end_date}\n",
        "Reason: {reason}\n",
        "Days left: {remaining_days}\n",
        "\n",
        "Options:\n",
        "1. Approve\n",
        "2. Reject\n",
        "3. Need more info\n",
        "\n",
        "Respond with number only.\n",
        "\"\"\""
      ],
      "metadata": {
        "id": "SLQR-nZfHwKZ"
      },
      "execution_count": null,
      "outputs": []
    },
    {
      "cell_type": "markdown",
      "source": [
        "# **9. Simplified Notification Template**"
      ],
      "metadata": {
        "id": "JsAHs6uVHyrJ"
      }
    },
    {
      "cell_type": "code",
      "source": [
        "notification_template = \"\"\"\n",
        "Notify employee about vacation request:\n",
        "Name: {employee_name}\n",
        "Decision: {decision}\n",
        "\n",
        "Write a short message.\n",
        "\"\"\""
      ],
      "metadata": {
        "id": "lxWD9A3VH145"
      },
      "execution_count": null,
      "outputs": []
    },
    {
      "cell_type": "markdown",
      "source": [
        "# **10. Define Agent Nodes with error handling**"
      ],
      "metadata": {
        "id": "8_GVMq0AH6HZ"
      }
    },
    {
      "cell_type": "code",
      "source": [
        "def evaluate_request_node(state: VacationRequestState) -> VacationRequestState:\n",
        "    try:\n",
        "        en_employee_name = translate_persian_to_english(state[\"employee\"].name)\n",
        "        en_department = translate_persian_to_english(state[\"employee\"].department, persian_to_english_dept)\n",
        "        en_reason = translate_persian_to_english(state[\"request\"].reason, persian_to_english_reason)\n",
        "\n",
        "        prompt = evaluation_template.format(\n",
        "            employee_name=en_employee_name,\n",
        "            department=en_department,\n",
        "            start_date=state[\"request\"].start_date,\n",
        "            end_date=state[\"request\"].end_date,\n",
        "            reason=en_reason,\n",
        "            remaining_days=state[\"employee\"].remaining_vacation_days\n",
        "        )\n",
        "\n",
        "        evaluation = llm.invoke(prompt)\n",
        "        state[\"decision\"] = int(evaluation.strip()[0]) if evaluation.strip() else 3\n",
        "    except Exception as e:\n",
        "        print(f\"Evaluation error: {e}\")\n",
        "        state[\"decision\"] = 3\n",
        "    return state\n",
        "\n",
        "def notify_employee_node(state: VacationRequestState) -> VacationRequestState:\n",
        "    try:\n",
        "        en_employee_name = translate_persian_to_english(state[\"employee\"].name)\n",
        "\n",
        "        prompt = notification_template.format(\n",
        "            employee_name=en_employee_name,\n",
        "            decision=state[\"decision\"]\n",
        "        )\n",
        "\n",
        "        notification = llm.invoke(prompt).strip()\n",
        "        if not notification:\n",
        "            notification = {\n",
        "                1: f\"Dear {en_employee_name}, your vacation request is approved.\",\n",
        "                2: f\"Dear {en_employee_name}, your vacation request is rejected.\",\n",
        "                3: f\"Dear {en_employee_name}, we need more information about your request.\"\n",
        "            }.get(state[\"decision\"], \"Request processing error\")\n",
        "\n",
        "        state[\"notification\"] = translate_english_to_persian(notification, state[\"employee\"].name, state[\"decision\"])\n",
        "    except Exception as e:\n",
        "        print(f\"Notification error: {e}\")\n",
        "        state[\"notification\"] = \"خطا در پردازش درخواست\"\n",
        "    return state"
      ],
      "metadata": {
        "id": "-9YqerHLH_3a"
      },
      "execution_count": null,
      "outputs": []
    },
    {
      "cell_type": "markdown",
      "source": [
        "# **11. Build LangGraph Workflow**"
      ],
      "metadata": {
        "id": "Ydkm3OAAICpZ"
      }
    },
    {
      "cell_type": "code",
      "source": [
        "workflow = StateGraph(VacationRequestState)\n",
        "workflow.add_node(\"evaluate_request\", evaluate_request_node)\n",
        "workflow.add_node(\"notify_employee\", notify_employee_node)\n",
        "workflow.add_edge(\"evaluate_request\", \"notify_employee\")\n",
        "workflow.add_edge(\"notify_employee\", END)\n",
        "workflow.set_entry_point(\"evaluate_request\")\n",
        "graph = workflow.compile()"
      ],
      "metadata": {
        "id": "yhsqEC-2IHa6"
      },
      "execution_count": null,
      "outputs": []
    },
    {
      "cell_type": "markdown",
      "source": [
        "# **12. Function to process vacation request**"
      ],
      "metadata": {
        "id": "-ukz5WyJIJdD"
      }
    },
    {
      "cell_type": "code",
      "source": [
        "def process_vacation_request(request: VacationRequest, employee: Employee):\n",
        "    initial_state = {\n",
        "        \"request\": request,\n",
        "        \"employee\": employee,\n",
        "        \"decision\": 0,\n",
        "        \"notification\": \"\"\n",
        "    }\n",
        "\n",
        "    try:\n",
        "        result = graph.invoke(initial_state)\n",
        "        return {\n",
        "            \"decision\": result[\"decision\"],\n",
        "            \"notification\": result[\"notification\"]\n",
        "        }\n",
        "    except Exception as e:\n",
        "        print(f\"Processing error: {e}\")\n",
        "        return {\n",
        "            \"decision\": 3,\n",
        "            \"notification\": \"خطا در پردازش درخواست\"\n",
        "        }"
      ],
      "metadata": {
        "id": "eqsA6YY5IP1y"
      },
      "execution_count": null,
      "outputs": []
    },
    {
      "cell_type": "markdown",
      "source": [
        "# **13. Sample Data (in Persian)**"
      ],
      "metadata": {
        "id": "TO7M3Hx1IR9S"
      }
    },
    {
      "cell_type": "code",
      "source": [
        "employee = Employee(\n",
        "    id=1001,\n",
        "    name=\"امید سکاکی\",\n",
        "    department=\"توسعه نرم‌افزار\",\n",
        "    remaining_vacation_days=12\n",
        ")\n",
        "\n",
        "request = VacationRequest(\n",
        "    employee_id=1001,\n",
        "    start_date=\"1403/05/10\",\n",
        "    end_date=\"1403/05/12\",\n",
        "    reason=\"شرکت در کنفرانس فناوری اطلاعات\",\n",
        "    status=VacationRequestStatus.PENDING\n",
        ")\n",
        "\n",
        "# Process Request\n",
        "print(\"در حال پردازش درخواست مرخصی...\\n\")\n",
        "result = process_vacation_request(request, employee)\n",
        "\n",
        "print(\"\\n--- نتیجه نهایی ---\")\n",
        "#print(f\"تصمیم: {result['decision']} (1=تایید, 2=رد, 3=نیاز به اطلاعات بیشتر)\")\n",
        "print(f\"پیام: {result['notification']}\")"
      ],
      "metadata": {
        "id": "XVSTL0muIW8o"
      },
      "execution_count": null,
      "outputs": []
    }
  ],
  "metadata": {
    "accelerator": "GPU",
    "colab": {
      "gpuType": "T4",
      "provenance": []
    },
    "kernelspec": {
      "display_name": "Python 3",
      "name": "python3"
    },
    "language_info": {
      "name": "python"
    }
  },
  "nbformat": 4,
  "nbformat_minor": 0
}