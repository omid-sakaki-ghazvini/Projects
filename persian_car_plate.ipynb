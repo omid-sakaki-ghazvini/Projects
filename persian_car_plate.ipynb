{
  "cells": [
    {
      "cell_type": "markdown",
      "metadata": {
        "id": "view-in-github",
        "colab_type": "text"
      },
      "source": [
        "<a href=\"https://colab.research.google.com/github/omid-sakaki-ghazvini/Projects/blob/main/persian_car_plate.ipynb\" target=\"_parent\"><img src=\"https://colab.research.google.com/assets/colab-badge.svg\" alt=\"Open In Colab\"/></a>"
      ]
    },
    {
      "cell_type": "markdown",
      "id": "085b3923",
      "metadata": {
        "id": "085b3923"
      },
      "source": [
        "# 1. Install Dependencies and Setup"
      ]
    },
    {
      "cell_type": "markdown",
      "id": "e46cc135",
      "metadata": {
        "id": "e46cc135"
      },
      "source": [
        "<div style=\"direction:rtl\">\n",
        "<font color='green' size=\"5px\">\n",
        " کتابخانه های مورد نیاز را نصب میکنیم\n",
        "    </font>\n",
        "</div>"
      ]
    },
    {
      "cell_type": "code",
      "execution_count": null,
      "id": "6d7f662c",
      "metadata": {
        "id": "6d7f662c"
      },
      "outputs": [],
      "source": [
        "pip install -q ultralytics\n",
        "pip install -q wandb"
      ]
    },
    {
      "cell_type": "code",
      "execution_count": null,
      "id": "a88a63e8",
      "metadata": {
        "id": "a88a63e8"
      },
      "outputs": [],
      "source": [
        "import wandb\n",
        "wandb.init(mode=\"disabled\")\n",
        "\n",
        "import os                        # To work with operation system commands\n",
        "import cv2                       # To process images\n",
        "import random                    # to generate random choices\n",
        "import warnings                  # To avoid python warnings\n",
        "import numpy as np               # To work with arrays\n",
        "import pandas as pd              # To work with DataFrames\n",
        "import seaborn as sns            # To visualizations\n",
        "from tqdm import tqdm            # To represent progress bars\n",
        "from ultralytics import YOLO     # To Create Yolo model\n",
        "from termcolor import colored    # To colorfull outputs\n",
        "import matplotlib.pyplot as plt  # To visualizations\n",
        "\n",
        "# ignore python warnings\n",
        "warnings.filterwarnings('ignore')\n",
        "\n",
        "# add style to plots\n",
        "plt.style.use('fivethirtyeight')\n",
        "sns.set_style('darkgrid')"
      ]
    },
    {
      "cell_type": "markdown",
      "id": "3b01a837",
      "metadata": {
        "id": "3b01a837"
      },
      "source": [
        "# 2. Load Data"
      ]
    },
    {
      "cell_type": "markdown",
      "id": "45a623d9",
      "metadata": {
        "id": "45a623d9"
      },
      "source": [
        "## https://www.kaggle.com/datasets/omidsakaki1370/persian-car-plate"
      ]
    },
    {
      "cell_type": "code",
      "execution_count": null,
      "id": "8a8f1df2",
      "metadata": {
        "id": "8a8f1df2"
      },
      "outputs": [],
      "source": [
        "import kagglehub\n",
        "\n",
        "# Download latest version\n",
        "path = kagglehub.dataset_download(\"omidsakaki1370/persian-car-plate\")\n",
        "\n",
        "print(\"Path to dataset files:\", path)"
      ]
    },
    {
      "cell_type": "markdown",
      "id": "8fb2e15f",
      "metadata": {
        "id": "8fb2e15f"
      },
      "source": [
        "<div style=\"direction:rtl\">\n",
        "<font color='green' size=\"5px\">\n",
        "توسط خط فرمان زیر، دیتا را فراخوانی میکنیم\n",
        "    </font>\n",
        "</div>"
      ]
    },
    {
      "cell_type": "code",
      "execution_count": null,
      "id": "535f1b43",
      "metadata": {
        "id": "535f1b43"
      },
      "outputs": [],
      "source": [
        "# Path of car-detection dataset\n",
        "plate_base = '/root/.cache/kagglehub/datasets/omidsakaki1370/persian-car-plate/versions/1'\n",
        "\n",
        "# Path of yaml file\n",
        "plate_yaml_path = os.path.join(plate_base, 'data.yaml')\n",
        "\n",
        "# Path of Train directory\n",
        "plate_train_dir = os.path.join(plate_base, 'train')\n",
        "plate_train_images = os.path.join(plate_train_dir, 'images')\n",
        "plate_train_labels = os.path.join(plate_train_dir, 'labels')\n",
        "\n",
        "# Path of Validation directory\n",
        "plate_valid_dir = os.path.join(plate_base, 'valid')\n",
        "plate_valid_images = os.path.join(plate_valid_dir, 'images')\n",
        "plate_valid_labels = os.path.join(plate_valid_images, 'labels')\n",
        "\n",
        "# Path of Test directory\n",
        "plate_test_dir = os.path.join(plate_base, 'test')\n",
        "plate_test_images = os.path.join(plate_test_dir, 'images')\n",
        "plate_test_labels = os.path.join(plate_test_dir, 'labels')"
      ]
    },
    {
      "cell_type": "code",
      "execution_count": null,
      "id": "6cb258f3",
      "metadata": {
        "id": "6cb258f3"
      },
      "outputs": [],
      "source": [
        "print(colored(f' Number of Train Images : {len(os.listdir(plate_train_images))} ', 'blue', attrs=['bold']))\n",
        "print(colored(f' Number of Validation Images : {len(os.listdir(plate_valid_images))}', 'blue', attrs=['bold']))\n",
        "print(colored(f' Number of Test Images : {len(os.listdir(plate_test_images))} ', 'blue', attrs=['bold']))\n",
        "print('_'*40)\n",
        "print(colored(f' Number of All Images : {len(os.listdir(plate_train_images)) + len(os.listdir(plate_valid_images)) + len(os.listdir(plate_test_images))} ', 'green', attrs=['bold']))"
      ]
    },
    {
      "cell_type": "code",
      "execution_count": null,
      "id": "bdc98156",
      "metadata": {
        "id": "bdc98156"
      },
      "outputs": [],
      "source": [
        "def Image_Size(train_images) :\n",
        "    '''\n",
        "    Read images and save image-sizes in a set\n",
        "    '''\n",
        "    img_sizes = set()\n",
        "\n",
        "    # Loop over train images and read them\n",
        "    for img_name in tqdm(os.listdir(train_images)) :\n",
        "        img_path = os.path.join(train_images, img_name)\n",
        "        img = cv2.imread(img_path)\n",
        "        h, w, c = img.shape\n",
        "        img_sizes.add((h, w))\n",
        "\n",
        "    return img_sizes\n",
        "\n",
        "img_sizes = Image_Size(plate_train_images)\n",
        "\n",
        "if len(img_sizes) == 1 :\n",
        "    print(colored(f'\\n All the images have size of {img_sizes} ', 'green', attrs=['bold']))\n",
        "else :\n",
        "    print(colored(f'\\n There are {len(img_sizes)} different image sizes ! ', 'red', attrs=['bold']))"
      ]
    },
    {
      "cell_type": "code",
      "execution_count": null,
      "id": "67023318",
      "metadata": {
        "id": "67023318"
      },
      "outputs": [],
      "source": [
        "# Height and Width of all images\n",
        "H = list(img_sizes)[0][0]\n",
        "W = list(img_sizes)[0][1]\n",
        "\n",
        "print(colored(f'Height : {H}\\nWidth : {W}', 'black', attrs=['bold']))"
      ]
    },
    {
      "cell_type": "markdown",
      "id": "b11d8d7f",
      "metadata": {
        "id": "b11d8d7f"
      },
      "source": [
        "## 3.Plot Random Images With BBOXs"
      ]
    },
    {
      "cell_type": "code",
      "execution_count": null,
      "id": "25d23a78",
      "metadata": {
        "id": "25d23a78"
      },
      "outputs": [],
      "source": [
        "def TXT_To_BBOX(lbl_path) :\n",
        "    '''\n",
        "    Read txt files and extract points of bonding-boxes.\n",
        "    '''\n",
        "    # Read text file and split it by white-space\n",
        "    bbox = open(lbl_path, 'r')\n",
        "    bbox = bbox.read()\n",
        "    bbox = bbox.split(' ')[1:]\n",
        "\n",
        "    # determine points of bboxes edge\n",
        "    p1 = [int(float(bbox[0])*H), int(float(bbox[1])*W)]\n",
        "    p2 = [int(float(bbox[2])*H), int(float(bbox[3])*W)]\n",
        "    p3 = [int(float(bbox[4])*H), int(float(bbox[5])*W)]\n",
        "    p4 = [int(float(bbox[6])*H), int(float(bbox[7])*W)]\n",
        "\n",
        "    # convert points to array and reshape it\n",
        "    pts = np.array([p1, p2, p3, p4], np.int32)\n",
        "    pts = pts.reshape((-1, 1, 2))\n",
        "    return pts"
      ]
    },
    {
      "cell_type": "code",
      "execution_count": null,
      "id": "a89cfd54",
      "metadata": {
        "id": "a89cfd54"
      },
      "outputs": [],
      "source": [
        "def JPG_Name_To_TXT(img_name) :\n",
        "    '''\n",
        "    Based on image name, find text file in label folder.\n",
        "    '''\n",
        "    # Seperate prefix and sufix of image name\n",
        "    name = img_name.split('.')[:-1]\n",
        "    name = '.'.join(name)\n",
        "    txt_name = name + '.txt'\n",
        "    return txt_name"
      ]
    },
    {
      "cell_type": "code",
      "execution_count": null,
      "id": "331fbd9d",
      "metadata": {
        "id": "331fbd9d"
      },
      "outputs": [],
      "source": [
        "def Plot_Random_Images() :\n",
        "    '''\n",
        "    Read and randomly choose some images and plot them with their bboxes in train folder.\n",
        "    '''\n",
        "    # Select K random number of train images\n",
        "    random_images = random.choices(os.listdir(plate_train_images), k=12)\n",
        "    # manual iterator\n",
        "    i = 1\n",
        "    # plot images and bboxes\n",
        "    plt.figure(figsize=(20, 7))\n",
        "    for img_name in random_images :\n",
        "        plt.subplot(2, 6, i)\n",
        "        # Image\n",
        "        img_path = os.path.join(plate_train_images, img_name)\n",
        "        img = cv2.imread(img_path)\n",
        "        img = cv2.cvtColor(img, cv2.COLOR_BGR2RGB)\n",
        "        # BBox\n",
        "        txt_name = JPG_Name_To_TXT(img_name)\n",
        "        lbl_path = os.path.join(plate_train_labels, txt_name)\n",
        "        pts = TXT_To_BBOX(lbl_path)\n",
        "        cv2.polylines(img, [pts], True, (0, 255, 0), 5, cv2.LINE_AA)\n",
        "\n",
        "        plt.imshow(img)\n",
        "        plt.axis('off')\n",
        "        i += 1\n",
        "Plot_Random_Images()"
      ]
    },
    {
      "cell_type": "markdown",
      "id": "499bb918",
      "metadata": {
        "id": "499bb918"
      },
      "source": [
        "# 4. Create a YoloV8n model"
      ]
    },
    {
      "cell_type": "code",
      "execution_count": null,
      "id": "e6201f72",
      "metadata": {
        "id": "e6201f72"
      },
      "outputs": [],
      "source": [
        "# Create a YoloV8n model and load pretrained weights\n",
        "yolo_model = YOLO('yolov8n.yaml').load('yolov8n.pt')\n",
        "\n",
        "# Train the model with train images and labels\n",
        "result = yolo_model.train(data=plate_yaml_path, epochs=20, amp=False)"
      ]
    },
    {
      "cell_type": "markdown",
      "id": "de11d7e0",
      "metadata": {
        "id": "de11d7e0"
      },
      "source": [
        "# 5.Train Result"
      ]
    },
    {
      "cell_type": "code",
      "execution_count": null,
      "id": "97e91e4a",
      "metadata": {
        "id": "97e91e4a"
      },
      "outputs": [],
      "source": [
        "# List of some metrics\n",
        "metrics = ['results.png','confusion_matrix.png', 'P_curve.png', 'PR_curve.png']\n",
        "\n",
        "plt.figure(figsize=(15, 12))\n",
        "i = 1\n",
        "\n",
        "for image_name in metrics:\n",
        "    # Path of metrics images\n",
        "    image_path = os.path.join(result_path, image_name)\n",
        "    image = cv2.imread(image_path)\n",
        "\n",
        "    # Plot images\n",
        "    plt.subplot(2, 2, i)\n",
        "    plt.imshow(image)\n",
        "    plt.title(image_name)\n",
        "    i += 1\n",
        "\n",
        "plt.show()"
      ]
    },
    {
      "cell_type": "code",
      "execution_count": null,
      "id": "b0c8b49f",
      "metadata": {
        "id": "b0c8b49f"
      },
      "outputs": [],
      "source": [
        "# Read csv of result\n",
        "df = pd.read_csv(os.path.join(result_path, 'results.csv'))\n",
        "df.tail(5)"
      ]
    },
    {
      "cell_type": "code",
      "execution_count": null,
      "id": "ff832052",
      "metadata": {
        "id": "ff832052"
      },
      "outputs": [],
      "source": [
        "# Strip columns\n",
        "df.columns = df.columns.str.strip()\n",
        "df.columns"
      ]
    },
    {
      "cell_type": "code",
      "execution_count": null,
      "id": "8f315d6f",
      "metadata": {
        "id": "8f315d6f"
      },
      "outputs": [],
      "source": [
        "# Define X, y to plot\n",
        "X = df.epoch\n",
        "cols = df.columns[1:]\n",
        "\n",
        "plt.figure(figsize=(15, 25))\n",
        "\n",
        "for it in range(len(cols)) :\n",
        "    plt.subplot(7, 2, it+1)\n",
        "    ax = sns.lineplot(data=df, x=X, y=cols[it])\n",
        "    ax.set_title(cols[it])\n",
        "plt.suptitle('Training Metrics and Loss', fontsize=24)\n",
        "plt.subplots_adjust(top=0.6)\n",
        "plt.tight_layout()\n",
        "plt.show()"
      ]
    },
    {
      "cell_type": "markdown",
      "id": "a3cbadb4",
      "metadata": {
        "id": "a3cbadb4"
      },
      "source": [
        "## 6.Best weights for training, stored in weights folder as best.pt. load best weight in a model."
      ]
    },
    {
      "cell_type": "code",
      "execution_count": null,
      "id": "6fcd7ced",
      "metadata": {
        "id": "6fcd7ced"
      },
      "outputs": [],
      "source": [
        "# Path of working-Directory\n",
        "working_dir = 'C:\\\\envs\\\\Working\\\\Iranian_Plates'"
      ]
    },
    {
      "cell_type": "code",
      "execution_count": null,
      "id": "4bff3aa5",
      "metadata": {
        "id": "4bff3aa5"
      },
      "outputs": [],
      "source": [
        "# Load model with best weights\n",
        "best_model_path = os.path.join(result_path, 'weights/best.pt')\n",
        "best_model_plate = YOLO(best_model_path)"
      ]
    },
    {
      "cell_type": "code",
      "execution_count": null,
      "id": "0e8b6969",
      "metadata": {
        "id": "0e8b6969"
      },
      "outputs": [],
      "source": [
        "# Evaluating the model\n",
        "result_test = best_model_plate.val()"
      ]
    },
    {
      "cell_type": "code",
      "execution_count": null,
      "id": "c32bc91d",
      "metadata": {
        "id": "c32bc91d"
      },
      "outputs": [],
      "source": [
        "# list of metrics\n",
        "keys = ['metrics/precision(B)', 'metrics/recall(B)', 'metrics/mAP50(B)', 'metrics/mAP50-95(B)']\n",
        "\n",
        "for key in keys :\n",
        "    print(colored(f'{key} : {result_test.results_dict[key]}', 'green', attrs=['bold']))"
      ]
    },
    {
      "cell_type": "markdown",
      "id": "6ebb52b3",
      "metadata": {
        "id": "6ebb52b3"
      },
      "source": [
        "## 7.Test the detection model"
      ]
    },
    {
      "cell_type": "code",
      "execution_count": null,
      "id": "306b1877",
      "metadata": {
        "id": "306b1877"
      },
      "outputs": [],
      "source": [
        "# all test images\n",
        "images = os.listdir(plate_test_images)\n",
        "\n",
        "# K - number of random images\n",
        "num_samples = 12\n",
        "random_images = random.choices(images, k=num_samples)\n",
        "\n",
        "# Create a list of random images paths\n",
        "images = []\n",
        "for image in random_images :\n",
        "    image_path = os.path.join(plate_test_images, image)\n",
        "    images.append(image_path)\n",
        "\n",
        "images"
      ]
    },
    {
      "cell_type": "code",
      "execution_count": null,
      "id": "1ecc18b5",
      "metadata": {
        "id": "1ecc18b5"
      },
      "outputs": [],
      "source": [
        "# Predict bbox of images one by one\n",
        "for image in images :\n",
        "    result = best_model_plate.predict([image], save=True, conf=0.5, iou=0.7)"
      ]
    },
    {
      "cell_type": "code",
      "execution_count": null,
      "id": "9156f552",
      "metadata": {
        "id": "9156f552"
      },
      "outputs": [],
      "source": [
        "result_path = result[0].save_dir\n",
        "print(result_path)"
      ]
    },
    {
      "cell_type": "markdown",
      "id": "1ed2d91e",
      "metadata": {
        "id": "1ed2d91e"
      },
      "source": [
        "## 8.And plot the car images with predicted bboxes. Its a visual test"
      ]
    },
    {
      "cell_type": "code",
      "execution_count": null,
      "id": "3ff9513a",
      "metadata": {
        "id": "3ff9513a"
      },
      "outputs": [],
      "source": [
        "# Show images\n",
        "i = 1\n",
        "plt.figure(figsize=(12, 6), dpi=200)\n",
        "for image in os.listdir(result_path) :\n",
        "    image_path = os.path.join(result_path, image)\n",
        "    plt.suptitle('Test Result', fontsize=25, fontweight=500)\n",
        "    plt.subplot(2, 5, i)\n",
        "    plt.imshow(plt.imread(image_path))\n",
        "    plt.axis('off')\n",
        "    plt.subplots_adjust(top=0.75)\n",
        "    i+=1\n",
        "    if i==11 : break\n",
        "plt.show()"
      ]
    }
  ],
  "metadata": {
    "kernelspec": {
      "display_name": "Python 3 (ipykernel)",
      "language": "python",
      "name": "python3"
    },
    "language_info": {
      "codemirror_mode": {
        "name": "ipython",
        "version": 3
      },
      "file_extension": ".py",
      "mimetype": "text/x-python",
      "name": "python",
      "nbconvert_exporter": "python",
      "pygments_lexer": "ipython3",
      "version": "3.11.5"
    },
    "colab": {
      "provenance": [],
      "include_colab_link": true
    }
  },
  "nbformat": 4,
  "nbformat_minor": 5
}