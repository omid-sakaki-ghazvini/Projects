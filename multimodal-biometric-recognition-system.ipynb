{
 "cells": [
  {
   "cell_type": "code",
   "execution_count": 1,
   "id": "1681f00b",
   "metadata": {
    "_cell_guid": "b1076dfc-b9ad-4769-8c92-a6c4dae69d19",
    "_uuid": "8f2839f25d086af736a60e9eeb907d3b93b6e0e5",
    "execution": {
     "iopub.execute_input": "2025-05-15T17:33:05.468996Z",
     "iopub.status.busy": "2025-05-15T17:33:05.468779Z",
     "iopub.status.idle": "2025-05-15T17:33:08.366407Z",
     "shell.execute_reply": "2025-05-15T17:33:08.365601Z"
    },
    "papermill": {
     "duration": 2.904519,
     "end_time": "2025-05-15T17:33:08.367860",
     "exception": false,
     "start_time": "2025-05-15T17:33:05.463341",
     "status": "completed"
    },
    "tags": []
   },
   "outputs": [],
   "source": [
    "# This Python 3 environment comes with many helpful analytics libraries installed\n",
    "# It is defined by the kaggle/python Docker image: https://github.com/kaggle/docker-python\n",
    "# For example, here's several helpful packages to load\n",
    "\n",
    "import numpy as np # linear algebra\n",
    "import pandas as pd # data processing, CSV file I/O (e.g. pd.read_csv)\n",
    "\n",
    "# Input data files are available in the read-only \"../input/\" directory\n",
    "# For example, running this (by clicking run or pressing Shift+Enter) will list all files under the input directory\n",
    "\n",
    "import os\n",
    "for dirname, _, filenames in os.walk('/kaggle/input'):\n",
    "    for filename in filenames:\n",
    "        os.path.join(dirname, filename)\n",
    "\n",
    "# You can write up to 20GB to the current directory (/kaggle/working/) that gets preserved as output when you create a version using \"Save & Run All\" \n",
    "# You can also write temporary files to /kaggle/temp/, but they won't be saved outside of the current session"
   ]
  },
  {
   "cell_type": "code",
   "execution_count": 2,
   "id": "527015cc",
   "metadata": {
    "execution": {
     "iopub.execute_input": "2025-05-15T17:33:08.374704Z",
     "iopub.status.busy": "2025-05-15T17:33:08.374187Z",
     "iopub.status.idle": "2025-05-15T17:33:21.717712Z",
     "shell.execute_reply": "2025-05-15T17:33:21.717118Z"
    },
    "papermill": {
     "duration": 13.348636,
     "end_time": "2025-05-15T17:33:21.719080",
     "exception": false,
     "start_time": "2025-05-15T17:33:08.370444",
     "status": "completed"
    },
    "tags": []
   },
   "outputs": [
    {
     "name": "stderr",
     "output_type": "stream",
     "text": [
      "2025-05-15 17:33:09.993172: E external/local_xla/xla/stream_executor/cuda/cuda_fft.cc:477] Unable to register cuFFT factory: Attempting to register factory for plugin cuFFT when one has already been registered\n",
      "WARNING: All log messages before absl::InitializeLog() is called are written to STDERR\n",
      "E0000 00:00:1747330390.206085      19 cuda_dnn.cc:8310] Unable to register cuDNN factory: Attempting to register factory for plugin cuDNN when one has already been registered\n",
      "E0000 00:00:1747330390.266954      19 cuda_blas.cc:1418] Unable to register cuBLAS factory: Attempting to register factory for plugin cuBLAS when one has already been registered\n"
     ]
    }
   ],
   "source": [
    "# Import necessary libraries\n",
    "import os\n",
    "import numpy as np\n",
    "import tensorflow as tf\n",
    "from tensorflow.keras import layers, Model\n",
    "from tensorflow.keras.applications import MobileNetV2\n",
    "from tensorflow.keras.preprocessing.image import load_img, img_to_array\n",
    "from tqdm import tqdm  # For progress bars\n",
    "import matplotlib.pyplot as plt  # For visualization"
   ]
  },
  {
   "cell_type": "code",
   "execution_count": 3,
   "id": "e7ae7d9d",
   "metadata": {
    "execution": {
     "iopub.execute_input": "2025-05-15T17:33:21.724830Z",
     "iopub.status.busy": "2025-05-15T17:33:21.724381Z",
     "iopub.status.idle": "2025-05-15T17:33:21.728163Z",
     "shell.execute_reply": "2025-05-15T17:33:21.727640Z"
    },
    "papermill": {
     "duration": 0.007601,
     "end_time": "2025-05-15T17:33:21.729175",
     "exception": false,
     "start_time": "2025-05-15T17:33:21.721574",
     "status": "completed"
    },
    "tags": []
   },
   "outputs": [],
   "source": [
    "# Constants configuration\n",
    "BASE_PATH = '/kaggle/input/multimodal-iris-fingerprint-biometric-data/IRIS and FINGERPRINT DATASET'\n",
    "NUM_PEOPLE = 45  # Number of individuals in dataset\n",
    "FINGERPRINT_SHAPE = (128, 128, 3)  # Fingerprint dimensions (RGB)\n",
    "IRIS_SHAPE = (64, 64, 1)  # Iris dimensions (grayscale)\n",
    "BATCH_SIZE = 8  # Training batch size\n",
    "EPOCHS = 50  # Number of training epochs"
   ]
  },
  {
   "cell_type": "code",
   "execution_count": 4,
   "id": "814333df",
   "metadata": {
    "execution": {
     "iopub.execute_input": "2025-05-15T17:33:21.734143Z",
     "iopub.status.busy": "2025-05-15T17:33:21.733942Z",
     "iopub.status.idle": "2025-05-15T17:33:21.738769Z",
     "shell.execute_reply": "2025-05-15T17:33:21.738054Z"
    },
    "papermill": {
     "duration": 0.008526,
     "end_time": "2025-05-15T17:33:21.739823",
     "exception": false,
     "start_time": "2025-05-15T17:33:21.731297",
     "status": "completed"
    },
    "tags": []
   },
   "outputs": [],
   "source": [
    "def load_image(person_path, modality, size, grayscale=False):\n",
    "    \"\"\"\n",
    "    Load and preprocess a single image for a given modality.\n",
    "    \n",
    "    Args:\n",
    "        person_path: Path to person's directory\n",
    "        modality: 'Fingerprint', 'left', or 'right'\n",
    "        size: Target image dimensions (height, width)\n",
    "        grayscale: Whether to load as grayscale\n",
    "    \n",
    "    Returns:\n",
    "        Preprocessed image array or None if not found\n",
    "    \"\"\"\n",
    "    modality_path = os.path.join(person_path, modality)\n",
    "    if not os.path.exists(modality_path):\n",
    "        return None\n",
    "    \n",
    "    # Find first available BMP image in directory\n",
    "    files = [f for f in os.listdir(modality_path) if f.endswith(('.bmp', '.BMP'))]\n",
    "    if not files:\n",
    "        return None\n",
    "    \n",
    "    # Load image with specified color mode\n",
    "    color_mode = 'grayscale' if grayscale else 'rgb'\n",
    "    img = load_img(\n",
    "        os.path.join(modality_path, files[0]),\n",
    "        color_mode=color_mode,\n",
    "        target_size=size\n",
    "    )\n",
    "    return img_to_array(img)"
   ]
  },
  {
   "cell_type": "code",
   "execution_count": 5,
   "id": "dbe84744",
   "metadata": {
    "execution": {
     "iopub.execute_input": "2025-05-15T17:33:21.744777Z",
     "iopub.status.busy": "2025-05-15T17:33:21.744560Z",
     "iopub.status.idle": "2025-05-15T17:33:21.750735Z",
     "shell.execute_reply": "2025-05-15T17:33:21.750183Z"
    },
    "papermill": {
     "duration": 0.009911,
     "end_time": "2025-05-15T17:33:21.751762",
     "exception": false,
     "start_time": "2025-05-15T17:33:21.741851",
     "status": "completed"
    },
    "tags": []
   },
   "outputs": [],
   "source": [
    "def load_all_data(base_path, num_people):\n",
    "    \"\"\"\n",
    "    Load and preprocess all biometric data from dataset.\n",
    "    \n",
    "    Args:\n",
    "        base_path: Root directory of dataset\n",
    "        num_people: Number of individuals to load\n",
    "    \n",
    "    Returns:\n",
    "        Tuple of (fingerprint_data, left_iris_data, right_iris_data, labels)\n",
    "    \"\"\"\n",
    "    finger_images, left_iris_images, right_iris_images, labels = [], [], [], []\n",
    "    \n",
    "    if not os.path.exists(base_path):\n",
    "        raise FileNotFoundError(f\"Dataset path does not exist: {base_path}\")\n",
    "    \n",
    "    print(\"Loading data...\")\n",
    "    for person_id in tqdm(range(1, num_people + 1), desc=\"Processing persons\"):\n",
    "        person_path = os.path.join(base_path, str(person_id))\n",
    "        if not os.path.exists(person_path):\n",
    "            print(f\"Warning: Directory for person {person_id} does not exist. Skipping.\")\n",
    "            continue\n",
    "        \n",
    "        # Load fingerprint image\n",
    "        finger_img = load_image(person_path, 'Fingerprint', FINGERPRINT_SHAPE[:2], grayscale=False)\n",
    "        if finger_img is None:\n",
    "            print(f\"Warning: No fingerprint image for person {person_id}. Skipping.\")\n",
    "            continue\n",
    "        \n",
    "        # Load iris images\n",
    "        left_img = load_image(person_path, 'left', IRIS_SHAPE[:2], grayscale=True)\n",
    "        right_img = load_image(person_path, 'right', IRIS_SHAPE[:2], grayscale=True)\n",
    "        if left_img is None or right_img is None:\n",
    "            print(f\"Warning: Missing iris images for person {person_id}. Skipping.\")\n",
    "            continue\n",
    "        \n",
    "        # Store collected data\n",
    "        finger_images.append(finger_img)\n",
    "        left_iris_images.append(left_img)\n",
    "        right_iris_images.append(right_img)\n",
    "        labels.append(person_id - 1)  # Zero-based indexing\n",
    "    \n",
    "    if len(labels) == 0:\n",
    "        raise ValueError(\"No data was loaded. Check your dataset path or file structure.\")\n",
    "    \n",
    "    return np.array(finger_images), np.array(left_iris_images), np.array(right_iris_images), np.array(labels)"
   ]
  },
  {
   "cell_type": "code",
   "execution_count": 6,
   "id": "44dd4f10",
   "metadata": {
    "execution": {
     "iopub.execute_input": "2025-05-15T17:33:21.756713Z",
     "iopub.status.busy": "2025-05-15T17:33:21.756312Z",
     "iopub.status.idle": "2025-05-15T17:33:21.760657Z",
     "shell.execute_reply": "2025-05-15T17:33:21.760178Z"
    },
    "papermill": {
     "duration": 0.007976,
     "end_time": "2025-05-15T17:33:21.761752",
     "exception": false,
     "start_time": "2025-05-15T17:33:21.753776",
     "status": "completed"
    },
    "tags": []
   },
   "outputs": [],
   "source": [
    "def create_iris_branch(input_shape, name_prefix=\"\"):\n",
    "    \"\"\"\n",
    "    Create a CNN branch for processing iris images.\n",
    "    \n",
    "    Args:\n",
    "        input_shape: Shape of input iris images\n",
    "        name_prefix: Prefix for layer names\n",
    "    \n",
    "    Returns:\n",
    "        Keras Model for iris processing\n",
    "    \"\"\"\n",
    "    inputs = layers.Input(shape=input_shape, name=f\"{name_prefix}_input\")\n",
    "    \n",
    "    # Convolutional layers for feature extraction\n",
    "    x = layers.Conv2D(16, (3, 3), activation='relu', name=f\"{name_prefix}_conv1\")(inputs)\n",
    "    x = layers.MaxPooling2D(name=f\"{name_prefix}_pool1\")(x)\n",
    "    x = layers.Conv2D(32, (3, 3), activation='relu', name=f\"{name_prefix}_conv2\")(x)\n",
    "    x = layers.MaxPooling2D(name=f\"{name_prefix}_pool2\")(x)\n",
    "    x = layers.GlobalAveragePooling2D(name=f\"{name_prefix}_gap\")(x)\n",
    "    \n",
    "    return Model(inputs, x, name=f\"{name_prefix}_branch\")"
   ]
  },
  {
   "cell_type": "code",
   "execution_count": 7,
   "id": "2fc9a10b",
   "metadata": {
    "execution": {
     "iopub.execute_input": "2025-05-15T17:33:21.767589Z",
     "iopub.status.busy": "2025-05-15T17:33:21.767418Z",
     "iopub.status.idle": "2025-05-15T17:33:21.773343Z",
     "shell.execute_reply": "2025-05-15T17:33:21.772866Z"
    },
    "papermill": {
     "duration": 0.010549,
     "end_time": "2025-05-15T17:33:21.774325",
     "exception": false,
     "start_time": "2025-05-15T17:33:21.763776",
     "status": "completed"
    },
    "tags": []
   },
   "outputs": [],
   "source": [
    "def create_multimodal_model(finger_shape, iris_shape, num_classes):\n",
    "    \"\"\"\n",
    "    Create the complete multimodal biometric model.\n",
    "    \n",
    "    Args:\n",
    "        finger_shape: Shape of fingerprint images\n",
    "        iris_shape: Shape of iris images\n",
    "        num_classes: Number of individuals to classify\n",
    "    \n",
    "    Returns:\n",
    "        Compiled Keras Model\n",
    "    \"\"\"\n",
    "    # ======================\n",
    "    # Fingerprint Branch\n",
    "    # ======================\n",
    "    # Use MobileNetV2 as feature extractor (pretrained on ImageNet)\n",
    "    base_model = MobileNetV2(\n",
    "        input_shape=finger_shape,\n",
    "        include_top=False,\n",
    "        weights='imagenet',\n",
    "        pooling='avg'\n",
    "    )\n",
    "    base_model.trainable = False  # Freeze pretrained weights\n",
    "    \n",
    "    # ======================\n",
    "    # Iris Branches\n",
    "    # ======================\n",
    "    # Shared iris processing model (same weights for left/right)\n",
    "    iris_processor = create_iris_branch(iris_shape)\n",
    "    \n",
    "    # Input layers for each modality\n",
    "    fingerprint_input = layers.Input(shape=finger_shape, name=\"fingerprint_input\")\n",
    "    left_iris_input = layers.Input(shape=iris_shape, name=\"left_iris_input\")\n",
    "    right_iris_input = layers.Input(shape=iris_shape, name=\"right_iris_input\")\n",
    "    \n",
    "    # Process each modality\n",
    "    fingerprint_features = base_model(fingerprint_input)\n",
    "    left_iris_features = iris_processor(left_iris_input)\n",
    "    right_iris_features = iris_processor(right_iris_input)\n",
    "    \n",
    "    # ======================\n",
    "    # Feature Fusion\n",
    "    # ======================\n",
    "    # Combine all features\n",
    "    combined = layers.Concatenate(name=\"feature_concat\")([\n",
    "        fingerprint_features,\n",
    "        left_iris_features,\n",
    "        right_iris_features\n",
    "    ])\n",
    "    \n",
    "    # ======================\n",
    "    # Classification Head\n",
    "    # ======================\n",
    "    x = layers.Dense(128, activation='relu', kernel_regularizer=tf.keras.regularizers.l2(0.01))(combined)\n",
    "    x = layers.Dropout(0.5)(x)\n",
    "    output = layers.Dense(num_classes, activation='softmax')(x)\n",
    "    \n",
    "    # Create complete model\n",
    "    model = Model(\n",
    "        inputs=[fingerprint_input, left_iris_input, right_iris_input],\n",
    "        outputs=output,\n",
    "        name=\"multimodal_biometric_model\"\n",
    "    )\n",
    "    \n",
    "    # Compile model\n",
    "    model.compile(\n",
    "        optimizer=tf.keras.optimizers.Adam(learning_rate=1e-4),\n",
    "        loss='categorical_crossentropy',\n",
    "        metrics=['accuracy']\n",
    "    )\n",
    "    \n",
    "    return model"
   ]
  },
  {
   "cell_type": "code",
   "execution_count": 8,
   "id": "8f91d355",
   "metadata": {
    "execution": {
     "iopub.execute_input": "2025-05-15T17:33:21.778942Z",
     "iopub.status.busy": "2025-05-15T17:33:21.778753Z",
     "iopub.status.idle": "2025-05-15T17:33:21.783284Z",
     "shell.execute_reply": "2025-05-15T17:33:21.782590Z"
    },
    "papermill": {
     "duration": 0.00795,
     "end_time": "2025-05-15T17:33:21.784292",
     "exception": false,
     "start_time": "2025-05-15T17:33:21.776342",
     "status": "completed"
    },
    "tags": []
   },
   "outputs": [],
   "source": [
    "def plot_training_history(history):\n",
    "    \"\"\"\n",
    "    Plot training and validation metrics.\n",
    "    \n",
    "    Args:\n",
    "        history: Keras training history object\n",
    "    \"\"\"\n",
    "    plt.figure(figsize=(12, 5))\n",
    "    \n",
    "    # Plot accuracy\n",
    "    plt.subplot(1, 2, 1)\n",
    "    plt.plot(history.history['accuracy'], label='Training Accuracy')\n",
    "    plt.title('Model Accuracy')\n",
    "    plt.xlabel('Epoch')\n",
    "    plt.ylabel('Accuracy')\n",
    "    plt.legend()\n",
    "    \n",
    "    # Plot loss\n",
    "    plt.subplot(1, 2, 2)\n",
    "    plt.plot(history.history['loss'], label='Training Loss')\n",
    "    plt.title('Model Loss')\n",
    "    plt.xlabel('Epoch')\n",
    "    plt.ylabel('Loss')\n",
    "    plt.legend()\n",
    "    \n",
    "    plt.tight_layout()\n",
    "    plt.show()"
   ]
  },
  {
   "cell_type": "code",
   "execution_count": 9,
   "id": "a85472a8",
   "metadata": {
    "execution": {
     "iopub.execute_input": "2025-05-15T17:33:21.789017Z",
     "iopub.status.busy": "2025-05-15T17:33:21.788815Z",
     "iopub.status.idle": "2025-05-15T17:33:21.794016Z",
     "shell.execute_reply": "2025-05-15T17:33:21.793379Z"
    },
    "papermill": {
     "duration": 0.008747,
     "end_time": "2025-05-15T17:33:21.795076",
     "exception": false,
     "start_time": "2025-05-15T17:33:21.786329",
     "status": "completed"
    },
    "tags": []
   },
   "outputs": [],
   "source": [
    "def main():\n",
    "    # Load and preprocess data\n",
    "    finger_data, left_iris_data, right_iris_data, labels = load_all_data(BASE_PATH, NUM_PEOPLE)\n",
    "    \n",
    "    # Convert and normalize fingerprint data\n",
    "    if finger_data.shape[-1] == 1:  # If grayscale\n",
    "        finger_data_rgb = np.repeat(finger_data, 3, axis=-1) / 255.0\n",
    "    else:\n",
    "        finger_data_rgb = finger_data / 255.0\n",
    "    \n",
    "    # Normalize iris data\n",
    "    left_iris_data = left_iris_data / 255.0\n",
    "    right_iris_data = right_iris_data / 255.0\n",
    "    \n",
    "    # Print dataset information\n",
    "    print(\"\\nDataset Information:\")\n",
    "    print(f\"Number of samples: {len(labels)}\")\n",
    "    print(f\"Fingerprint shape: {finger_data_rgb.shape}\")\n",
    "    print(f\"Left iris shape: {left_iris_data.shape}\")\n",
    "    print(f\"Right iris shape: {right_iris_data.shape}\")\n",
    "    \n",
    "    # Convert labels to one-hot encoding\n",
    "    num_classes = len(np.unique(labels))\n",
    "    y = tf.keras.utils.to_categorical(labels, num_classes)\n",
    "    \n",
    "    # Create and train model\n",
    "    print(\"\\nCreating multimodal model...\")\n",
    "    model = create_multimodal_model(FINGERPRINT_SHAPE, IRIS_SHAPE, num_classes)\n",
    "    model.summary()  # Print model architecture\n",
    "    \n",
    "    print(\"\\nTraining model...\")\n",
    "    history = model.fit(\n",
    "        [finger_data_rgb, left_iris_data, right_iris_data],\n",
    "        y,\n",
    "        batch_size=BATCH_SIZE,\n",
    "        epochs=EPOCHS,\n",
    "        verbose=1\n",
    "    )\n",
    "    \n",
    "    # Visualize training progress\n",
    "    plot_training_history(history)"
   ]
  },
  {
   "cell_type": "code",
   "execution_count": 10,
   "id": "bf22f256",
   "metadata": {
    "execution": {
     "iopub.execute_input": "2025-05-15T17:33:21.799964Z",
     "iopub.status.busy": "2025-05-15T17:33:21.799548Z",
     "iopub.status.idle": "2025-05-15T17:33:49.493149Z",
     "shell.execute_reply": "2025-05-15T17:33:49.492272Z"
    },
    "papermill": {
     "duration": 27.697652,
     "end_time": "2025-05-15T17:33:49.494754",
     "exception": false,
     "start_time": "2025-05-15T17:33:21.797102",
     "status": "completed"
    },
    "tags": []
   },
   "outputs": [
    {
     "name": "stdout",
     "output_type": "stream",
     "text": [
      "Loading data...\n"
     ]
    },
    {
     "name": "stderr",
     "output_type": "stream",
     "text": [
      "Processing persons: 100%|██████████| 45/45 [00:01<00:00, 42.23it/s]\n"
     ]
    },
    {
     "name": "stdout",
     "output_type": "stream",
     "text": [
      "\n",
      "Dataset Information:\n",
      "Number of samples: 45\n",
      "Fingerprint shape: (45, 128, 128, 3)\n",
      "Left iris shape: (45, 64, 64, 1)\n",
      "Right iris shape: (45, 64, 64, 1)\n",
      "\n",
      "Creating multimodal model...\n"
     ]
    },
    {
     "name": "stderr",
     "output_type": "stream",
     "text": [
      "I0000 00:00:1747330404.374651      19 gpu_device.cc:2022] Created device /job:localhost/replica:0/task:0/device:GPU:0 with 13942 MB memory:  -> device: 0, name: Tesla T4, pci bus id: 0000:00:04.0, compute capability: 7.5\n",
      "I0000 00:00:1747330404.375354      19 gpu_device.cc:2022] Created device /job:localhost/replica:0/task:0/device:GPU:1 with 13942 MB memory:  -> device: 1, name: Tesla T4, pci bus id: 0000:00:05.0, compute capability: 7.5\n"
     ]
    },
    {
     "name": "stdout",
     "output_type": "stream",
     "text": [
      "Downloading data from https://storage.googleapis.com/tensorflow/keras-applications/mobilenet_v2/mobilenet_v2_weights_tf_dim_ordering_tf_kernels_1.0_128_no_top.h5\n",
      "\u001b[1m9406464/9406464\u001b[0m \u001b[32m━━━━━━━━━━━━━━━━━━━━\u001b[0m\u001b[37m\u001b[0m \u001b[1m0s\u001b[0m 0us/step\n"
     ]
    },
    {
     "data": {
      "text/html": [
       "<pre style=\"white-space:pre;overflow-x:auto;line-height:normal;font-family:Menlo,'DejaVu Sans Mono',consolas,'Courier New',monospace\"><span style=\"font-weight: bold\">Model: \"multimodal_biometric_model\"</span>\n",
       "</pre>\n"
      ],
      "text/plain": [
       "\u001b[1mModel: \"multimodal_biometric_model\"\u001b[0m\n"
      ]
     },
     "metadata": {},
     "output_type": "display_data"
    },
    {
     "data": {
      "text/html": [
       "<pre style=\"white-space:pre;overflow-x:auto;line-height:normal;font-family:Menlo,'DejaVu Sans Mono',consolas,'Courier New',monospace\">┏━━━━━━━━━━━━━━━━━━━━━━━━━━━┳━━━━━━━━━━━━━━━━━━━━━━━━┳━━━━━━━━━━━━━━━━┳━━━━━━━━━━━━━━━━━━━━━━━━┓\n",
       "┃<span style=\"font-weight: bold\"> Layer (type)              </span>┃<span style=\"font-weight: bold\"> Output Shape           </span>┃<span style=\"font-weight: bold\">        Param # </span>┃<span style=\"font-weight: bold\"> Connected to           </span>┃\n",
       "┡━━━━━━━━━━━━━━━━━━━━━━━━━━━╇━━━━━━━━━━━━━━━━━━━━━━━━╇━━━━━━━━━━━━━━━━╇━━━━━━━━━━━━━━━━━━━━━━━━┩\n",
       "│ fingerprint_input         │ (<span style=\"color: #00d7ff; text-decoration-color: #00d7ff\">None</span>, <span style=\"color: #00af00; text-decoration-color: #00af00\">128</span>, <span style=\"color: #00af00; text-decoration-color: #00af00\">128</span>, <span style=\"color: #00af00; text-decoration-color: #00af00\">3</span>)    │              <span style=\"color: #00af00; text-decoration-color: #00af00\">0</span> │ -                      │\n",
       "│ (<span style=\"color: #0087ff; text-decoration-color: #0087ff\">InputLayer</span>)              │                        │                │                        │\n",
       "├───────────────────────────┼────────────────────────┼────────────────┼────────────────────────┤\n",
       "│ left_iris_input           │ (<span style=\"color: #00d7ff; text-decoration-color: #00d7ff\">None</span>, <span style=\"color: #00af00; text-decoration-color: #00af00\">64</span>, <span style=\"color: #00af00; text-decoration-color: #00af00\">64</span>, <span style=\"color: #00af00; text-decoration-color: #00af00\">1</span>)      │              <span style=\"color: #00af00; text-decoration-color: #00af00\">0</span> │ -                      │\n",
       "│ (<span style=\"color: #0087ff; text-decoration-color: #0087ff\">InputLayer</span>)              │                        │                │                        │\n",
       "├───────────────────────────┼────────────────────────┼────────────────┼────────────────────────┤\n",
       "│ right_iris_input          │ (<span style=\"color: #00d7ff; text-decoration-color: #00d7ff\">None</span>, <span style=\"color: #00af00; text-decoration-color: #00af00\">64</span>, <span style=\"color: #00af00; text-decoration-color: #00af00\">64</span>, <span style=\"color: #00af00; text-decoration-color: #00af00\">1</span>)      │              <span style=\"color: #00af00; text-decoration-color: #00af00\">0</span> │ -                      │\n",
       "│ (<span style=\"color: #0087ff; text-decoration-color: #0087ff\">InputLayer</span>)              │                        │                │                        │\n",
       "├───────────────────────────┼────────────────────────┼────────────────┼────────────────────────┤\n",
       "│ mobilenetv2_1.00_128      │ (<span style=\"color: #00d7ff; text-decoration-color: #00d7ff\">None</span>, <span style=\"color: #00af00; text-decoration-color: #00af00\">1280</span>)           │      <span style=\"color: #00af00; text-decoration-color: #00af00\">2,257,984</span> │ fingerprint_input[<span style=\"color: #00af00; text-decoration-color: #00af00\">0</span>][<span style=\"color: #00af00; text-decoration-color: #00af00\">…</span> │\n",
       "│ (<span style=\"color: #0087ff; text-decoration-color: #0087ff\">Functional</span>)              │                        │                │                        │\n",
       "├───────────────────────────┼────────────────────────┼────────────────┼────────────────────────┤\n",
       "│ _branch (<span style=\"color: #0087ff; text-decoration-color: #0087ff\">Functional</span>)      │ (<span style=\"color: #00d7ff; text-decoration-color: #00d7ff\">None</span>, <span style=\"color: #00af00; text-decoration-color: #00af00\">32</span>)             │          <span style=\"color: #00af00; text-decoration-color: #00af00\">4,800</span> │ left_iris_input[<span style=\"color: #00af00; text-decoration-color: #00af00\">0</span>][<span style=\"color: #00af00; text-decoration-color: #00af00\">0</span>], │\n",
       "│                           │                        │                │ right_iris_input[<span style=\"color: #00af00; text-decoration-color: #00af00\">0</span>][<span style=\"color: #00af00; text-decoration-color: #00af00\">0</span>] │\n",
       "├───────────────────────────┼────────────────────────┼────────────────┼────────────────────────┤\n",
       "│ feature_concat            │ (<span style=\"color: #00d7ff; text-decoration-color: #00d7ff\">None</span>, <span style=\"color: #00af00; text-decoration-color: #00af00\">1344</span>)           │              <span style=\"color: #00af00; text-decoration-color: #00af00\">0</span> │ mobilenetv2_1.00_128[<span style=\"color: #00af00; text-decoration-color: #00af00\">…</span> │\n",
       "│ (<span style=\"color: #0087ff; text-decoration-color: #0087ff\">Concatenate</span>)             │                        │                │ _branch[<span style=\"color: #00af00; text-decoration-color: #00af00\">0</span>][<span style=\"color: #00af00; text-decoration-color: #00af00\">0</span>],         │\n",
       "│                           │                        │                │ _branch[<span style=\"color: #00af00; text-decoration-color: #00af00\">1</span>][<span style=\"color: #00af00; text-decoration-color: #00af00\">0</span>]          │\n",
       "├───────────────────────────┼────────────────────────┼────────────────┼────────────────────────┤\n",
       "│ dense (<span style=\"color: #0087ff; text-decoration-color: #0087ff\">Dense</span>)             │ (<span style=\"color: #00d7ff; text-decoration-color: #00d7ff\">None</span>, <span style=\"color: #00af00; text-decoration-color: #00af00\">128</span>)            │        <span style=\"color: #00af00; text-decoration-color: #00af00\">172,160</span> │ feature_concat[<span style=\"color: #00af00; text-decoration-color: #00af00\">0</span>][<span style=\"color: #00af00; text-decoration-color: #00af00\">0</span>]   │\n",
       "├───────────────────────────┼────────────────────────┼────────────────┼────────────────────────┤\n",
       "│ dropout (<span style=\"color: #0087ff; text-decoration-color: #0087ff\">Dropout</span>)         │ (<span style=\"color: #00d7ff; text-decoration-color: #00d7ff\">None</span>, <span style=\"color: #00af00; text-decoration-color: #00af00\">128</span>)            │              <span style=\"color: #00af00; text-decoration-color: #00af00\">0</span> │ dense[<span style=\"color: #00af00; text-decoration-color: #00af00\">0</span>][<span style=\"color: #00af00; text-decoration-color: #00af00\">0</span>]            │\n",
       "├───────────────────────────┼────────────────────────┼────────────────┼────────────────────────┤\n",
       "│ dense_1 (<span style=\"color: #0087ff; text-decoration-color: #0087ff\">Dense</span>)           │ (<span style=\"color: #00d7ff; text-decoration-color: #00d7ff\">None</span>, <span style=\"color: #00af00; text-decoration-color: #00af00\">45</span>)             │          <span style=\"color: #00af00; text-decoration-color: #00af00\">5,805</span> │ dropout[<span style=\"color: #00af00; text-decoration-color: #00af00\">0</span>][<span style=\"color: #00af00; text-decoration-color: #00af00\">0</span>]          │\n",
       "└───────────────────────────┴────────────────────────┴────────────────┴────────────────────────┘\n",
       "</pre>\n"
      ],
      "text/plain": [
       "┏━━━━━━━━━━━━━━━━━━━━━━━━━━━┳━━━━━━━━━━━━━━━━━━━━━━━━┳━━━━━━━━━━━━━━━━┳━━━━━━━━━━━━━━━━━━━━━━━━┓\n",
       "┃\u001b[1m \u001b[0m\u001b[1mLayer (type)             \u001b[0m\u001b[1m \u001b[0m┃\u001b[1m \u001b[0m\u001b[1mOutput Shape          \u001b[0m\u001b[1m \u001b[0m┃\u001b[1m \u001b[0m\u001b[1m       Param #\u001b[0m\u001b[1m \u001b[0m┃\u001b[1m \u001b[0m\u001b[1mConnected to          \u001b[0m\u001b[1m \u001b[0m┃\n",
       "┡━━━━━━━━━━━━━━━━━━━━━━━━━━━╇━━━━━━━━━━━━━━━━━━━━━━━━╇━━━━━━━━━━━━━━━━╇━━━━━━━━━━━━━━━━━━━━━━━━┩\n",
       "│ fingerprint_input         │ (\u001b[38;5;45mNone\u001b[0m, \u001b[38;5;34m128\u001b[0m, \u001b[38;5;34m128\u001b[0m, \u001b[38;5;34m3\u001b[0m)    │              \u001b[38;5;34m0\u001b[0m │ -                      │\n",
       "│ (\u001b[38;5;33mInputLayer\u001b[0m)              │                        │                │                        │\n",
       "├───────────────────────────┼────────────────────────┼────────────────┼────────────────────────┤\n",
       "│ left_iris_input           │ (\u001b[38;5;45mNone\u001b[0m, \u001b[38;5;34m64\u001b[0m, \u001b[38;5;34m64\u001b[0m, \u001b[38;5;34m1\u001b[0m)      │              \u001b[38;5;34m0\u001b[0m │ -                      │\n",
       "│ (\u001b[38;5;33mInputLayer\u001b[0m)              │                        │                │                        │\n",
       "├───────────────────────────┼────────────────────────┼────────────────┼────────────────────────┤\n",
       "│ right_iris_input          │ (\u001b[38;5;45mNone\u001b[0m, \u001b[38;5;34m64\u001b[0m, \u001b[38;5;34m64\u001b[0m, \u001b[38;5;34m1\u001b[0m)      │              \u001b[38;5;34m0\u001b[0m │ -                      │\n",
       "│ (\u001b[38;5;33mInputLayer\u001b[0m)              │                        │                │                        │\n",
       "├───────────────────────────┼────────────────────────┼────────────────┼────────────────────────┤\n",
       "│ mobilenetv2_1.00_128      │ (\u001b[38;5;45mNone\u001b[0m, \u001b[38;5;34m1280\u001b[0m)           │      \u001b[38;5;34m2,257,984\u001b[0m │ fingerprint_input[\u001b[38;5;34m0\u001b[0m][\u001b[38;5;34m…\u001b[0m │\n",
       "│ (\u001b[38;5;33mFunctional\u001b[0m)              │                        │                │                        │\n",
       "├───────────────────────────┼────────────────────────┼────────────────┼────────────────────────┤\n",
       "│ _branch (\u001b[38;5;33mFunctional\u001b[0m)      │ (\u001b[38;5;45mNone\u001b[0m, \u001b[38;5;34m32\u001b[0m)             │          \u001b[38;5;34m4,800\u001b[0m │ left_iris_input[\u001b[38;5;34m0\u001b[0m][\u001b[38;5;34m0\u001b[0m], │\n",
       "│                           │                        │                │ right_iris_input[\u001b[38;5;34m0\u001b[0m][\u001b[38;5;34m0\u001b[0m] │\n",
       "├───────────────────────────┼────────────────────────┼────────────────┼────────────────────────┤\n",
       "│ feature_concat            │ (\u001b[38;5;45mNone\u001b[0m, \u001b[38;5;34m1344\u001b[0m)           │              \u001b[38;5;34m0\u001b[0m │ mobilenetv2_1.00_128[\u001b[38;5;34m…\u001b[0m │\n",
       "│ (\u001b[38;5;33mConcatenate\u001b[0m)             │                        │                │ _branch[\u001b[38;5;34m0\u001b[0m][\u001b[38;5;34m0\u001b[0m],         │\n",
       "│                           │                        │                │ _branch[\u001b[38;5;34m1\u001b[0m][\u001b[38;5;34m0\u001b[0m]          │\n",
       "├───────────────────────────┼────────────────────────┼────────────────┼────────────────────────┤\n",
       "│ dense (\u001b[38;5;33mDense\u001b[0m)             │ (\u001b[38;5;45mNone\u001b[0m, \u001b[38;5;34m128\u001b[0m)            │        \u001b[38;5;34m172,160\u001b[0m │ feature_concat[\u001b[38;5;34m0\u001b[0m][\u001b[38;5;34m0\u001b[0m]   │\n",
       "├───────────────────────────┼────────────────────────┼────────────────┼────────────────────────┤\n",
       "│ dropout (\u001b[38;5;33mDropout\u001b[0m)         │ (\u001b[38;5;45mNone\u001b[0m, \u001b[38;5;34m128\u001b[0m)            │              \u001b[38;5;34m0\u001b[0m │ dense[\u001b[38;5;34m0\u001b[0m][\u001b[38;5;34m0\u001b[0m]            │\n",
       "├───────────────────────────┼────────────────────────┼────────────────┼────────────────────────┤\n",
       "│ dense_1 (\u001b[38;5;33mDense\u001b[0m)           │ (\u001b[38;5;45mNone\u001b[0m, \u001b[38;5;34m45\u001b[0m)             │          \u001b[38;5;34m5,805\u001b[0m │ dropout[\u001b[38;5;34m0\u001b[0m][\u001b[38;5;34m0\u001b[0m]          │\n",
       "└───────────────────────────┴────────────────────────┴────────────────┴────────────────────────┘\n"
      ]
     },
     "metadata": {},
     "output_type": "display_data"
    },
    {
     "data": {
      "text/html": [
       "<pre style=\"white-space:pre;overflow-x:auto;line-height:normal;font-family:Menlo,'DejaVu Sans Mono',consolas,'Courier New',monospace\"><span style=\"font-weight: bold\"> Total params: </span><span style=\"color: #00af00; text-decoration-color: #00af00\">2,440,749</span> (9.31 MB)\n",
       "</pre>\n"
      ],
      "text/plain": [
       "\u001b[1m Total params: \u001b[0m\u001b[38;5;34m2,440,749\u001b[0m (9.31 MB)\n"
      ]
     },
     "metadata": {},
     "output_type": "display_data"
    },
    {
     "data": {
      "text/html": [
       "<pre style=\"white-space:pre;overflow-x:auto;line-height:normal;font-family:Menlo,'DejaVu Sans Mono',consolas,'Courier New',monospace\"><span style=\"font-weight: bold\"> Trainable params: </span><span style=\"color: #00af00; text-decoration-color: #00af00\">182,765</span> (713.93 KB)\n",
       "</pre>\n"
      ],
      "text/plain": [
       "\u001b[1m Trainable params: \u001b[0m\u001b[38;5;34m182,765\u001b[0m (713.93 KB)\n"
      ]
     },
     "metadata": {},
     "output_type": "display_data"
    },
    {
     "data": {
      "text/html": [
       "<pre style=\"white-space:pre;overflow-x:auto;line-height:normal;font-family:Menlo,'DejaVu Sans Mono',consolas,'Courier New',monospace\"><span style=\"font-weight: bold\"> Non-trainable params: </span><span style=\"color: #00af00; text-decoration-color: #00af00\">2,257,984</span> (8.61 MB)\n",
       "</pre>\n"
      ],
      "text/plain": [
       "\u001b[1m Non-trainable params: \u001b[0m\u001b[38;5;34m2,257,984\u001b[0m (8.61 MB)\n"
      ]
     },
     "metadata": {},
     "output_type": "display_data"
    },
    {
     "name": "stdout",
     "output_type": "stream",
     "text": [
      "\n",
      "Training model...\n",
      "Epoch 1/50\n"
     ]
    },
    {
     "name": "stderr",
     "output_type": "stream",
     "text": [
      "WARNING: All log messages before absl::InitializeLog() is called are written to STDERR\n",
      "I0000 00:00:1747330414.373950      62 service.cc:148] XLA service 0x7b7e58004260 initialized for platform CUDA (this does not guarantee that XLA will be used). Devices:\n",
      "I0000 00:00:1747330414.374979      62 service.cc:156]   StreamExecutor device (0): Tesla T4, Compute Capability 7.5\n",
      "I0000 00:00:1747330414.375001      62 service.cc:156]   StreamExecutor device (1): Tesla T4, Compute Capability 7.5\n",
      "I0000 00:00:1747330415.361036      62 cuda_dnn.cc:529] Loaded cuDNN version 90300\n"
     ]
    },
    {
     "name": "stdout",
     "output_type": "stream",
     "text": [
      "\u001b[1m5/6\u001b[0m \u001b[32m━━━━━━━━━━━━━━━━\u001b[0m\u001b[37m━━━━\u001b[0m \u001b[1m0s\u001b[0m 13ms/step - accuracy: 0.0683 - loss: 6.9593 "
     ]
    },
    {
     "name": "stderr",
     "output_type": "stream",
     "text": [
      "I0000 00:00:1747330420.561723      62 device_compiler.h:188] Compiled cluster using XLA!  This line is logged at most once for the lifetime of the process.\n"
     ]
    },
    {
     "name": "stdout",
     "output_type": "stream",
     "text": [
      "\u001b[1m6/6\u001b[0m \u001b[32m━━━━━━━━━━━━━━━━━━━━\u001b[0m\u001b[37m\u001b[0m \u001b[1m18s\u001b[0m 909ms/step - accuracy: 0.0615 - loss: 6.9774\n",
      "Epoch 2/50\n",
      "\u001b[1m6/6\u001b[0m \u001b[32m━━━━━━━━━━━━━━━━━━━━\u001b[0m\u001b[37m\u001b[0m \u001b[1m0s\u001b[0m 11ms/step - accuracy: 0.0288 - loss: 6.9919\n",
      "Epoch 3/50\n",
      "\u001b[1m6/6\u001b[0m \u001b[32m━━━━━━━━━━━━━━━━━━━━\u001b[0m\u001b[37m\u001b[0m \u001b[1m0s\u001b[0m 11ms/step - accuracy: 0.0000e+00 - loss: 6.7693\n",
      "Epoch 4/50\n",
      "\u001b[1m6/6\u001b[0m \u001b[32m━━━━━━━━━━━━━━━━━━━━\u001b[0m\u001b[37m\u001b[0m \u001b[1m0s\u001b[0m 10ms/step - accuracy: 0.0293 - loss: 6.4130    \n",
      "Epoch 5/50\n",
      "\u001b[1m6/6\u001b[0m \u001b[32m━━━━━━━━━━━━━━━━━━━━\u001b[0m\u001b[37m\u001b[0m \u001b[1m0s\u001b[0m 10ms/step - accuracy: 0.0764 - loss: 5.9919\n",
      "Epoch 6/50\n",
      "\u001b[1m6/6\u001b[0m \u001b[32m━━━━━━━━━━━━━━━━━━━━\u001b[0m\u001b[37m\u001b[0m \u001b[1m0s\u001b[0m 10ms/step - accuracy: 0.0203 - loss: 6.3620    \n",
      "Epoch 7/50\n",
      "\u001b[1m6/6\u001b[0m \u001b[32m━━━━━━━━━━━━━━━━━━━━\u001b[0m\u001b[37m\u001b[0m \u001b[1m0s\u001b[0m 10ms/step - accuracy: 0.0203 - loss: 6.2932    \n",
      "Epoch 8/50\n",
      "\u001b[1m6/6\u001b[0m \u001b[32m━━━━━━━━━━━━━━━━━━━━\u001b[0m\u001b[37m\u001b[0m \u001b[1m0s\u001b[0m 10ms/step - accuracy: 0.0535 - loss: 5.8705\n",
      "Epoch 9/50\n",
      "\u001b[1m6/6\u001b[0m \u001b[32m━━━━━━━━━━━━━━━━━━━━\u001b[0m\u001b[37m\u001b[0m \u001b[1m0s\u001b[0m 9ms/step - accuracy: 0.0226 - loss: 5.9976     \n",
      "Epoch 10/50\n",
      "\u001b[1m6/6\u001b[0m \u001b[32m━━━━━━━━━━━━━━━━━━━━\u001b[0m\u001b[37m\u001b[0m \u001b[1m0s\u001b[0m 9ms/step - accuracy: 0.1210 - loss: 5.6669 \n",
      "Epoch 11/50\n",
      "\u001b[1m6/6\u001b[0m \u001b[32m━━━━━━━━━━━━━━━━━━━━\u001b[0m\u001b[37m\u001b[0m \u001b[1m0s\u001b[0m 9ms/step - accuracy: 0.1081 - loss: 5.7687 \n",
      "Epoch 12/50\n",
      "\u001b[1m6/6\u001b[0m \u001b[32m━━━━━━━━━━━━━━━━━━━━\u001b[0m\u001b[37m\u001b[0m \u001b[1m0s\u001b[0m 9ms/step - accuracy: 0.1332 - loss: 5.2250 \n",
      "Epoch 13/50\n",
      "\u001b[1m6/6\u001b[0m \u001b[32m━━━━━━━━━━━━━━━━━━━━\u001b[0m\u001b[37m\u001b[0m \u001b[1m0s\u001b[0m 9ms/step - accuracy: 0.0551 - loss: 5.6737     \n",
      "Epoch 14/50\n",
      "\u001b[1m6/6\u001b[0m \u001b[32m━━━━━━━━━━━━━━━━━━━━\u001b[0m\u001b[37m\u001b[0m \u001b[1m0s\u001b[0m 9ms/step - accuracy: 0.1146 - loss: 5.2335 \n",
      "Epoch 15/50\n",
      "\u001b[1m6/6\u001b[0m \u001b[32m━━━━━━━━━━━━━━━━━━━━\u001b[0m\u001b[37m\u001b[0m \u001b[1m0s\u001b[0m 9ms/step - accuracy: 0.1889 - loss: 5.1509 \n",
      "Epoch 16/50\n",
      "\u001b[1m6/6\u001b[0m \u001b[32m━━━━━━━━━━━━━━━━━━━━\u001b[0m\u001b[37m\u001b[0m \u001b[1m0s\u001b[0m 9ms/step - accuracy: 0.1894 - loss: 5.1918 \n",
      "Epoch 17/50\n",
      "\u001b[1m6/6\u001b[0m \u001b[32m━━━━━━━━━━━━━━━━━━━━\u001b[0m\u001b[37m\u001b[0m \u001b[1m0s\u001b[0m 9ms/step - accuracy: 0.1693 - loss: 5.1573 \n",
      "Epoch 18/50\n",
      "\u001b[1m6/6\u001b[0m \u001b[32m━━━━━━━━━━━━━━━━━━━━\u001b[0m\u001b[37m\u001b[0m \u001b[1m0s\u001b[0m 10ms/step - accuracy: 0.1855 - loss: 5.1394\n",
      "Epoch 19/50\n",
      "\u001b[1m6/6\u001b[0m \u001b[32m━━━━━━━━━━━━━━━━━━━━\u001b[0m\u001b[37m\u001b[0m \u001b[1m0s\u001b[0m 9ms/step - accuracy: 0.3243 - loss: 4.8288 \n",
      "Epoch 20/50\n",
      "\u001b[1m6/6\u001b[0m \u001b[32m━━━━━━━━━━━━━━━━━━━━\u001b[0m\u001b[37m\u001b[0m \u001b[1m0s\u001b[0m 9ms/step - accuracy: 0.2636 - loss: 5.0042 \n",
      "Epoch 21/50\n",
      "\u001b[1m6/6\u001b[0m \u001b[32m━━━━━━━━━━━━━━━━━━━━\u001b[0m\u001b[37m\u001b[0m \u001b[1m0s\u001b[0m 9ms/step - accuracy: 0.2781 - loss: 4.5930 \n",
      "Epoch 22/50\n",
      "\u001b[1m6/6\u001b[0m \u001b[32m━━━━━━━━━━━━━━━━━━━━\u001b[0m\u001b[37m\u001b[0m \u001b[1m0s\u001b[0m 9ms/step - accuracy: 0.2185 - loss: 4.8348 \n",
      "Epoch 23/50\n",
      "\u001b[1m6/6\u001b[0m \u001b[32m━━━━━━━━━━━━━━━━━━━━\u001b[0m\u001b[37m\u001b[0m \u001b[1m0s\u001b[0m 9ms/step - accuracy: 0.2172 - loss: 4.9582 \n",
      "Epoch 24/50\n",
      "\u001b[1m6/6\u001b[0m \u001b[32m━━━━━━━━━━━━━━━━━━━━\u001b[0m\u001b[37m\u001b[0m \u001b[1m0s\u001b[0m 9ms/step - accuracy: 0.3540 - loss: 4.7727 \n",
      "Epoch 25/50\n",
      "\u001b[1m6/6\u001b[0m \u001b[32m━━━━━━━━━━━━━━━━━━━━\u001b[0m\u001b[37m\u001b[0m \u001b[1m0s\u001b[0m 9ms/step - accuracy: 0.2742 - loss: 4.6397 \n",
      "Epoch 26/50\n",
      "\u001b[1m6/6\u001b[0m \u001b[32m━━━━━━━━━━━━━━━━━━━━\u001b[0m\u001b[37m\u001b[0m \u001b[1m0s\u001b[0m 9ms/step - accuracy: 0.2901 - loss: 4.7177 \n",
      "Epoch 27/50\n",
      "\u001b[1m6/6\u001b[0m \u001b[32m━━━━━━━━━━━━━━━━━━━━\u001b[0m\u001b[37m\u001b[0m \u001b[1m0s\u001b[0m 9ms/step - accuracy: 0.3063 - loss: 4.4811 \n",
      "Epoch 28/50\n",
      "\u001b[1m6/6\u001b[0m \u001b[32m━━━━━━━━━━━━━━━━━━━━\u001b[0m\u001b[37m\u001b[0m \u001b[1m0s\u001b[0m 9ms/step - accuracy: 0.1567 - loss: 4.5745 \n",
      "Epoch 29/50\n",
      "\u001b[1m6/6\u001b[0m \u001b[32m━━━━━━━━━━━━━━━━━━━━\u001b[0m\u001b[37m\u001b[0m \u001b[1m0s\u001b[0m 9ms/step - accuracy: 0.6238 - loss: 4.1458 \n",
      "Epoch 30/50\n",
      "\u001b[1m6/6\u001b[0m \u001b[32m━━━━━━━━━━━━━━━━━━━━\u001b[0m\u001b[37m\u001b[0m \u001b[1m0s\u001b[0m 9ms/step - accuracy: 0.2836 - loss: 4.5594 \n",
      "Epoch 31/50\n",
      "\u001b[1m6/6\u001b[0m \u001b[32m━━━━━━━━━━━━━━━━━━━━\u001b[0m\u001b[37m\u001b[0m \u001b[1m0s\u001b[0m 9ms/step - accuracy: 0.3314 - loss: 4.4308 \n",
      "Epoch 32/50\n",
      "\u001b[1m6/6\u001b[0m \u001b[32m━━━━━━━━━━━━━━━━━━━━\u001b[0m\u001b[37m\u001b[0m \u001b[1m0s\u001b[0m 9ms/step - accuracy: 0.4040 - loss: 4.2626 \n",
      "Epoch 33/50\n",
      "\u001b[1m6/6\u001b[0m \u001b[32m━━━━━━━━━━━━━━━━━━━━\u001b[0m\u001b[37m\u001b[0m \u001b[1m0s\u001b[0m 9ms/step - accuracy: 0.4838 - loss: 4.2021 \n",
      "Epoch 34/50\n",
      "\u001b[1m6/6\u001b[0m \u001b[32m━━━━━━━━━━━━━━━━━━━━\u001b[0m\u001b[37m\u001b[0m \u001b[1m0s\u001b[0m 9ms/step - accuracy: 0.3223 - loss: 4.1346 \n",
      "Epoch 35/50\n",
      "\u001b[1m6/6\u001b[0m \u001b[32m━━━━━━━━━━━━━━━━━━━━\u001b[0m\u001b[37m\u001b[0m \u001b[1m0s\u001b[0m 9ms/step - accuracy: 0.5503 - loss: 3.7796 \n",
      "Epoch 36/50\n",
      "\u001b[1m6/6\u001b[0m \u001b[32m━━━━━━━━━━━━━━━━━━━━\u001b[0m\u001b[37m\u001b[0m \u001b[1m0s\u001b[0m 9ms/step - accuracy: 0.4972 - loss: 4.0666 \n",
      "Epoch 37/50\n",
      "\u001b[1m6/6\u001b[0m \u001b[32m━━━━━━━━━━━━━━━━━━━━\u001b[0m\u001b[37m\u001b[0m \u001b[1m0s\u001b[0m 8ms/step - accuracy: 0.5623 - loss: 3.8536 \n",
      "Epoch 38/50\n",
      "\u001b[1m6/6\u001b[0m \u001b[32m━━━━━━━━━━━━━━━━━━━━\u001b[0m\u001b[37m\u001b[0m \u001b[1m0s\u001b[0m 9ms/step - accuracy: 0.3217 - loss: 4.0497 \n",
      "Epoch 39/50\n",
      "\u001b[1m6/6\u001b[0m \u001b[32m━━━━━━━━━━━━━━━━━━━━\u001b[0m\u001b[37m\u001b[0m \u001b[1m0s\u001b[0m 9ms/step - accuracy: 0.4982 - loss: 3.7946 \n",
      "Epoch 40/50\n",
      "\u001b[1m6/6\u001b[0m \u001b[32m━━━━━━━━━━━━━━━━━━━━\u001b[0m\u001b[37m\u001b[0m \u001b[1m0s\u001b[0m 10ms/step - accuracy: 0.4917 - loss: 3.8585\n",
      "Epoch 41/50\n",
      "\u001b[1m6/6\u001b[0m \u001b[32m━━━━━━━━━━━━━━━━━━━━\u001b[0m\u001b[37m\u001b[0m \u001b[1m0s\u001b[0m 9ms/step - accuracy: 0.4428 - loss: 3.9808 \n",
      "Epoch 42/50\n",
      "\u001b[1m6/6\u001b[0m \u001b[32m━━━━━━━━━━━━━━━━━━━━\u001b[0m\u001b[37m\u001b[0m \u001b[1m0s\u001b[0m 10ms/step - accuracy: 0.6263 - loss: 3.5329\n",
      "Epoch 43/50\n",
      "\u001b[1m6/6\u001b[0m \u001b[32m━━━━━━━━━━━━━━━━━━━━\u001b[0m\u001b[37m\u001b[0m \u001b[1m0s\u001b[0m 9ms/step - accuracy: 0.4971 - loss: 3.8364 \n",
      "Epoch 44/50\n",
      "\u001b[1m6/6\u001b[0m \u001b[32m━━━━━━━━━━━━━━━━━━━━\u001b[0m\u001b[37m\u001b[0m \u001b[1m0s\u001b[0m 10ms/step - accuracy: 0.5663 - loss: 3.6897\n",
      "Epoch 45/50\n",
      "\u001b[1m6/6\u001b[0m \u001b[32m━━━━━━━━━━━━━━━━━━━━\u001b[0m\u001b[37m\u001b[0m \u001b[1m0s\u001b[0m 9ms/step - accuracy: 0.7946 - loss: 3.2729 \n",
      "Epoch 46/50\n",
      "\u001b[1m6/6\u001b[0m \u001b[32m━━━━━━━━━━━━━━━━━━━━\u001b[0m\u001b[37m\u001b[0m \u001b[1m0s\u001b[0m 9ms/step - accuracy: 0.6261 - loss: 3.6129 \n",
      "Epoch 47/50\n",
      "\u001b[1m6/6\u001b[0m \u001b[32m━━━━━━━━━━━━━━━━━━━━\u001b[0m\u001b[37m\u001b[0m \u001b[1m0s\u001b[0m 9ms/step - accuracy: 0.5845 - loss: 3.5359 \n",
      "Epoch 48/50\n",
      "\u001b[1m6/6\u001b[0m \u001b[32m━━━━━━━━━━━━━━━━━━━━\u001b[0m\u001b[37m\u001b[0m \u001b[1m0s\u001b[0m 10ms/step - accuracy: 0.7751 - loss: 3.3340\n",
      "Epoch 49/50\n",
      "\u001b[1m6/6\u001b[0m \u001b[32m━━━━━━━━━━━━━━━━━━━━\u001b[0m\u001b[37m\u001b[0m \u001b[1m0s\u001b[0m 9ms/step - accuracy: 0.6162 - loss: 3.3785 \n",
      "Epoch 50/50\n",
      "\u001b[1m6/6\u001b[0m \u001b[32m━━━━━━━━━━━━━━━━━━━━\u001b[0m\u001b[37m\u001b[0m \u001b[1m0s\u001b[0m 9ms/step - accuracy: 0.6206 - loss: 3.3112 \n"
     ]
    },
    {
     "data": {
      "image/png": "[encoded data removed]",
      "text/plain": [
       "<Figure size 1200x500 with 2 Axes>"
      ]
     },
     "metadata": {},
     "output_type": "display_data"
    }
   ],
   "source": [
    "if __name__ == \"__main__\":\n",
    "    main()"
   ]
  }
 ],
 "metadata": {
  "kaggle": {
   "accelerator": "nvidiaTeslaT4",
   "dataSources": [
    {
     "datasetId": 3761060,
     "sourceId": 6505594,
     "sourceType": "datasetVersion"
    }
   ],
   "dockerImageVersionId": 31011,
   "isGpuEnabled": true,
   "isInternetEnabled": true,
   "language": "python",
   "sourceType": "notebook"
  },
  "kernelspec": {
   "display_name": "Python 3",
   "language": "python",
   "name": "python3"
  },
  "language_info": {
   "codemirror_mode": {
    "name": "ipython",
    "version": 3
   },
   "file_extension": ".py",
   "mimetype": "text/x-python",
   "name": "python",
   "nbconvert_exporter": "python",
   "pygments_lexer": "ipython3",
   "version": "3.11.11"
  },
  "papermill": {
   "default_parameters": {},
   "duration": 51.356182,
   "end_time": "2025-05-15T17:33:52.526003",
   "environment_variables": {},
   "exception": null,
   "input_path": "__notebook__.ipynb",
   "output_path": "__notebook__.ipynb",
   "parameters": {},
   "start_time": "2025-05-15T17:33:01.169821",
   "version": "2.6.0"
  }
 },
 "nbformat": 4,
 "nbformat_minor": 5
}
