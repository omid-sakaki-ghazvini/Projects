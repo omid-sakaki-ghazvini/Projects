{
  "nbformat": 4,
  "nbformat_minor": 0,
  "metadata": {
    "colab": {
      "provenance": [],
      "gpuType": "T4"
    },
    "kernelspec": {
      "name": "python3",
      "display_name": "Python 3"
    },
    "language_info": {
      "name": "python"
    },
    "accelerator": "GPU"
  },
  "cells": [
    {
      "cell_type": "markdown",
      "source": [
        "# **1-Installation & Setup**"
      ],
      "metadata": {
        "id": "jYxp2Xzb-in-"
      }
    },
    {
      "cell_type": "code",
      "source": [
        "%%capture\n",
        "!pip install kagglehub torchgeometry tqdm matplotlib\n",
        "!pip install torch torchvision opencv-python\n",
        "!pip install tensorboardX"
      ],
      "metadata": {
        "id": "L-f-JH96gMA6"
      },
      "execution_count": 1,
      "outputs": []
    },
    {
      "cell_type": "code",
      "source": [
        "# Mount Google Drive\n",
        "from google.colab import drive\n",
        "drive.mount('/content/drive')"
      ],
      "metadata": {
        "id": "zdisHYtQgUMY"
      },
      "execution_count": null,
      "outputs": []
    },
    {
      "cell_type": "markdown",
      "source": [
        "# **2-Kaggle Integration**"
      ],
      "metadata": {
        "id": "EhkcDqNP-pZu"
      }
    },
    {
      "cell_type": "code",
      "source": [
        "# Upload kaggle.json\n",
        "from google.colab import files\n",
        "uploaded = files.upload()"
      ],
      "metadata": {
        "id": "H24RFfNggaMR"
      },
      "execution_count": null,
      "outputs": []
    },
    {
      "cell_type": "code",
      "source": [
        "# Set up Kaggle credentials\n",
        "!mkdir -p ~/.kaggle\n",
        "!mv kaggle.json ~/.kaggle/\n",
        "!chmod 600 ~/.kaggle/kaggle.json"
      ],
      "metadata": {
        "id": "yo1tdr9bgdyK"
      },
      "execution_count": 4,
      "outputs": []
    },
    {
      "cell_type": "code",
      "source": [
        "import kagglehub\n",
        "import pandas as pd\n",
        "import os\n",
        "from tqdm import tqdm\n",
        "import matplotlib.pyplot as plt"
      ],
      "metadata": {
        "id": "ayQpNxJughhS"
      },
      "execution_count": 5,
      "outputs": []
    },
    {
      "cell_type": "code",
      "source": [
        "# Download and unzip datasets\n",
        "!kaggle datasets download -d marquis03/high-resolution-viton-zalando-dataset -p /content/data --unzip"
      ],
      "metadata": {
        "id": "HsjTjXG6gq6y"
      },
      "execution_count": null,
      "outputs": []
    },
    {
      "cell_type": "markdown",
      "source": [
        "# **3-Directory Preparation**"
      ],
      "metadata": {
        "id": "XH-8MVPl-v73"
      }
    },
    {
      "cell_type": "code",
      "source": [
        "# Create test directories\n",
        "os.makedirs(\"/content/data/test/image\", exist_ok=True)\n",
        "os.makedirs(\"/content/data/test/cloth\", exist_ok=True)"
      ],
      "metadata": {
        "id": "7o0lfSr4gwK5"
      },
      "execution_count": 7,
      "outputs": []
    },
    {
      "cell_type": "markdown",
      "source": [
        "# **4-Repository Cloning**"
      ],
      "metadata": {
        "id": "x47qTWro-11S"
      }
    },
    {
      "cell_type": "code",
      "source": [
        "!rm -rf /content/HR-VITON"
      ],
      "metadata": {
        "id": "8-7_zZsA0DA5"
      },
      "execution_count": 8,
      "outputs": []
    },
    {
      "cell_type": "code",
      "source": [
        "!git clone https://github.com/sangyun884/HR-VITON.git"
      ],
      "metadata": {
        "id": "SBmTK5BZzH-4"
      },
      "execution_count": null,
      "outputs": []
    },
    {
      "cell_type": "code",
      "source": [
        "# Verify test_generator.py exists\n",
        "print(\"\\nChecking for test_generator.py:\")\n",
        "!ls -lh /content/HR-VITON/test_generator.py"
      ],
      "metadata": {
        "id": "qODhFv1_jiAR"
      },
      "execution_count": null,
      "outputs": []
    },
    {
      "cell_type": "markdown",
      "source": [
        "# **5-Dataset Handling**"
      ],
      "metadata": {
        "id": "yWmjD7nz-86n"
      }
    },
    {
      "cell_type": "code",
      "source": [
        "# Create pairs file\n",
        "image = [\"00013_00.jpg\", \"00017_00.jpg\"]\n",
        "clothes = [\"00006_00.jpg\", \"00008_00.jpg\"]\n",
        "\n",
        "pd.DataFrame({\"image\":image, \"clothes\":clothes}).to_csv(\"/content/data/pairs1.txt\", index=False, header=False, sep=\" \")"
      ],
      "metadata": {
        "id": "6Yk3PjUog3t4"
      },
      "execution_count": 11,
      "outputs": []
    },
    {
      "cell_type": "markdown",
      "source": [
        "# **6-Model Weights**"
      ],
      "metadata": {
        "id": "TmjOIyBw_Dzn"
      }
    },
    {
      "cell_type": "code",
      "source": [
        "!kaggle datasets download -d marquis03/hr-viton -p /content/\n",
        "!unzip /content/hr-viton.zip -d /content/HR-VITON/eval_models/weights/v0.1/"
      ],
      "metadata": {
        "id": "61NZBiqO4RdX"
      },
      "execution_count": null,
      "outputs": []
    },
    {
      "cell_type": "code",
      "source": [
        "!mkdir -p /content/HR-VITON/eval_models/weights/v0.1/"
      ],
      "metadata": {
        "id": "l1ztaK944VAH"
      },
      "execution_count": 16,
      "outputs": []
    },
    {
      "cell_type": "code",
      "source": [
        "!cp /content/HR-VITON/eval_models/weights/v0.1/mtviton.pth /content/HR-VITON/eval_models/weights/v0.1/\n",
        "!cp /content/HR-VITON/eval_models/weights/v0.1/gen.pth /content/HR-VITON/eval_models/weights/v0.1/"
      ],
      "metadata": {
        "id": "KUrLyOkZ5jEP"
      },
      "execution_count": null,
      "outputs": []
    },
    {
      "cell_type": "code",
      "source": [
        "!ls -lh /content/HR-VITON/eval_models/weights/v0.1/"
      ],
      "metadata": {
        "id": "MU3r3S8u6kB4"
      },
      "execution_count": null,
      "outputs": []
    },
    {
      "cell_type": "markdown",
      "source": [
        "# **7-Code Modifications**"
      ],
      "metadata": {
        "id": "Q2PwnnPP_OJR"
      }
    },
    {
      "cell_type": "code",
      "source": [
        "!sed -i 's/\\.astype(np\\.float)/\\.astype(float)/g' /content/HR-VITON/test_generator.py\n",
        "!sed -i 's/\\.astype(np\\.float)/\\.astype(float)/g' /content/HR-VITON/networks.py 2>/dev/null || echo \"No networks.py found\""
      ],
      "metadata": {
        "id": "pTay8xdr7F7I"
      },
      "execution_count": 22,
      "outputs": []
    },
    {
      "cell_type": "code",
      "source": [
        "!grep -n \"astype(float)\" /content/HR-VITON/test_generator.py"
      ],
      "metadata": {
        "id": "u4abrojG7LRu"
      },
      "execution_count": null,
      "outputs": []
    },
    {
      "cell_type": "markdown",
      "source": [
        "# **8-Execution**"
      ],
      "metadata": {
        "id": "K7UkieS__U2W"
      }
    },
    {
      "cell_type": "code",
      "source": [
        "!cd /content/HR-VITON && python test_generator.py \\\n",
        "    --dataroot /content/data \\\n",
        "    --data_list /content/data/pairs1.txt \\\n",
        "    --output_dir /content/output \\\n",
        "    --tocg_checkpoint /content/HR-VITON/eval_models/weights/v0.1/mtviton.pth \\\n",
        "    --gen_checkpoint /content/HR-VITON/eval_models/weights/v0.1/gen.pth \\\n",
        "    --gpu_ids 0 \\\n",
        "    --occlusion"
      ],
      "metadata": {
        "id": "fiBs6Jrwhyuo"
      },
      "execution_count": null,
      "outputs": []
    },
    {
      "cell_type": "markdown",
      "source": [
        "# **9-Visualization**"
      ],
      "metadata": {
        "id": "asVUiNdn_Z9X"
      }
    },
    {
      "cell_type": "code",
      "source": [
        "import os\n",
        "from PIL import Image\n",
        "import matplotlib.pyplot as plt\n",
        "from tqdm import tqdm\n",
        "import numpy as np\n",
        "\n",
        "plt.figure(figsize=(12, 6*len(image)))\n",
        "grid = plt.GridSpec(len(image), 3, wspace=0.1, hspace=0.3)\n",
        "\n",
        "for idx in tqdm(range(len(image))):\n",
        "    try:\n",
        "        img_ori = plt.imread(f\"/content/data/test/image/{image[idx]}\")\n",
        "        cloth = plt.imread(f\"/content/data/test/cloth/{clothes[idx]}\")\n",
        "\n",
        "        base_name = f\"{image[idx].split('.')[0]}_{clothes[idx].split('.')[0]}\"\n",
        "        output_files = [f for f in os.listdir(\"/content/output\") if f.startswith(base_name)]\n",
        "\n",
        "        if not output_files:\n",
        "            raise FileNotFoundError(f\"No output file found for {base_name}\")\n",
        "\n",
        "        output_path = f\"/content/output/{output_files[0]}\"\n",
        "        try:\n",
        "            img_new = plt.imread(output_path)\n",
        "        except:\n",
        "            img_new = np.array(Image.open(output_path))\n",
        "\n",
        "        plt.subplot(grid[idx, 0])\n",
        "        plt.imshow(img_ori)\n",
        "        plt.axis(\"off\")\n",
        "        plt.title(\"Original Person\", pad=10)\n",
        "\n",
        "        plt.subplot(grid[idx, 1])\n",
        "        plt.imshow(cloth)\n",
        "        plt.axis(\"off\")\n",
        "        plt.title(\"Clothing Item\", pad=10)\n",
        "\n",
        "        plt.subplot(grid[idx, 2])\n",
        "        plt.imshow(img_new)\n",
        "        plt.axis(\"off\")\n",
        "        plt.title(\"Generated\", pad=10)\n",
        "\n",
        "    except Exception as e:\n",
        "        print(f\"\\nError processing {image[idx]}: {str(e)}\")\n",
        "        continue\n",
        "\n",
        "plt.tight_layout()\n",
        "plt.show()"
      ],
      "metadata": {
        "id": "VqKOaZB7h2gY"
      },
      "execution_count": null,
      "outputs": []
    }
  ]
}