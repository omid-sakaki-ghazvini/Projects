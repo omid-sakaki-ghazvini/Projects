{
  "cells": [
    {
      "cell_type": "markdown",
      "source": [
        "# **1. Setup and Dependencies**"
      ],
      "metadata": {
        "id": "ZbLW3DeHdt_-"
      }
    },
    {
      "cell_type": "code",
      "source": [
        "%%capture\n",
        "!pip install -q --upgrade diffusers transformers scipy\n",
        "!pip uninstall googletrans -y\n",
        "!pip install googletrans==4.0.0rc1"
      ],
      "metadata": {
        "id": "gsCgxFHuVcgN"
      },
      "execution_count": null,
      "outputs": []
    },
    {
      "cell_type": "markdown",
      "source": [
        "# **2. Hugging Face Authentication**"
      ],
      "metadata": {
        "id": "_oeLaHdwd2iL"
      }
    },
    {
      "cell_type": "code",
      "source": [
        "from huggingface_hub import notebook_login\n",
        "notebook_login()"
      ],
      "metadata": {
        "id": "vxbi9ZRgd7R0"
      },
      "execution_count": null,
      "outputs": []
    },
    {
      "cell_type": "markdown",
      "source": [
        "# **3. Importing Required Libraries**"
      ],
      "metadata": {
        "id": "5ELYW-oEd_dU"
      }
    },
    {
      "cell_type": "code",
      "source": [
        "%matplotlib inline\n",
        "\n",
        "import matplotlib.pyplot as plt\n",
        "from matplotlib.pyplot import imshow\n",
        "from PIL import Image\n",
        "\n",
        "import torch\n",
        "from diffusers import StableDiffusionPipeline\n",
        "\n",
        "from googletrans import Translator"
      ],
      "metadata": {
        "colab": {
          "base_uri": "https://localhost:8080/",
          "height": 17,
          "referenced_widgets": [
            "20db54f69088405390456120abaeee53",
            "554856b76eda465491993b2accd5bdf5",
            "251e45f84fb74ddf9f1bd6bf0f989a1d",
            "e40b76788bff4dce81ce4441869029f6",
            "f5465ace68b5417aad9d5b0d151c3136",
            "97fd68f0ad5a4e81bcf67a2fe3e5bf74",
            "e3f1d85e02594d3381b8059dd654fddc",
            "9cde0bd2be6d49d8bf028a5c0ddb9454",
            "66b36ff8dffd49d6afd009b33a4ac91d",
            "71b1348f8a854c9abd27da42fa932fca",
            "8a5388eb6eea4947bdf97ce9a60d2d9c",
            "a1b7bd90164b48f1aca1e6b10e49d35f",
            "6e986fd8a63a4374a4205df72c5642a3",
            "e3c7e4ae3c6d4b52a7fda5900952e377",
            "9d0bc8e0c185445fa641f80a674c8e85",
            "c4dfdfbf15d5495c97545ca50a6d7c00",
            "264d26ca4782457a9c69811674a9f75b",
            "de9672c63a6c4e599c24d1e3e6a49232",
            "fd7c3b3607d541eb9ea5b8368119f8e3",
            "f827956cdaa1400fa4710a916f47941f"
          ]
        },
        "id": "LGVxROMlVyQs",
        "outputId": "93201d54-02a9-4b52-c3ca-1401e464f126"
      },
      "execution_count": null,
      "outputs": []
    },
    {
      "cell_type": "markdown",
      "source": [
        "# **4. Model Setup**"
      ],
      "metadata": {
        "id": "pMG-B8WJeE1s"
      }
    },
    {
      "cell_type": "code",
      "source": [
        "model_id = \"CompVis/stable-diffusion-v1-4\"\n",
        "device = \"cuda\"\n",
        "\n",
        "pipe = StableDiffusionPipeline.from_pretrained(model_id, use_auth_token=True)\n",
        "pipe = pipe.to(device)"
      ],
      "metadata": {
        "id": "_xDFeq9jWVpM"
      },
      "execution_count": null,
      "outputs": []
    },
    {
      "cell_type": "markdown",
      "source": [
        "# **5. Image Generation Function**"
      ],
      "metadata": {
        "id": "NfFb6MPheOKj"
      }
    },
    {
      "cell_type": "code",
      "source": [
        "def draw(prompt):\n",
        "    with torch.cuda.amp.autocast(True):\n",
        "        image = pipe(prompt, guidance_scale=7.5).images[0]\n",
        "\n",
        "    plt.figure(figsize=(10, 10))\n",
        "    plt.imshow(image)\n",
        "    plt.axis('off')\n",
        "    plt.show()\n",
        "    return"
      ],
      "metadata": {
        "id": "jiObIq8GXIjk"
      },
      "execution_count": null,
      "outputs": []
    },
    {
      "cell_type": "markdown",
      "source": [
        "# **6. Translating Text Prompts**"
      ],
      "metadata": {
        "id": "_pBcYK1JeUns"
      }
    },
    {
      "cell_type": "code",
      "source": [
        "translator = Translator()\n",
        "input_text = \"یک شرکت تعمیرات سخت افزار + آلبرت انیشتن در حال تعمیر یک لپ تاپ + شرکت پیشرفته در زمینه تعمیرات سخت افزار + ابزارهای بسیار پیشرفته\"\n",
        "input_text = translator.translate(input_text, dest='en')\n",
        "input_text = input_text.text\n",
        "print(input_text)"
      ],
      "metadata": {
        "id": "d4KNT2hGeY-V"
      },
      "execution_count": null,
      "outputs": []
    },
    {
      "cell_type": "markdown",
      "source": [
        "# **7. Running the Image Generation**"
      ],
      "metadata": {
        "id": "_Q7zYJ3aeezs"
      }
    },
    {
      "cell_type": "code",
      "source": [
        "draw(input_text)"
      ],
      "metadata": {
        "id": "ZpR4w4RCYwIU"
      },
      "execution_count": null,
      "outputs": []
    }
  ],
  "metadata": {
    "colab": {
      "provenance": [],
      "gpuType": "T4"
    },
    "kernelspec": {
      "display_name": "Python 3",
      "name": "python3"
    },
    "language_info": {
      "name": "python"
    },
    "accelerator": "GPU",
    "widgets": {
      "application/vnd.jupyter.widget-state+json": {
        "20db54f69088405390456120abaeee53": {
          "model_module": "@jupyter-widgets/controls",
          "model_name": "VBoxModel",
          "model_module_version": "1.5.0",
          "state": {}
        },
        "554856b76eda465491993b2accd5bdf5": {
          "model_module": "@jupyter-widgets/controls",
          "model_name": "HTMLModel",
          "model_module_version": "1.5.0",
          "state": {}
        },
        "251e45f84fb74ddf9f1bd6bf0f989a1d": {
          "model_module": "@jupyter-widgets/controls",
          "model_name": "PasswordModel",
          "model_module_version": "1.5.0",
          "state": {}
        },
        "e40b76788bff4dce81ce4441869029f6": {
          "model_module": "@jupyter-widgets/controls",
          "model_name": "CheckboxModel",
          "model_module_version": "1.5.0",
          "state": {}
        },
        "f5465ace68b5417aad9d5b0d151c3136": {
          "model_module": "@jupyter-widgets/controls",
          "model_name": "ButtonModel",
          "model_module_version": "1.5.0",
          "state": {}
        },
        "97fd68f0ad5a4e81bcf67a2fe3e5bf74": {
          "model_module": "@jupyter-widgets/controls",
          "model_name": "HTMLModel",
          "model_module_version": "1.5.0",
          "state": {}
        }
      }
    }
  },
  "nbformat": 4,
  "nbformat_minor": 0
}