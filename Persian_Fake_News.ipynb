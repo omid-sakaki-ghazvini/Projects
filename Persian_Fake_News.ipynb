{
  "cells": [
    {
      "cell_type": "markdown",
      "metadata": {
        "id": "view-in-github",
        "colab_type": "text"
      },
      "source": [
        "<a href=\"https://colab.research.google.com/github/omid-sakaki-ghazvini/Projects/blob/main/Persian_Fake_News.ipynb\" target=\"_parent\"><img src=\"https://colab.research.google.com/assets/colab-badge.svg\" alt=\"Open In Colab\"/></a>"
      ]
    },
    {
      "cell_type": "markdown",
      "id": "085b3923",
      "metadata": {
        "id": "085b3923"
      },
      "source": [
        "# 1. Install Dependencies and Setup"
      ]
    },
    {
      "cell_type": "markdown",
      "id": "e46cc135",
      "metadata": {
        "id": "e46cc135"
      },
      "source": [
        "<div style=\"direction:rtl\">\n",
        "<font color='green' size=\"5px\">\n",
        " کتابخانه های مورد نیاز را نصب میکنیم\n",
        "    </font>\n",
        "</div>"
      ]
    },
    {
      "cell_type": "code",
      "execution_count": null,
      "id": "6d7f662c",
      "metadata": {
        "id": "6d7f662c"
      },
      "outputs": [],
      "source": [
        "import pandas as pd\n",
        "import numpy as np\n",
        "import matplotlib.pyplot as plt\n",
        "import seaborn as sns\n",
        "import itertools\n",
        "\n",
        "from keras.preprocessing.sequence import pad_sequences\n",
        "from tensorflow.keras.preprocessing.text import Tokenizer\n",
        "\n",
        "from sklearn.model_selection import train_test_split\n",
        "from sklearn.metrics import accuracy_score\n",
        "\n",
        "from sklearn.tree import DecisionTreeClassifier\n",
        "from sklearn.ensemble import RandomForestClassifier, AdaBoostClassifier, GradientBoostingClassifier\n",
        "from sklearn.svm import SVC\n",
        "from catboost import CatBoostClassifier\n",
        "from xgboost import XGBClassifier\n",
        "from lightgbm import LGBMClassifier\n",
        "\n",
        "from keras.preprocessing.sequence import pad_sequences\n",
        "from tensorflow.keras.preprocessing.text import Tokenizer\n",
        "from tensorflow.keras.callbacks import EarlyStopping\n",
        "from keras import backend as K\n",
        "from keras.utils import to_categorical\n",
        "from keras.layers import Input, Embedding, Activation, Flatten, Dense\n",
        "from keras.layers import Conv1D, MaxPooling1D, Dropout\n",
        "from keras.models import Model\n",
        "\n",
        "import warnings\n",
        "\n",
        "warnings.filterwarnings('ignore')"
      ]
    },
    {
      "cell_type": "markdown",
      "id": "fd3a50f9",
      "metadata": {
        "id": "fd3a50f9"
      },
      "source": [
        "<div style=\"direction:rtl\">\n",
        "<font color='green' size=\"5px\">\n",
        " از لینک زیر دیتاست را دانلود کرده و در پوشه هم مسیر همین ژوپیتر نوت بوک قرار دهید\n",
        "    </font>\n",
        "</div>"
      ]
    },
    {
      "cell_type": "markdown",
      "id": "def1ee54",
      "metadata": {
        "id": "def1ee54"
      },
      "source": [
        "## https://www.kaggle.com/datasets/omidsakaki1370/persian-fake-corona-news"
      ]
    },
    {
      "cell_type": "markdown",
      "id": "3b01a837",
      "metadata": {
        "id": "3b01a837"
      },
      "source": [
        "# 2. Load Data"
      ]
    },
    {
      "cell_type": "markdown",
      "id": "8fb2e15f",
      "metadata": {
        "id": "8fb2e15f"
      },
      "source": [
        "<div style=\"direction:rtl\">\n",
        "<font color='green' size=\"5px\">\n",
        "توسط خط فرمان زیر، دیتا را فراخوانی میکنیم\n",
        "    </font>\n",
        "</div>"
      ]
    },
    {
      "cell_type": "code",
      "execution_count": null,
      "id": "f0bdded7",
      "metadata": {
        "id": "f0bdded7"
      },
      "outputs": [],
      "source": [
        "df = pd.read_csv('/kaggle/input/persian-fake-corona-news/CoronaALL.csv',sep='\\t')\n",
        "df.head()"
      ]
    },
    {
      "cell_type": "code",
      "execution_count": null,
      "id": "04f19902",
      "metadata": {
        "id": "04f19902"
      },
      "outputs": [],
      "source": [
        "df = df.drop(columns=['Unnamed: 0'])\n",
        "df = df[df[\"Class\"]!=2]\n",
        "df.info()"
      ]
    },
    {
      "cell_type": "code",
      "execution_count": null,
      "id": "f2d848f1",
      "metadata": {
        "id": "f2d848f1"
      },
      "outputs": [],
      "source": [
        "df = df.dropna()\n",
        "df.describe()"
      ]
    },
    {
      "cell_type": "markdown",
      "id": "9074a514",
      "metadata": {
        "id": "9074a514"
      },
      "source": [
        "# 4.Data Analysis"
      ]
    },
    {
      "cell_type": "code",
      "execution_count": null,
      "id": "26eacb7c",
      "metadata": {
        "id": "26eacb7c"
      },
      "outputs": [],
      "source": [
        "sns.countplot(data = df, x = df['Class']);"
      ]
    },
    {
      "cell_type": "code",
      "execution_count": null,
      "id": "52b883a7",
      "metadata": {
        "id": "52b883a7"
      },
      "outputs": [],
      "source": [
        "df['Class_Names']=df['Class'].map({0:'Posetive',1:'Negetive'})"
      ]
    },
    {
      "cell_type": "code",
      "execution_count": null,
      "id": "7af59b78",
      "metadata": {
        "id": "7af59b78"
      },
      "outputs": [],
      "source": [
        "plt.figure(figsize=(5, 5))\n",
        "palette_color = sns.color_palette('pastel')\n",
        "explode = [0.1 for _ in range(df['Class_Names'].nunique())]\n",
        "\n",
        "target_counts = df.groupby('Class_Names')['Class_Names'].count()\n",
        "\n",
        "target_counts.plot.pie(\n",
        "    colors=palette_color,\n",
        "    explode=explode,\n",
        "    autopct=\"%1.1f%%\",\n",
        "    shadow=True,\n",
        "    startangle=140,\n",
        "    textprops={'fontsize': 14},\n",
        "    wedgeprops={'edgecolor': 'black', 'linewidth': 1.5}\n",
        ")\n",
        "\n",
        "plt.title('Class Names Distribution', fontsize=18, weight='bold')\n",
        "plt.axis('equal')\n",
        "plt.show()"
      ]
    },
    {
      "cell_type": "markdown",
      "id": "986f48f2",
      "metadata": {
        "id": "986f48f2"
      },
      "source": [
        "# 3.Data preparation"
      ]
    },
    {
      "cell_type": "code",
      "execution_count": null,
      "id": "e3881501",
      "metadata": {
        "id": "e3881501"
      },
      "outputs": [],
      "source": [
        "max_fatures = 1500\n",
        "tokenizer = Tokenizer(num_words=max_fatures, split=' ')\n",
        "tokenizer.fit_on_texts(df['Text'].values)\n",
        "X = tokenizer.texts_to_sequences(df['Text'].values)\n",
        "X = pad_sequences(X,maxlen=150)\n",
        "\n",
        "y=df['Class']"
      ]
    },
    {
      "cell_type": "markdown",
      "id": "0bc6f22c",
      "metadata": {
        "id": "0bc6f22c"
      },
      "source": [
        "# 4. Split & Scale Data"
      ]
    },
    {
      "cell_type": "code",
      "execution_count": null,
      "id": "458dc72a",
      "metadata": {
        "id": "458dc72a"
      },
      "outputs": [],
      "source": [
        "X_train, X_test, y_train, y_test = train_test_split(X,y, test_size=0.2)\n",
        "\n",
        "print(X_train.shape)\n",
        "print(X_test.shape)\n",
        "print(y_train.shape)\n",
        "print(y_test.shape)"
      ]
    },
    {
      "cell_type": "markdown",
      "id": "4c920ee5",
      "metadata": {
        "id": "4c920ee5"
      },
      "source": [
        "# 5. Build ML Models"
      ]
    },
    {
      "cell_type": "code",
      "execution_count": null,
      "id": "9d8a93bf",
      "metadata": {
        "id": "9d8a93bf"
      },
      "outputs": [],
      "source": [
        "models = {\n",
        "    'TREE': DecisionTreeClassifier(),\n",
        "    'RF' : RandomForestClassifier(),\n",
        "    'SVM': SVC(),\n",
        "    'AdaBoost': AdaBoostClassifier(),\n",
        "    'GradBoost': GradientBoostingClassifier(),\n",
        "    'CATBoost': CatBoostClassifier(),\n",
        "    'XGBCL': XGBClassifier(),\n",
        "    'LGBMCL': LGBMClassifier()\n",
        "}\n",
        "\n",
        "result = {}\n",
        "\n",
        "for name, model in models.items():\n",
        "    model.fit(X_train, y_train)\n",
        "    y_pred = model.predict(X_test)\n",
        "\n",
        "    accuracy = accuracy_score(y_test, y_pred)\n",
        "\n",
        "    result[name]={\n",
        "        'Accuracy':accuracy\n",
        "    }\n",
        "\n",
        "result_df = pd.DataFrame(result).T"
      ]
    },
    {
      "cell_type": "code",
      "execution_count": null,
      "id": "415525f4",
      "metadata": {
        "id": "415525f4"
      },
      "outputs": [],
      "source": [
        "result_df"
      ]
    },
    {
      "cell_type": "code",
      "execution_count": null,
      "id": "dab1dd25",
      "metadata": {
        "id": "dab1dd25"
      },
      "outputs": [],
      "source": [
        "plt.figure(figsize=(10,6))\n",
        "\n",
        "plt.title(\"Results\")\n",
        "\n",
        "sns.lineplot(result_df)\n",
        "\n",
        "plt.ylabel(\"Accuracy\");"
      ]
    },
    {
      "cell_type": "markdown",
      "id": "a4557b3c",
      "metadata": {
        "id": "a4557b3c"
      },
      "source": [
        "# 6. Build CNN Models"
      ]
    },
    {
      "cell_type": "markdown",
      "id": "9b12649d",
      "metadata": {
        "id": "9b12649d"
      },
      "source": [
        "## 6.1. Creating Embedding Matrix"
      ]
    },
    {
      "cell_type": "code",
      "execution_count": null,
      "id": "e7554bf8",
      "metadata": {
        "id": "e7554bf8"
      },
      "outputs": [],
      "source": [
        "input_size = 150\n",
        "\n",
        "data = pad_sequences(X, maxlen=input_size)\n",
        "labels = to_categorical(labels)"
      ]
    },
    {
      "cell_type": "code",
      "execution_count": null,
      "id": "0b2051a9",
      "metadata": {
        "id": "0b2051a9"
      },
      "outputs": [],
      "source": [
        "vocab_size = len(tokenizer.word_index)\n",
        "embedding_weights = []\n",
        "embedding_weights.append(np.zeros(vocab_size))\n",
        "\n",
        "for char, i in tokenizer.word_index.items():\n",
        "    onehot = np.zeros(vocab_size)\n",
        "    onehot[i - 1] = 1\n",
        "    embedding_weights.append(onehot)\n",
        "\n",
        "embedding_weights = np.array(embedding_weights)\n",
        "\n",
        "embedding_layer = Embedding(vocab_size + 1, vocab_size, input_length=input_size, weights=[embedding_weights])"
      ]
    },
    {
      "cell_type": "markdown",
      "id": "d284a8fb",
      "metadata": {
        "id": "d284a8fb"
      },
      "source": [
        "## 6.2. Model Architecture"
      ]
    },
    {
      "cell_type": "code",
      "execution_count": null,
      "id": "dd8ab7bd",
      "metadata": {
        "id": "dd8ab7bd"
      },
      "outputs": [],
      "source": [
        "conv_layers = [[256, 7, 3],\n",
        "               [256, 7, 3],\n",
        "               [128, 3, -1],\n",
        "               [128, 3, -1],\n",
        "               [128, 3, -1],\n",
        "               [128, 3, 3]]\n",
        "\n",
        "fully_connected_layers = [128]\n",
        "num_of_classes = 2\n",
        "dropout_p = 0.5\n",
        "optimizer = 'adam'\n",
        "loss_type = 'categorical_crossentropy'"
      ]
    },
    {
      "cell_type": "code",
      "execution_count": null,
      "id": "51c041bb",
      "metadata": {
        "id": "51c041bb"
      },
      "outputs": [],
      "source": [
        "inputs = Input(shape=(input_size,), name='input', dtype='int64')\n",
        "x = embedding_layer(inputs)\n",
        "\n",
        "for filter_num, filter_size, pooling_size in conv_layers:\n",
        "    x = Conv1D(filter_num, filter_size)(x)\n",
        "    x = Dropout(dropout_p)(x)\n",
        "    x = Activation('relu')(x)\n",
        "    if pooling_size != -1:\n",
        "        x = MaxPooling1D(pool_size=pooling_size)(x)\n",
        "x = Flatten()(x)\n",
        "\n",
        "for dense_size in fully_connected_layers:\n",
        "    x = Dense(dense_size, activation='relu')(x)\n",
        "    x = Dropout(dropout_p)(x)\n",
        "\n",
        "predictions = Dense(num_of_classes, activation='softmax')(x)"
      ]
    },
    {
      "cell_type": "code",
      "execution_count": null,
      "id": "aa10329f",
      "metadata": {
        "id": "aa10329f"
      },
      "outputs": [],
      "source": [
        "early_stopping = EarlyStopping(monitor='val_loss', patience=10, restore_best_weights=True)\n",
        "model = Model(inputs=inputs, outputs=predictions)\n",
        "model.compile(optimizer=optimizer, loss=loss_type, metrics=['accuracy'])"
      ]
    },
    {
      "cell_type": "code",
      "execution_count": null,
      "id": "f50f530d",
      "metadata": {
        "id": "f50f530d"
      },
      "outputs": [],
      "source": [
        "hist=model.fit(X_train, y_train, epochs=100,validation_data=(X_test,y_test), batch_size=100, callbacks=[early_stopping])"
      ]
    },
    {
      "cell_type": "code",
      "execution_count": null,
      "id": "52a3e9b1",
      "metadata": {
        "id": "52a3e9b1"
      },
      "outputs": [],
      "source": [
        "hist\n",
        "plt.figure(0)\n",
        "plt.plot(hist.history['accuracy'],'r')\n",
        "plt.plot(hist.history['val_accuracy'],'g')\n",
        "plt.xticks(np.arange(0, 11, 2.0))\n",
        "plt.rcParams['figure.figsize'] = (8, 6)\n",
        "plt.xlabel(\"Num of Epochs\")\n",
        "plt.ylabel(\"Accuracy\")\n",
        "plt.title(\"Training Accuracy vs Validation Accuracy\")\n",
        "plt.legend(['train','validation'])\n",
        "\n",
        "plt.figure(1)\n",
        "plt.plot(hist.history['loss'],'r')\n",
        "plt.plot(hist.history['val_loss'],'g')\n",
        "plt.xticks(np.arange(0, 11, 2.0))\n",
        "plt.rcParams['figure.figsize'] = (8, 6)\n",
        "plt.xlabel(\"Num of Epochs\")\n",
        "plt.ylabel(\"Loss\")\n",
        "plt.title(\"Training Loss vs Validation Loss\")\n",
        "plt.legend(['train','validation'])\n",
        "\n",
        "plt.show()"
      ]
    },
    {
      "cell_type": "code",
      "execution_count": null,
      "id": "44a5c83e",
      "metadata": {
        "id": "44a5c83e"
      },
      "outputs": [],
      "source": [
        "prediction=model.predict(X_test)\n",
        "\n",
        "CNN_Model_accuracy = classification_report(np.argmax(prediction,axis=-1),np.argmax(y_test,axis=-1),output_dict=True)['accuracy']\n",
        "\n",
        "print('CNN Model Accuracy : ', CNN_Model_accuracy)"
      ]
    },
    {
      "cell_type": "code",
      "execution_count": null,
      "id": "8a9782ed",
      "metadata": {
        "id": "8a9782ed"
      },
      "outputs": [],
      "source": [
        "models = {\n",
        "    'TREE': [0.820557],\n",
        "    'RF' : [0.832482],\n",
        "    'SVM': [0.659852],\n",
        "    'AdaBoost': [0.586599],\n",
        "    'GradBoost': [0.674049],\n",
        "    'CATBoost': [0.805224],\n",
        "    'XGBCL': [0.829074],\n",
        "    'LGBMCL':  [0.805792],\n",
        "}"
      ]
    },
    {
      "cell_type": "code",
      "execution_count": null,
      "id": "1ae3a431",
      "metadata": {
        "id": "1ae3a431"
      },
      "outputs": [],
      "source": [
        "pd.DataFrame(models)"
      ]
    },
    {
      "cell_type": "code",
      "execution_count": null,
      "id": "cbe135ee",
      "metadata": {
        "id": "cbe135ee"
      },
      "outputs": [],
      "source": [
        "models.update({'CNN' : CNN_Model_accuracy})"
      ]
    },
    {
      "cell_type": "code",
      "execution_count": null,
      "id": "4eb38341",
      "metadata": {
        "id": "4eb38341"
      },
      "outputs": [],
      "source": [
        "result_df = pd.DataFrame(models, index = ['Accuracy']).T\n",
        "result_df"
      ]
    },
    {
      "cell_type": "code",
      "execution_count": null,
      "id": "a85ce3c9",
      "metadata": {
        "id": "a85ce3c9"
      },
      "outputs": [],
      "source": [
        "plt.figure(figsize=(10,6))\n",
        "\n",
        "plt.title(\"Results\")\n",
        "\n",
        "sns.lineplot(result_df)\n",
        "\n",
        "plt.ylabel(\"Accuracy\");"
      ]
    },
    {
      "cell_type": "markdown",
      "id": "b8f592d5",
      "metadata": {
        "id": "b8f592d5"
      },
      "source": [
        "## One of the most important disadvantages of convolutional networks is the presence of fully connected layers that include the largest number of learner parameters. These layers are responsible for learning the features extracted by convolutional layers. The fully connected layers in the convolutional network are computationally heavy and time-consuming, that's why in this notebook, instead of the fully connected layers, we use the support vector machine classifier and check the results."
      ]
    },
    {
      "cell_type": "markdown",
      "id": "199df8ad",
      "metadata": {
        "id": "199df8ad"
      },
      "source": [
        "## 7. CNN + ML models"
      ]
    },
    {
      "cell_type": "code",
      "execution_count": null,
      "id": "4b87719f",
      "metadata": {
        "id": "4b87719f"
      },
      "outputs": [],
      "source": [
        "layer_name = 'dense'\n",
        "model_feat = Model(inputs=model.input, outputs=model.get_layer(layer_name).output)\n",
        "\n",
        "feat_train = model_feat.predict(X_train)\n",
        "print(feat_train.shape)\n",
        "feat_test = model_feat.predict(X_test)\n",
        "print(feat_test.shape)"
      ]
    },
    {
      "cell_type": "code",
      "execution_count": null,
      "id": "701fee69",
      "metadata": {
        "id": "701fee69"
      },
      "outputs": [],
      "source": [
        "models = {\n",
        "    'TREE': DecisionTreeClassifier(),\n",
        "    'RF' : RandomForestClassifier(),\n",
        "    'SVM': SVC(),\n",
        "    'AdaBoost': AdaBoostClassifier(),\n",
        "    'GradBoost': GradientBoostingClassifier(),\n",
        "    'CATBoost': CatBoostClassifier(),\n",
        "    'XGBCL': XGBClassifier(),\n",
        "    'LGBMCL': LGBMClassifier()\n",
        "}\n",
        "\n",
        "result = {}\n",
        "\n",
        "for name, model in models.items():\n",
        "    model.fit(feat_train, np.argmax(y_train,axis=-1))\n",
        "    y_pred = model.predict(feat_test)\n",
        "\n",
        "    accuracy = accuracy_score(np.argmax(y_test,axis=-1), y_pred)\n",
        "\n",
        "    result[name]={\n",
        "        'Accuracy':accuracy\n",
        "    }\n",
        "\n",
        "result_df = pd.DataFrame(result).T"
      ]
    },
    {
      "cell_type": "markdown",
      "id": "4bf9713b",
      "metadata": {
        "id": "4bf9713b"
      },
      "source": [
        "# 8.Result"
      ]
    },
    {
      "cell_type": "code",
      "execution_count": null,
      "id": "da36efc1",
      "metadata": {
        "id": "da36efc1"
      },
      "outputs": [],
      "source": [
        "models = {\n",
        "    'TREE': [0.820557],\n",
        "    'RF' : [0.832482],\n",
        "    'SVM': [0.659852],\n",
        "    'AdaBoost': [0.586599],\n",
        "    'GradBoost': [0.674049],\n",
        "    'CATBoost': [0.805224],\n",
        "    'XGBCL': [0.829074],\n",
        "    'LGBMCL':  [0.805792],\n",
        "    'CNN' : [0.867121]\n",
        "}"
      ]
    },
    {
      "cell_type": "code",
      "execution_count": null,
      "id": "8889f061",
      "metadata": {
        "id": "8889f061"
      },
      "outputs": [],
      "source": [
        "Previous_results = pd.DataFrame(models, index = ['Previous_Accuracy']).T\n",
        "Previous_results"
      ]
    },
    {
      "cell_type": "code",
      "execution_count": null,
      "id": "1890cee1",
      "metadata": {
        "id": "1890cee1"
      },
      "outputs": [],
      "source": [
        "result_df"
      ]
    },
    {
      "cell_type": "code",
      "execution_count": null,
      "id": "94118159",
      "metadata": {
        "id": "94118159"
      },
      "outputs": [],
      "source": [
        "fig, axes = plt.subplots(1, 2, sharex=True, figsize=(20,5))\n",
        "\n",
        "sns.lineplot(Previous_results , ax=axes[0]);\n",
        "axes[0].set_title('Previous Results');\n",
        "\n",
        "sns.lineplot(result_df , ax=axes[1]);\n",
        "axes[1].set_title('Current Results');"
      ]
    }
  ],
  "metadata": {
    "kernelspec": {
      "display_name": "Python 3 (ipykernel)",
      "language": "python",
      "name": "python3"
    },
    "language_info": {
      "codemirror_mode": {
        "name": "ipython",
        "version": 3
      },
      "file_extension": ".py",
      "mimetype": "text/x-python",
      "name": "python",
      "nbconvert_exporter": "python",
      "pygments_lexer": "ipython3",
      "version": "3.11.5"
    },
    "colab": {
      "provenance": [],
      "include_colab_link": true
    }
  },
  "nbformat": 4,
  "nbformat_minor": 5
}